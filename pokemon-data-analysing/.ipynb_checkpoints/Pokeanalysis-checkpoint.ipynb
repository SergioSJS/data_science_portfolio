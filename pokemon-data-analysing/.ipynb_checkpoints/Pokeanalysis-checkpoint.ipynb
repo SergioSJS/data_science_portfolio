{
 "cells": [
  {
   "cell_type": "code",
   "execution_count": 5,
   "metadata": {},
   "outputs": [],
   "source": [
    "import numpy as np\n",
    "import pandas as pd\n",
    "import plotly.graph_objs as go\n",
    "import plotly.figure_factory as ff\n",
    "from plotly.subplots import make_subplots\n",
    "from IPython.display import Image\n",
    "\n",
    "poke = pd.read_csv('data/pokemon_alopez247.csv')"
   ]
  },
  {
   "cell_type": "markdown",
   "metadata": {},
   "source": [
    "## Dataset Features\n",
    "* **Number.** Pokémon ID in the Pokédex.\n",
    "* **Name.** Name of the Pokémon.\n",
    "* **Type_1.** Primary type.\n",
    "* **Type_2.** Second type, in case the Pokémon has it.\n",
    "* **Total.** Sum of all the base stats (Health Points, Attack, Defense, Special Attack, Special Defense, and Speed).\n",
    "* **HP.** Base Health Points.\n",
    "* **Attack.** Base Attack.\n",
    "* **Defense.** Base Defense.\n",
    "* **Sp_Atk.** Base Special Attack.\n",
    "* **Sp_Def.** Base Special Defense.\n",
    "* **Speed.** Base Speed.\n",
    "* **Generation.** Number of the generation when the Pokémon was introduced.\n",
    "* **isLegendary.** Boolean that indicates whether the Pokémon is Legendary or not.\n",
    "* **Color.** Color of the Pokémon according to the Pokédex.\n",
    "* **hasGender.** Boolean that indicates if the Pokémon can be classified as female or male.\n",
    "* **Pr_male.** In case the Pokémon has Gender, the probability of its being male. The probability of being female is, of course, 1 minus this value.\n",
    "* **Egg_Group_1.** Egg Group of the Pokémon.\n",
    "* **Egg_Group_2.** Second Egg Group of the Pokémon, in case it has two.\n",
    "* **hasMegaEvolution.** Boolean that indicates whether the Pokémon is able to Mega-evolve or not.\n",
    "* **Height_m.** Height of the Pokémon, in meters.\n",
    "* **Weight_kg.** Weight of the Pokémon, in kilograms.\n",
    "* **Catch_Rate.** Catch Rate.\n",
    "* **Body_Style.** Body Style of the Pokémon according to the Pokédex."
   ]
  },
  {
   "cell_type": "code",
   "execution_count": 2,
   "metadata": {},
   "outputs": [
    {
     "data": {
      "text/html": [
       "<div>\n",
       "<style scoped>\n",
       "    .dataframe tbody tr th:only-of-type {\n",
       "        vertical-align: middle;\n",
       "    }\n",
       "\n",
       "    .dataframe tbody tr th {\n",
       "        vertical-align: top;\n",
       "    }\n",
       "\n",
       "    .dataframe thead th {\n",
       "        text-align: right;\n",
       "    }\n",
       "</style>\n",
       "<table border=\"1\" class=\"dataframe\">\n",
       "  <thead>\n",
       "    <tr style=\"text-align: right;\">\n",
       "      <th></th>\n",
       "      <th>Number</th>\n",
       "      <th>Name</th>\n",
       "      <th>Type_1</th>\n",
       "      <th>Type_2</th>\n",
       "      <th>Total</th>\n",
       "      <th>HP</th>\n",
       "      <th>Attack</th>\n",
       "      <th>Defense</th>\n",
       "      <th>Sp_Atk</th>\n",
       "      <th>Sp_Def</th>\n",
       "      <th>...</th>\n",
       "      <th>Color</th>\n",
       "      <th>hasGender</th>\n",
       "      <th>Pr_Male</th>\n",
       "      <th>Egg_Group_1</th>\n",
       "      <th>Egg_Group_2</th>\n",
       "      <th>hasMegaEvolution</th>\n",
       "      <th>Height_m</th>\n",
       "      <th>Weight_kg</th>\n",
       "      <th>Catch_Rate</th>\n",
       "      <th>Body_Style</th>\n",
       "    </tr>\n",
       "  </thead>\n",
       "  <tbody>\n",
       "    <tr>\n",
       "      <th>0</th>\n",
       "      <td>1</td>\n",
       "      <td>Bulbasaur</td>\n",
       "      <td>Grass</td>\n",
       "      <td>Poison</td>\n",
       "      <td>318</td>\n",
       "      <td>45</td>\n",
       "      <td>49</td>\n",
       "      <td>49</td>\n",
       "      <td>65</td>\n",
       "      <td>65</td>\n",
       "      <td>...</td>\n",
       "      <td>Green</td>\n",
       "      <td>True</td>\n",
       "      <td>0.875</td>\n",
       "      <td>Monster</td>\n",
       "      <td>Grass</td>\n",
       "      <td>False</td>\n",
       "      <td>0.71</td>\n",
       "      <td>6.9</td>\n",
       "      <td>45</td>\n",
       "      <td>quadruped</td>\n",
       "    </tr>\n",
       "    <tr>\n",
       "      <th>1</th>\n",
       "      <td>2</td>\n",
       "      <td>Ivysaur</td>\n",
       "      <td>Grass</td>\n",
       "      <td>Poison</td>\n",
       "      <td>405</td>\n",
       "      <td>60</td>\n",
       "      <td>62</td>\n",
       "      <td>63</td>\n",
       "      <td>80</td>\n",
       "      <td>80</td>\n",
       "      <td>...</td>\n",
       "      <td>Green</td>\n",
       "      <td>True</td>\n",
       "      <td>0.875</td>\n",
       "      <td>Monster</td>\n",
       "      <td>Grass</td>\n",
       "      <td>False</td>\n",
       "      <td>0.99</td>\n",
       "      <td>13.0</td>\n",
       "      <td>45</td>\n",
       "      <td>quadruped</td>\n",
       "    </tr>\n",
       "    <tr>\n",
       "      <th>2</th>\n",
       "      <td>3</td>\n",
       "      <td>Venusaur</td>\n",
       "      <td>Grass</td>\n",
       "      <td>Poison</td>\n",
       "      <td>525</td>\n",
       "      <td>80</td>\n",
       "      <td>82</td>\n",
       "      <td>83</td>\n",
       "      <td>100</td>\n",
       "      <td>100</td>\n",
       "      <td>...</td>\n",
       "      <td>Green</td>\n",
       "      <td>True</td>\n",
       "      <td>0.875</td>\n",
       "      <td>Monster</td>\n",
       "      <td>Grass</td>\n",
       "      <td>True</td>\n",
       "      <td>2.01</td>\n",
       "      <td>100.0</td>\n",
       "      <td>45</td>\n",
       "      <td>quadruped</td>\n",
       "    </tr>\n",
       "    <tr>\n",
       "      <th>3</th>\n",
       "      <td>4</td>\n",
       "      <td>Charmander</td>\n",
       "      <td>Fire</td>\n",
       "      <td>NaN</td>\n",
       "      <td>309</td>\n",
       "      <td>39</td>\n",
       "      <td>52</td>\n",
       "      <td>43</td>\n",
       "      <td>60</td>\n",
       "      <td>50</td>\n",
       "      <td>...</td>\n",
       "      <td>Red</td>\n",
       "      <td>True</td>\n",
       "      <td>0.875</td>\n",
       "      <td>Monster</td>\n",
       "      <td>Dragon</td>\n",
       "      <td>False</td>\n",
       "      <td>0.61</td>\n",
       "      <td>8.5</td>\n",
       "      <td>45</td>\n",
       "      <td>bipedal_tailed</td>\n",
       "    </tr>\n",
       "    <tr>\n",
       "      <th>4</th>\n",
       "      <td>5</td>\n",
       "      <td>Charmeleon</td>\n",
       "      <td>Fire</td>\n",
       "      <td>NaN</td>\n",
       "      <td>405</td>\n",
       "      <td>58</td>\n",
       "      <td>64</td>\n",
       "      <td>58</td>\n",
       "      <td>80</td>\n",
       "      <td>65</td>\n",
       "      <td>...</td>\n",
       "      <td>Red</td>\n",
       "      <td>True</td>\n",
       "      <td>0.875</td>\n",
       "      <td>Monster</td>\n",
       "      <td>Dragon</td>\n",
       "      <td>False</td>\n",
       "      <td>1.09</td>\n",
       "      <td>19.0</td>\n",
       "      <td>45</td>\n",
       "      <td>bipedal_tailed</td>\n",
       "    </tr>\n",
       "  </tbody>\n",
       "</table>\n",
       "<p>5 rows × 23 columns</p>\n",
       "</div>"
      ],
      "text/plain": [
       "   Number        Name Type_1  Type_2  Total  HP  Attack  Defense  Sp_Atk  \\\n",
       "0       1   Bulbasaur  Grass  Poison    318  45      49       49      65   \n",
       "1       2     Ivysaur  Grass  Poison    405  60      62       63      80   \n",
       "2       3    Venusaur  Grass  Poison    525  80      82       83     100   \n",
       "3       4  Charmander   Fire     NaN    309  39      52       43      60   \n",
       "4       5  Charmeleon   Fire     NaN    405  58      64       58      80   \n",
       "\n",
       "   Sp_Def  ...  Color  hasGender  Pr_Male Egg_Group_1  Egg_Group_2  \\\n",
       "0      65  ...  Green       True    0.875     Monster        Grass   \n",
       "1      80  ...  Green       True    0.875     Monster        Grass   \n",
       "2     100  ...  Green       True    0.875     Monster        Grass   \n",
       "3      50  ...    Red       True    0.875     Monster       Dragon   \n",
       "4      65  ...    Red       True    0.875     Monster       Dragon   \n",
       "\n",
       "   hasMegaEvolution Height_m Weight_kg  Catch_Rate      Body_Style  \n",
       "0             False     0.71       6.9          45       quadruped  \n",
       "1             False     0.99      13.0          45       quadruped  \n",
       "2              True     2.01     100.0          45       quadruped  \n",
       "3             False     0.61       8.5          45  bipedal_tailed  \n",
       "4             False     1.09      19.0          45  bipedal_tailed  \n",
       "\n",
       "[5 rows x 23 columns]"
      ]
     },
     "execution_count": 2,
     "metadata": {},
     "output_type": "execute_result"
    }
   ],
   "source": [
    "poke.head()"
   ]
  },
  {
   "cell_type": "code",
   "execution_count": 168,
   "metadata": {},
   "outputs": [
    {
     "data": {
      "text/html": [
       "<div>\n",
       "<style scoped>\n",
       "    .dataframe tbody tr th:only-of-type {\n",
       "        vertical-align: middle;\n",
       "    }\n",
       "\n",
       "    .dataframe tbody tr th {\n",
       "        vertical-align: top;\n",
       "    }\n",
       "\n",
       "    .dataframe thead th {\n",
       "        text-align: right;\n",
       "    }\n",
       "</style>\n",
       "<table border=\"1\" class=\"dataframe\">\n",
       "  <thead>\n",
       "    <tr style=\"text-align: right;\">\n",
       "      <th></th>\n",
       "      <th>Number</th>\n",
       "      <th>Name</th>\n",
       "      <th>Type_1</th>\n",
       "      <th>Type_2</th>\n",
       "      <th>Total</th>\n",
       "      <th>HP</th>\n",
       "      <th>Attack</th>\n",
       "      <th>Defense</th>\n",
       "      <th>Sp_Atk</th>\n",
       "      <th>Sp_Def</th>\n",
       "      <th>...</th>\n",
       "      <th>Color</th>\n",
       "      <th>hasGender</th>\n",
       "      <th>Pr_Male</th>\n",
       "      <th>Egg_Group_1</th>\n",
       "      <th>Egg_Group_2</th>\n",
       "      <th>hasMegaEvolution</th>\n",
       "      <th>Height_m</th>\n",
       "      <th>Weight_kg</th>\n",
       "      <th>Catch_Rate</th>\n",
       "      <th>Body_Style</th>\n",
       "    </tr>\n",
       "  </thead>\n",
       "  <tbody>\n",
       "    <tr>\n",
       "      <th>716</th>\n",
       "      <td>717</td>\n",
       "      <td>Yveltal</td>\n",
       "      <td>Dark</td>\n",
       "      <td>Flying</td>\n",
       "      <td>680</td>\n",
       "      <td>126</td>\n",
       "      <td>131</td>\n",
       "      <td>95</td>\n",
       "      <td>131</td>\n",
       "      <td>98</td>\n",
       "      <td>...</td>\n",
       "      <td>Red</td>\n",
       "      <td>False</td>\n",
       "      <td>NaN</td>\n",
       "      <td>Undiscovered</td>\n",
       "      <td>NaN</td>\n",
       "      <td>False</td>\n",
       "      <td>5.79</td>\n",
       "      <td>203.0</td>\n",
       "      <td>45</td>\n",
       "      <td>two_wings</td>\n",
       "    </tr>\n",
       "    <tr>\n",
       "      <th>717</th>\n",
       "      <td>718</td>\n",
       "      <td>Zygarde</td>\n",
       "      <td>Dragon</td>\n",
       "      <td>Ground</td>\n",
       "      <td>600</td>\n",
       "      <td>108</td>\n",
       "      <td>100</td>\n",
       "      <td>121</td>\n",
       "      <td>81</td>\n",
       "      <td>95</td>\n",
       "      <td>...</td>\n",
       "      <td>Green</td>\n",
       "      <td>False</td>\n",
       "      <td>NaN</td>\n",
       "      <td>Undiscovered</td>\n",
       "      <td>NaN</td>\n",
       "      <td>False</td>\n",
       "      <td>5.00</td>\n",
       "      <td>305.0</td>\n",
       "      <td>3</td>\n",
       "      <td>serpentine_body</td>\n",
       "    </tr>\n",
       "    <tr>\n",
       "      <th>718</th>\n",
       "      <td>719</td>\n",
       "      <td>Diancie</td>\n",
       "      <td>Rock</td>\n",
       "      <td>Fairy</td>\n",
       "      <td>600</td>\n",
       "      <td>50</td>\n",
       "      <td>100</td>\n",
       "      <td>150</td>\n",
       "      <td>100</td>\n",
       "      <td>150</td>\n",
       "      <td>...</td>\n",
       "      <td>Pink</td>\n",
       "      <td>False</td>\n",
       "      <td>NaN</td>\n",
       "      <td>Undiscovered</td>\n",
       "      <td>NaN</td>\n",
       "      <td>True</td>\n",
       "      <td>0.71</td>\n",
       "      <td>8.8</td>\n",
       "      <td>3</td>\n",
       "      <td>head_arms</td>\n",
       "    </tr>\n",
       "    <tr>\n",
       "      <th>719</th>\n",
       "      <td>720</td>\n",
       "      <td>Hoopa</td>\n",
       "      <td>Psychic</td>\n",
       "      <td>Ghost</td>\n",
       "      <td>600</td>\n",
       "      <td>80</td>\n",
       "      <td>110</td>\n",
       "      <td>60</td>\n",
       "      <td>150</td>\n",
       "      <td>130</td>\n",
       "      <td>...</td>\n",
       "      <td>Purple</td>\n",
       "      <td>False</td>\n",
       "      <td>NaN</td>\n",
       "      <td>Undiscovered</td>\n",
       "      <td>NaN</td>\n",
       "      <td>False</td>\n",
       "      <td>0.51</td>\n",
       "      <td>9.0</td>\n",
       "      <td>3</td>\n",
       "      <td>head_only</td>\n",
       "    </tr>\n",
       "    <tr>\n",
       "      <th>720</th>\n",
       "      <td>721</td>\n",
       "      <td>Volcanion</td>\n",
       "      <td>Fire</td>\n",
       "      <td>Water</td>\n",
       "      <td>600</td>\n",
       "      <td>80</td>\n",
       "      <td>110</td>\n",
       "      <td>120</td>\n",
       "      <td>130</td>\n",
       "      <td>90</td>\n",
       "      <td>...</td>\n",
       "      <td>Brown</td>\n",
       "      <td>False</td>\n",
       "      <td>NaN</td>\n",
       "      <td>Undiscovered</td>\n",
       "      <td>NaN</td>\n",
       "      <td>False</td>\n",
       "      <td>1.70</td>\n",
       "      <td>195.0</td>\n",
       "      <td>3</td>\n",
       "      <td>quadruped</td>\n",
       "    </tr>\n",
       "  </tbody>\n",
       "</table>\n",
       "<p>5 rows × 23 columns</p>\n",
       "</div>"
      ],
      "text/plain": [
       "     Number       Name   Type_1  Type_2  Total   HP  Attack  Defense  Sp_Atk  \\\n",
       "716     717    Yveltal     Dark  Flying    680  126     131       95     131   \n",
       "717     718    Zygarde   Dragon  Ground    600  108     100      121      81   \n",
       "718     719    Diancie     Rock   Fairy    600   50     100      150     100   \n",
       "719     720      Hoopa  Psychic   Ghost    600   80     110       60     150   \n",
       "720     721  Volcanion     Fire   Water    600   80     110      120     130   \n",
       "\n",
       "     Sp_Def  ...   Color  hasGender  Pr_Male   Egg_Group_1  Egg_Group_2  \\\n",
       "716      98  ...     Red      False      NaN  Undiscovered          NaN   \n",
       "717      95  ...   Green      False      NaN  Undiscovered          NaN   \n",
       "718     150  ...    Pink      False      NaN  Undiscovered          NaN   \n",
       "719     130  ...  Purple      False      NaN  Undiscovered          NaN   \n",
       "720      90  ...   Brown      False      NaN  Undiscovered          NaN   \n",
       "\n",
       "     hasMegaEvolution Height_m Weight_kg  Catch_Rate       Body_Style  \n",
       "716             False     5.79     203.0          45        two_wings  \n",
       "717             False     5.00     305.0           3  serpentine_body  \n",
       "718              True     0.71       8.8           3        head_arms  \n",
       "719             False     0.51       9.0           3        head_only  \n",
       "720             False     1.70     195.0           3        quadruped  \n",
       "\n",
       "[5 rows x 23 columns]"
      ]
     },
     "execution_count": 168,
     "metadata": {},
     "output_type": "execute_result"
    }
   ],
   "source": [
    "poke.tail()"
   ]
  },
  {
   "cell_type": "code",
   "execution_count": 3,
   "metadata": {},
   "outputs": [
    {
     "name": "stdout",
     "output_type": "stream",
     "text": [
      "<class 'pandas.core.frame.DataFrame'>\n",
      "RangeIndex: 721 entries, 0 to 720\n",
      "Data columns (total 23 columns):\n",
      "Number              721 non-null int64\n",
      "Name                721 non-null object\n",
      "Type_1              721 non-null object\n",
      "Type_2              350 non-null object\n",
      "Total               721 non-null int64\n",
      "HP                  721 non-null int64\n",
      "Attack              721 non-null int64\n",
      "Defense             721 non-null int64\n",
      "Sp_Atk              721 non-null int64\n",
      "Sp_Def              721 non-null int64\n",
      "Speed               721 non-null int64\n",
      "Generation          721 non-null int64\n",
      "isLegendary         721 non-null bool\n",
      "Color               721 non-null object\n",
      "hasGender           721 non-null bool\n",
      "Pr_Male             644 non-null float64\n",
      "Egg_Group_1         721 non-null object\n",
      "Egg_Group_2         191 non-null object\n",
      "hasMegaEvolution    721 non-null bool\n",
      "Height_m            721 non-null float64\n",
      "Weight_kg           721 non-null float64\n",
      "Catch_Rate          721 non-null int64\n",
      "Body_Style          721 non-null object\n",
      "dtypes: bool(3), float64(3), int64(10), object(7)\n",
      "memory usage: 114.9+ KB\n"
     ]
    }
   ],
   "source": [
    "poke.info()"
   ]
  },
  {
   "cell_type": "code",
   "execution_count": 9,
   "metadata": {},
   "outputs": [
    {
     "data": {
      "text/html": [
       "<div>\n",
       "<style scoped>\n",
       "    .dataframe tbody tr th:only-of-type {\n",
       "        vertical-align: middle;\n",
       "    }\n",
       "\n",
       "    .dataframe tbody tr th {\n",
       "        vertical-align: top;\n",
       "    }\n",
       "\n",
       "    .dataframe thead th {\n",
       "        text-align: right;\n",
       "    }\n",
       "</style>\n",
       "<table border=\"1\" class=\"dataframe\">\n",
       "  <thead>\n",
       "    <tr style=\"text-align: right;\">\n",
       "      <th></th>\n",
       "      <th>Number</th>\n",
       "      <th>Total</th>\n",
       "      <th>HP</th>\n",
       "      <th>Attack</th>\n",
       "      <th>Defense</th>\n",
       "      <th>Sp_Atk</th>\n",
       "      <th>Sp_Def</th>\n",
       "      <th>Speed</th>\n",
       "      <th>Generation</th>\n",
       "      <th>Pr_Male</th>\n",
       "      <th>Height_m</th>\n",
       "      <th>Weight_kg</th>\n",
       "      <th>Catch_Rate</th>\n",
       "    </tr>\n",
       "  </thead>\n",
       "  <tbody>\n",
       "    <tr>\n",
       "      <th>count</th>\n",
       "      <td>721.00000</td>\n",
       "      <td>721.000000</td>\n",
       "      <td>721.000000</td>\n",
       "      <td>721.000000</td>\n",
       "      <td>721.000000</td>\n",
       "      <td>721.000000</td>\n",
       "      <td>721.000000</td>\n",
       "      <td>721.000000</td>\n",
       "      <td>721.000000</td>\n",
       "      <td>644.000000</td>\n",
       "      <td>721.000000</td>\n",
       "      <td>721.000000</td>\n",
       "      <td>721.000000</td>\n",
       "    </tr>\n",
       "    <tr>\n",
       "      <th>mean</th>\n",
       "      <td>361.00000</td>\n",
       "      <td>417.945908</td>\n",
       "      <td>68.380028</td>\n",
       "      <td>75.013870</td>\n",
       "      <td>70.808599</td>\n",
       "      <td>68.737864</td>\n",
       "      <td>69.291262</td>\n",
       "      <td>65.714286</td>\n",
       "      <td>3.323162</td>\n",
       "      <td>0.553377</td>\n",
       "      <td>1.144979</td>\n",
       "      <td>56.773370</td>\n",
       "      <td>100.246879</td>\n",
       "    </tr>\n",
       "    <tr>\n",
       "      <th>std</th>\n",
       "      <td>208.27906</td>\n",
       "      <td>109.663671</td>\n",
       "      <td>25.848272</td>\n",
       "      <td>28.984475</td>\n",
       "      <td>29.296558</td>\n",
       "      <td>28.788005</td>\n",
       "      <td>27.015860</td>\n",
       "      <td>27.277920</td>\n",
       "      <td>1.669873</td>\n",
       "      <td>0.199969</td>\n",
       "      <td>1.044369</td>\n",
       "      <td>89.095667</td>\n",
       "      <td>76.573513</td>\n",
       "    </tr>\n",
       "    <tr>\n",
       "      <th>min</th>\n",
       "      <td>1.00000</td>\n",
       "      <td>180.000000</td>\n",
       "      <td>1.000000</td>\n",
       "      <td>5.000000</td>\n",
       "      <td>5.000000</td>\n",
       "      <td>10.000000</td>\n",
       "      <td>20.000000</td>\n",
       "      <td>5.000000</td>\n",
       "      <td>1.000000</td>\n",
       "      <td>0.000000</td>\n",
       "      <td>0.100000</td>\n",
       "      <td>0.100000</td>\n",
       "      <td>3.000000</td>\n",
       "    </tr>\n",
       "    <tr>\n",
       "      <th>25%</th>\n",
       "      <td>181.00000</td>\n",
       "      <td>320.000000</td>\n",
       "      <td>50.000000</td>\n",
       "      <td>53.000000</td>\n",
       "      <td>50.000000</td>\n",
       "      <td>45.000000</td>\n",
       "      <td>50.000000</td>\n",
       "      <td>45.000000</td>\n",
       "      <td>2.000000</td>\n",
       "      <td>0.500000</td>\n",
       "      <td>0.610000</td>\n",
       "      <td>9.400000</td>\n",
       "      <td>45.000000</td>\n",
       "    </tr>\n",
       "    <tr>\n",
       "      <th>50%</th>\n",
       "      <td>361.00000</td>\n",
       "      <td>424.000000</td>\n",
       "      <td>65.000000</td>\n",
       "      <td>74.000000</td>\n",
       "      <td>65.000000</td>\n",
       "      <td>65.000000</td>\n",
       "      <td>65.000000</td>\n",
       "      <td>65.000000</td>\n",
       "      <td>3.000000</td>\n",
       "      <td>0.500000</td>\n",
       "      <td>0.990000</td>\n",
       "      <td>28.000000</td>\n",
       "      <td>65.000000</td>\n",
       "    </tr>\n",
       "    <tr>\n",
       "      <th>75%</th>\n",
       "      <td>541.00000</td>\n",
       "      <td>499.000000</td>\n",
       "      <td>80.000000</td>\n",
       "      <td>95.000000</td>\n",
       "      <td>85.000000</td>\n",
       "      <td>90.000000</td>\n",
       "      <td>85.000000</td>\n",
       "      <td>85.000000</td>\n",
       "      <td>5.000000</td>\n",
       "      <td>0.500000</td>\n",
       "      <td>1.400000</td>\n",
       "      <td>61.000000</td>\n",
       "      <td>180.000000</td>\n",
       "    </tr>\n",
       "    <tr>\n",
       "      <th>max</th>\n",
       "      <td>721.00000</td>\n",
       "      <td>720.000000</td>\n",
       "      <td>255.000000</td>\n",
       "      <td>165.000000</td>\n",
       "      <td>230.000000</td>\n",
       "      <td>154.000000</td>\n",
       "      <td>230.000000</td>\n",
       "      <td>160.000000</td>\n",
       "      <td>6.000000</td>\n",
       "      <td>1.000000</td>\n",
       "      <td>14.500000</td>\n",
       "      <td>950.000000</td>\n",
       "      <td>255.000000</td>\n",
       "    </tr>\n",
       "  </tbody>\n",
       "</table>\n",
       "</div>"
      ],
      "text/plain": [
       "          Number       Total          HP      Attack     Defense      Sp_Atk  \\\n",
       "count  721.00000  721.000000  721.000000  721.000000  721.000000  721.000000   \n",
       "mean   361.00000  417.945908   68.380028   75.013870   70.808599   68.737864   \n",
       "std    208.27906  109.663671   25.848272   28.984475   29.296558   28.788005   \n",
       "min      1.00000  180.000000    1.000000    5.000000    5.000000   10.000000   \n",
       "25%    181.00000  320.000000   50.000000   53.000000   50.000000   45.000000   \n",
       "50%    361.00000  424.000000   65.000000   74.000000   65.000000   65.000000   \n",
       "75%    541.00000  499.000000   80.000000   95.000000   85.000000   90.000000   \n",
       "max    721.00000  720.000000  255.000000  165.000000  230.000000  154.000000   \n",
       "\n",
       "           Sp_Def       Speed  Generation     Pr_Male    Height_m   Weight_kg  \\\n",
       "count  721.000000  721.000000  721.000000  644.000000  721.000000  721.000000   \n",
       "mean    69.291262   65.714286    3.323162    0.553377    1.144979   56.773370   \n",
       "std     27.015860   27.277920    1.669873    0.199969    1.044369   89.095667   \n",
       "min     20.000000    5.000000    1.000000    0.000000    0.100000    0.100000   \n",
       "25%     50.000000   45.000000    2.000000    0.500000    0.610000    9.400000   \n",
       "50%     65.000000   65.000000    3.000000    0.500000    0.990000   28.000000   \n",
       "75%     85.000000   85.000000    5.000000    0.500000    1.400000   61.000000   \n",
       "max    230.000000  160.000000    6.000000    1.000000   14.500000  950.000000   \n",
       "\n",
       "       Catch_Rate  \n",
       "count  721.000000  \n",
       "mean   100.246879  \n",
       "std     76.573513  \n",
       "min      3.000000  \n",
       "25%     45.000000  \n",
       "50%     65.000000  \n",
       "75%    180.000000  \n",
       "max    255.000000  "
      ]
     },
     "execution_count": 9,
     "metadata": {},
     "output_type": "execute_result"
    }
   ],
   "source": [
    "poke.describe()"
   ]
  },
  {
   "cell_type": "markdown",
   "metadata": {},
   "source": [
    "## Missing Data"
   ]
  },
  {
   "cell_type": "code",
   "execution_count": 5,
   "metadata": {},
   "outputs": [
    {
     "data": {
      "text/html": [
       "<div>\n",
       "<style scoped>\n",
       "    .dataframe tbody tr th:only-of-type {\n",
       "        vertical-align: middle;\n",
       "    }\n",
       "\n",
       "    .dataframe tbody tr th {\n",
       "        vertical-align: top;\n",
       "    }\n",
       "\n",
       "    .dataframe thead th {\n",
       "        text-align: right;\n",
       "    }\n",
       "</style>\n",
       "<table border=\"1\" class=\"dataframe\">\n",
       "  <thead>\n",
       "    <tr style=\"text-align: right;\">\n",
       "      <th></th>\n",
       "      <th>qtd_NaN_data</th>\n",
       "      <th>perc_NaN_data</th>\n",
       "    </tr>\n",
       "  </thead>\n",
       "  <tbody>\n",
       "    <tr>\n",
       "      <th>Number</th>\n",
       "      <td>0</td>\n",
       "      <td>0.00</td>\n",
       "    </tr>\n",
       "    <tr>\n",
       "      <th>Name</th>\n",
       "      <td>0</td>\n",
       "      <td>0.00</td>\n",
       "    </tr>\n",
       "    <tr>\n",
       "      <th>Type_1</th>\n",
       "      <td>0</td>\n",
       "      <td>0.00</td>\n",
       "    </tr>\n",
       "    <tr>\n",
       "      <th>Type_2</th>\n",
       "      <td>371</td>\n",
       "      <td>51.46</td>\n",
       "    </tr>\n",
       "    <tr>\n",
       "      <th>Total</th>\n",
       "      <td>0</td>\n",
       "      <td>0.00</td>\n",
       "    </tr>\n",
       "    <tr>\n",
       "      <th>HP</th>\n",
       "      <td>0</td>\n",
       "      <td>0.00</td>\n",
       "    </tr>\n",
       "    <tr>\n",
       "      <th>Attack</th>\n",
       "      <td>0</td>\n",
       "      <td>0.00</td>\n",
       "    </tr>\n",
       "    <tr>\n",
       "      <th>Defense</th>\n",
       "      <td>0</td>\n",
       "      <td>0.00</td>\n",
       "    </tr>\n",
       "    <tr>\n",
       "      <th>Sp_Atk</th>\n",
       "      <td>0</td>\n",
       "      <td>0.00</td>\n",
       "    </tr>\n",
       "    <tr>\n",
       "      <th>Sp_Def</th>\n",
       "      <td>0</td>\n",
       "      <td>0.00</td>\n",
       "    </tr>\n",
       "    <tr>\n",
       "      <th>Speed</th>\n",
       "      <td>0</td>\n",
       "      <td>0.00</td>\n",
       "    </tr>\n",
       "    <tr>\n",
       "      <th>Generation</th>\n",
       "      <td>0</td>\n",
       "      <td>0.00</td>\n",
       "    </tr>\n",
       "    <tr>\n",
       "      <th>isLegendary</th>\n",
       "      <td>0</td>\n",
       "      <td>0.00</td>\n",
       "    </tr>\n",
       "    <tr>\n",
       "      <th>Color</th>\n",
       "      <td>0</td>\n",
       "      <td>0.00</td>\n",
       "    </tr>\n",
       "    <tr>\n",
       "      <th>hasGender</th>\n",
       "      <td>0</td>\n",
       "      <td>0.00</td>\n",
       "    </tr>\n",
       "    <tr>\n",
       "      <th>Pr_Male</th>\n",
       "      <td>77</td>\n",
       "      <td>10.68</td>\n",
       "    </tr>\n",
       "    <tr>\n",
       "      <th>Egg_Group_1</th>\n",
       "      <td>0</td>\n",
       "      <td>0.00</td>\n",
       "    </tr>\n",
       "    <tr>\n",
       "      <th>Egg_Group_2</th>\n",
       "      <td>530</td>\n",
       "      <td>73.51</td>\n",
       "    </tr>\n",
       "    <tr>\n",
       "      <th>hasMegaEvolution</th>\n",
       "      <td>0</td>\n",
       "      <td>0.00</td>\n",
       "    </tr>\n",
       "    <tr>\n",
       "      <th>Height_m</th>\n",
       "      <td>0</td>\n",
       "      <td>0.00</td>\n",
       "    </tr>\n",
       "    <tr>\n",
       "      <th>Weight_kg</th>\n",
       "      <td>0</td>\n",
       "      <td>0.00</td>\n",
       "    </tr>\n",
       "    <tr>\n",
       "      <th>Catch_Rate</th>\n",
       "      <td>0</td>\n",
       "      <td>0.00</td>\n",
       "    </tr>\n",
       "    <tr>\n",
       "      <th>Body_Style</th>\n",
       "      <td>0</td>\n",
       "      <td>0.00</td>\n",
       "    </tr>\n",
       "  </tbody>\n",
       "</table>\n",
       "</div>"
      ],
      "text/plain": [
       "                  qtd_NaN_data  perc_NaN_data\n",
       "Number                       0           0.00\n",
       "Name                         0           0.00\n",
       "Type_1                       0           0.00\n",
       "Type_2                     371          51.46\n",
       "Total                        0           0.00\n",
       "HP                           0           0.00\n",
       "Attack                       0           0.00\n",
       "Defense                      0           0.00\n",
       "Sp_Atk                       0           0.00\n",
       "Sp_Def                       0           0.00\n",
       "Speed                        0           0.00\n",
       "Generation                   0           0.00\n",
       "isLegendary                  0           0.00\n",
       "Color                        0           0.00\n",
       "hasGender                    0           0.00\n",
       "Pr_Male                     77          10.68\n",
       "Egg_Group_1                  0           0.00\n",
       "Egg_Group_2                530          73.51\n",
       "hasMegaEvolution             0           0.00\n",
       "Height_m                     0           0.00\n",
       "Weight_kg                    0           0.00\n",
       "Catch_Rate                   0           0.00\n",
       "Body_Style                   0           0.00"
      ]
     },
     "execution_count": 5,
     "metadata": {},
     "output_type": "execute_result"
    }
   ],
   "source": [
    "missing = pd.DataFrame({'qtd_NaN_data':poke.isna().sum(), \n",
    "                        'perc_NaN_data':round((poke.isna().sum()*100/poke.shape[0]), 2)})\n",
    "missing"
   ]
  },
  {
   "cell_type": "code",
   "execution_count": 85,
   "metadata": {},
   "outputs": [
    {
     "data": {
      "text/html": [
       "<div>\n",
       "<style scoped>\n",
       "    .dataframe tbody tr th:only-of-type {\n",
       "        vertical-align: middle;\n",
       "    }\n",
       "\n",
       "    .dataframe tbody tr th {\n",
       "        vertical-align: top;\n",
       "    }\n",
       "\n",
       "    .dataframe thead th {\n",
       "        text-align: right;\n",
       "    }\n",
       "</style>\n",
       "<table border=\"1\" class=\"dataframe\">\n",
       "  <thead>\n",
       "    <tr style=\"text-align: right;\">\n",
       "      <th></th>\n",
       "      <th>Number</th>\n",
       "      <th>Name</th>\n",
       "      <th>Type_1</th>\n",
       "      <th>Type_2</th>\n",
       "      <th>Total</th>\n",
       "      <th>HP</th>\n",
       "      <th>Attack</th>\n",
       "      <th>Defense</th>\n",
       "      <th>Sp_Atk</th>\n",
       "      <th>Sp_Def</th>\n",
       "      <th>...</th>\n",
       "      <th>Color</th>\n",
       "      <th>hasGender</th>\n",
       "      <th>Pr_Male</th>\n",
       "      <th>Egg_Group_1</th>\n",
       "      <th>Egg_Group_2</th>\n",
       "      <th>hasMegaEvolution</th>\n",
       "      <th>Height_m</th>\n",
       "      <th>Weight_kg</th>\n",
       "      <th>Catch_Rate</th>\n",
       "      <th>Body_Style</th>\n",
       "    </tr>\n",
       "  </thead>\n",
       "  <tbody>\n",
       "    <tr>\n",
       "      <th>80</th>\n",
       "      <td>81</td>\n",
       "      <td>Magnemite</td>\n",
       "      <td>Electric</td>\n",
       "      <td>Steel</td>\n",
       "      <td>325</td>\n",
       "      <td>25</td>\n",
       "      <td>35</td>\n",
       "      <td>70</td>\n",
       "      <td>95</td>\n",
       "      <td>55</td>\n",
       "      <td>...</td>\n",
       "      <td>Grey</td>\n",
       "      <td>False</td>\n",
       "      <td>NaN</td>\n",
       "      <td>Mineral</td>\n",
       "      <td>NaN</td>\n",
       "      <td>False</td>\n",
       "      <td>0.30</td>\n",
       "      <td>6.0</td>\n",
       "      <td>190</td>\n",
       "      <td>head_arms</td>\n",
       "    </tr>\n",
       "    <tr>\n",
       "      <th>81</th>\n",
       "      <td>82</td>\n",
       "      <td>Magneton</td>\n",
       "      <td>Electric</td>\n",
       "      <td>Steel</td>\n",
       "      <td>465</td>\n",
       "      <td>50</td>\n",
       "      <td>60</td>\n",
       "      <td>95</td>\n",
       "      <td>120</td>\n",
       "      <td>70</td>\n",
       "      <td>...</td>\n",
       "      <td>Grey</td>\n",
       "      <td>False</td>\n",
       "      <td>NaN</td>\n",
       "      <td>Mineral</td>\n",
       "      <td>NaN</td>\n",
       "      <td>False</td>\n",
       "      <td>0.99</td>\n",
       "      <td>60.0</td>\n",
       "      <td>60</td>\n",
       "      <td>multiple_bodies</td>\n",
       "    </tr>\n",
       "    <tr>\n",
       "      <th>99</th>\n",
       "      <td>100</td>\n",
       "      <td>Voltorb</td>\n",
       "      <td>Electric</td>\n",
       "      <td>NaN</td>\n",
       "      <td>330</td>\n",
       "      <td>40</td>\n",
       "      <td>30</td>\n",
       "      <td>50</td>\n",
       "      <td>55</td>\n",
       "      <td>55</td>\n",
       "      <td>...</td>\n",
       "      <td>Red</td>\n",
       "      <td>False</td>\n",
       "      <td>NaN</td>\n",
       "      <td>Mineral</td>\n",
       "      <td>NaN</td>\n",
       "      <td>False</td>\n",
       "      <td>0.51</td>\n",
       "      <td>10.4</td>\n",
       "      <td>190</td>\n",
       "      <td>head_only</td>\n",
       "    </tr>\n",
       "    <tr>\n",
       "      <th>100</th>\n",
       "      <td>101</td>\n",
       "      <td>Electrode</td>\n",
       "      <td>Electric</td>\n",
       "      <td>NaN</td>\n",
       "      <td>480</td>\n",
       "      <td>60</td>\n",
       "      <td>50</td>\n",
       "      <td>70</td>\n",
       "      <td>80</td>\n",
       "      <td>80</td>\n",
       "      <td>...</td>\n",
       "      <td>Red</td>\n",
       "      <td>False</td>\n",
       "      <td>NaN</td>\n",
       "      <td>Mineral</td>\n",
       "      <td>NaN</td>\n",
       "      <td>False</td>\n",
       "      <td>1.19</td>\n",
       "      <td>66.6</td>\n",
       "      <td>60</td>\n",
       "      <td>head_only</td>\n",
       "    </tr>\n",
       "    <tr>\n",
       "      <th>119</th>\n",
       "      <td>120</td>\n",
       "      <td>Staryu</td>\n",
       "      <td>Water</td>\n",
       "      <td>NaN</td>\n",
       "      <td>340</td>\n",
       "      <td>30</td>\n",
       "      <td>45</td>\n",
       "      <td>55</td>\n",
       "      <td>70</td>\n",
       "      <td>55</td>\n",
       "      <td>...</td>\n",
       "      <td>Brown</td>\n",
       "      <td>False</td>\n",
       "      <td>NaN</td>\n",
       "      <td>Water_3</td>\n",
       "      <td>NaN</td>\n",
       "      <td>False</td>\n",
       "      <td>0.79</td>\n",
       "      <td>34.5</td>\n",
       "      <td>225</td>\n",
       "      <td>head_base</td>\n",
       "    </tr>\n",
       "  </tbody>\n",
       "</table>\n",
       "<p>5 rows × 23 columns</p>\n",
       "</div>"
      ],
      "text/plain": [
       "     Number       Name    Type_1 Type_2  Total  HP  Attack  Defense  Sp_Atk  \\\n",
       "80       81  Magnemite  Electric  Steel    325  25      35       70      95   \n",
       "81       82   Magneton  Electric  Steel    465  50      60       95     120   \n",
       "99      100    Voltorb  Electric    NaN    330  40      30       50      55   \n",
       "100     101  Electrode  Electric    NaN    480  60      50       70      80   \n",
       "119     120     Staryu     Water    NaN    340  30      45       55      70   \n",
       "\n",
       "     Sp_Def  ...  Color  hasGender  Pr_Male Egg_Group_1  Egg_Group_2  \\\n",
       "80       55  ...   Grey      False      NaN     Mineral          NaN   \n",
       "81       70  ...   Grey      False      NaN     Mineral          NaN   \n",
       "99       55  ...    Red      False      NaN     Mineral          NaN   \n",
       "100      80  ...    Red      False      NaN     Mineral          NaN   \n",
       "119      55  ...  Brown      False      NaN     Water_3          NaN   \n",
       "\n",
       "     hasMegaEvolution Height_m Weight_kg  Catch_Rate       Body_Style  \n",
       "80              False     0.30       6.0         190        head_arms  \n",
       "81              False     0.99      60.0          60  multiple_bodies  \n",
       "99              False     0.51      10.4         190        head_only  \n",
       "100             False     1.19      66.6          60        head_only  \n",
       "119             False     0.79      34.5         225        head_base  \n",
       "\n",
       "[5 rows x 23 columns]"
      ]
     },
     "execution_count": 85,
     "metadata": {},
     "output_type": "execute_result"
    }
   ],
   "source": [
    "# Data when 'Pr_Male' is NaN\n",
    "poke[poke['Pr_Male'].isna()].head(5)"
   ]
  },
  {
   "cell_type": "code",
   "execution_count": 7,
   "metadata": {},
   "outputs": [
    {
     "name": "stdout",
     "output_type": "stream",
     "text": [
      "Without Pr Male:77 - Has gender False:77\n",
      "Is Legendary :46 - Has gender False:40\n"
     ]
    }
   ],
   "source": [
    "print('Without Pr Male:{} - Has gender False:{}'.format(\n",
    "    poke['Number'][poke['Pr_Male'].isna()].count(),\n",
    "    poke['Number'][poke['hasGender'] == False].count()))\n",
    "\n",
    "print('Is Legendary :{} - Has gender False:{}'.format(\n",
    "    poke['Number'][poke['isLegendary'] == True].count(),\n",
    "    poke['Number'][(poke['hasGender'] == False) & (poke['isLegendary'] == True)].count()))"
   ]
  },
  {
   "cell_type": "code",
   "execution_count": 8,
   "metadata": {},
   "outputs": [
    {
     "name": "stdout",
     "output_type": "stream",
     "text": [
      "**   Legendary pokemons with gender  **\n",
      "\n"
     ]
    },
    {
     "data": {
      "text/html": [
       "<div>\n",
       "<style scoped>\n",
       "    .dataframe tbody tr th:only-of-type {\n",
       "        vertical-align: middle;\n",
       "    }\n",
       "\n",
       "    .dataframe tbody tr th {\n",
       "        vertical-align: top;\n",
       "    }\n",
       "\n",
       "    .dataframe thead th {\n",
       "        text-align: right;\n",
       "    }\n",
       "</style>\n",
       "<table border=\"1\" class=\"dataframe\">\n",
       "  <thead>\n",
       "    <tr style=\"text-align: right;\">\n",
       "      <th></th>\n",
       "      <th>Number</th>\n",
       "      <th>Name</th>\n",
       "      <th>Type_1</th>\n",
       "      <th>Type_2</th>\n",
       "      <th>Total</th>\n",
       "      <th>HP</th>\n",
       "      <th>Attack</th>\n",
       "      <th>Defense</th>\n",
       "      <th>Sp_Atk</th>\n",
       "      <th>Sp_Def</th>\n",
       "      <th>...</th>\n",
       "      <th>Color</th>\n",
       "      <th>hasGender</th>\n",
       "      <th>Pr_Male</th>\n",
       "      <th>Egg_Group_1</th>\n",
       "      <th>Egg_Group_2</th>\n",
       "      <th>hasMegaEvolution</th>\n",
       "      <th>Height_m</th>\n",
       "      <th>Weight_kg</th>\n",
       "      <th>Catch_Rate</th>\n",
       "      <th>Body_Style</th>\n",
       "    </tr>\n",
       "  </thead>\n",
       "  <tbody>\n",
       "    <tr>\n",
       "      <th>379</th>\n",
       "      <td>380</td>\n",
       "      <td>Latias</td>\n",
       "      <td>Dragon</td>\n",
       "      <td>Psychic</td>\n",
       "      <td>600</td>\n",
       "      <td>80</td>\n",
       "      <td>80</td>\n",
       "      <td>90</td>\n",
       "      <td>110</td>\n",
       "      <td>130</td>\n",
       "      <td>...</td>\n",
       "      <td>Red</td>\n",
       "      <td>True</td>\n",
       "      <td>0.0</td>\n",
       "      <td>Undiscovered</td>\n",
       "      <td>NaN</td>\n",
       "      <td>True</td>\n",
       "      <td>1.40</td>\n",
       "      <td>40.0</td>\n",
       "      <td>3</td>\n",
       "      <td>two_wings</td>\n",
       "    </tr>\n",
       "    <tr>\n",
       "      <th>380</th>\n",
       "      <td>381</td>\n",
       "      <td>Latios</td>\n",
       "      <td>Dragon</td>\n",
       "      <td>Psychic</td>\n",
       "      <td>600</td>\n",
       "      <td>80</td>\n",
       "      <td>90</td>\n",
       "      <td>80</td>\n",
       "      <td>130</td>\n",
       "      <td>110</td>\n",
       "      <td>...</td>\n",
       "      <td>Blue</td>\n",
       "      <td>True</td>\n",
       "      <td>1.0</td>\n",
       "      <td>Undiscovered</td>\n",
       "      <td>NaN</td>\n",
       "      <td>True</td>\n",
       "      <td>2.01</td>\n",
       "      <td>60.0</td>\n",
       "      <td>3</td>\n",
       "      <td>two_wings</td>\n",
       "    </tr>\n",
       "    <tr>\n",
       "      <th>484</th>\n",
       "      <td>485</td>\n",
       "      <td>Heatran</td>\n",
       "      <td>Fire</td>\n",
       "      <td>Steel</td>\n",
       "      <td>600</td>\n",
       "      <td>91</td>\n",
       "      <td>90</td>\n",
       "      <td>106</td>\n",
       "      <td>130</td>\n",
       "      <td>106</td>\n",
       "      <td>...</td>\n",
       "      <td>Brown</td>\n",
       "      <td>True</td>\n",
       "      <td>0.5</td>\n",
       "      <td>Undiscovered</td>\n",
       "      <td>NaN</td>\n",
       "      <td>False</td>\n",
       "      <td>1.70</td>\n",
       "      <td>430.0</td>\n",
       "      <td>3</td>\n",
       "      <td>quadruped</td>\n",
       "    </tr>\n",
       "    <tr>\n",
       "      <th>640</th>\n",
       "      <td>641</td>\n",
       "      <td>Tornadus</td>\n",
       "      <td>Flying</td>\n",
       "      <td>NaN</td>\n",
       "      <td>580</td>\n",
       "      <td>79</td>\n",
       "      <td>115</td>\n",
       "      <td>70</td>\n",
       "      <td>125</td>\n",
       "      <td>80</td>\n",
       "      <td>...</td>\n",
       "      <td>Green</td>\n",
       "      <td>True</td>\n",
       "      <td>1.0</td>\n",
       "      <td>Undiscovered</td>\n",
       "      <td>NaN</td>\n",
       "      <td>False</td>\n",
       "      <td>1.50</td>\n",
       "      <td>63.0</td>\n",
       "      <td>3</td>\n",
       "      <td>head_arms</td>\n",
       "    </tr>\n",
       "    <tr>\n",
       "      <th>641</th>\n",
       "      <td>642</td>\n",
       "      <td>Thundurus</td>\n",
       "      <td>Electric</td>\n",
       "      <td>Flying</td>\n",
       "      <td>580</td>\n",
       "      <td>79</td>\n",
       "      <td>115</td>\n",
       "      <td>70</td>\n",
       "      <td>125</td>\n",
       "      <td>80</td>\n",
       "      <td>...</td>\n",
       "      <td>Blue</td>\n",
       "      <td>True</td>\n",
       "      <td>1.0</td>\n",
       "      <td>Undiscovered</td>\n",
       "      <td>NaN</td>\n",
       "      <td>False</td>\n",
       "      <td>1.50</td>\n",
       "      <td>61.0</td>\n",
       "      <td>3</td>\n",
       "      <td>head_arms</td>\n",
       "    </tr>\n",
       "    <tr>\n",
       "      <th>644</th>\n",
       "      <td>645</td>\n",
       "      <td>Landorus</td>\n",
       "      <td>Ground</td>\n",
       "      <td>Flying</td>\n",
       "      <td>600</td>\n",
       "      <td>89</td>\n",
       "      <td>125</td>\n",
       "      <td>90</td>\n",
       "      <td>115</td>\n",
       "      <td>80</td>\n",
       "      <td>...</td>\n",
       "      <td>Brown</td>\n",
       "      <td>True</td>\n",
       "      <td>1.0</td>\n",
       "      <td>Undiscovered</td>\n",
       "      <td>NaN</td>\n",
       "      <td>False</td>\n",
       "      <td>1.50</td>\n",
       "      <td>68.0</td>\n",
       "      <td>3</td>\n",
       "      <td>head_arms</td>\n",
       "    </tr>\n",
       "  </tbody>\n",
       "</table>\n",
       "<p>6 rows × 23 columns</p>\n",
       "</div>"
      ],
      "text/plain": [
       "     Number       Name    Type_1   Type_2  Total  HP  Attack  Defense  Sp_Atk  \\\n",
       "379     380     Latias    Dragon  Psychic    600  80      80       90     110   \n",
       "380     381     Latios    Dragon  Psychic    600  80      90       80     130   \n",
       "484     485    Heatran      Fire    Steel    600  91      90      106     130   \n",
       "640     641   Tornadus    Flying      NaN    580  79     115       70     125   \n",
       "641     642  Thundurus  Electric   Flying    580  79     115       70     125   \n",
       "644     645   Landorus    Ground   Flying    600  89     125       90     115   \n",
       "\n",
       "     Sp_Def  ...  Color  hasGender  Pr_Male   Egg_Group_1  Egg_Group_2  \\\n",
       "379     130  ...    Red       True      0.0  Undiscovered          NaN   \n",
       "380     110  ...   Blue       True      1.0  Undiscovered          NaN   \n",
       "484     106  ...  Brown       True      0.5  Undiscovered          NaN   \n",
       "640      80  ...  Green       True      1.0  Undiscovered          NaN   \n",
       "641      80  ...   Blue       True      1.0  Undiscovered          NaN   \n",
       "644      80  ...  Brown       True      1.0  Undiscovered          NaN   \n",
       "\n",
       "     hasMegaEvolution Height_m Weight_kg  Catch_Rate  Body_Style  \n",
       "379              True     1.40      40.0           3   two_wings  \n",
       "380              True     2.01      60.0           3   two_wings  \n",
       "484             False     1.70     430.0           3   quadruped  \n",
       "640             False     1.50      63.0           3   head_arms  \n",
       "641             False     1.50      61.0           3   head_arms  \n",
       "644             False     1.50      68.0           3   head_arms  \n",
       "\n",
       "[6 rows x 23 columns]"
      ]
     },
     "execution_count": 8,
     "metadata": {},
     "output_type": "execute_result"
    }
   ],
   "source": [
    "print('**   Legendary pokemons with gender  **')\n",
    "print()\n",
    "poke[(poke['hasGender'] == True) & (poke['isLegendary'] == True)]"
   ]
  },
  {
   "cell_type": "markdown",
   "metadata": {},
   "source": [
    "**Type_1** and **Egg_Group_2** are a lot of NaN data because many pokemons are only one type and one egg group.\n",
    "\n",
    "10 percent are **Pr_Male** NaN because 77 pokemons has no gender and if these, 40 are Legendary of 46 Legendaries."
   ]
  },
  {
   "cell_type": "markdown",
   "metadata": {},
   "source": [
    "## Categorical features analysis"
   ]
  },
  {
   "cell_type": "code",
   "execution_count": 17,
   "metadata": {},
   "outputs": [
    {
     "data": {
      "application/vnd.plotly.v1+json": {
       "config": {
        "plotlyServerURL": "https://plot.ly"
       },
       "data": [
        {
         "name": "Type_1",
         "text": [
          105,
          93,
          66,
          63,
          47,
          47,
          41,
          36,
          30,
          28,
          28,
          25,
          24,
          23,
          23,
          22,
          17,
          3
         ],
         "textposition": "auto",
         "type": "bar",
         "x": [
          "Water",
          "Normal",
          "Grass",
          "Bug",
          "Psychic",
          "Fire",
          "Rock",
          "Electric",
          "Ground",
          "Dark",
          "Poison",
          "Fighting",
          "Dragon",
          "Ghost",
          "Ice",
          "Steel",
          "Fairy",
          "Flying"
         ],
         "xaxis": "x",
         "y": [
          105,
          93,
          66,
          63,
          47,
          47,
          41,
          36,
          30,
          28,
          28,
          25,
          24,
          23,
          23,
          22,
          17,
          3
         ],
         "yaxis": "y"
        },
        {
         "name": "Type_2",
         "text": [
          87,
          31,
          30,
          27,
          19,
          19,
          18,
          18,
          16,
          14,
          14,
          13,
          12,
          10,
          9,
          6,
          4,
          3
         ],
         "textposition": "auto",
         "type": "bar",
         "x": [
          "Flying",
          "Poison",
          "Ground",
          "Psychic",
          "Steel",
          "Fighting",
          "Grass",
          "Fairy",
          "Dark",
          "Rock",
          "Dragon",
          "Water",
          "Ghost",
          "Ice",
          "Fire",
          "Electric",
          "Normal",
          "Bug"
         ],
         "xaxis": "x2",
         "y": [
          87,
          31,
          30,
          27,
          19,
          19,
          18,
          18,
          16,
          14,
          14,
          13,
          12,
          10,
          9,
          6,
          4,
          3
         ],
         "yaxis": "y2"
        },
        {
         "name": "Color",
         "text": [
          134,
          110,
          79,
          75,
          69,
          65,
          64,
          52,
          41,
          32
         ],
         "textposition": "auto",
         "type": "bar",
         "x": [
          "Blue",
          "Brown",
          "Green",
          "Red",
          "Grey",
          "Purple",
          "Yellow",
          "White",
          "Pink",
          "Black"
         ],
         "xaxis": "x3",
         "y": [
          134,
          110,
          79,
          75,
          69,
          65,
          64,
          52,
          41,
          32
         ],
         "yaxis": "y3"
        },
        {
         "name": "isLegendary",
         "text": [
          675,
          46
         ],
         "textposition": "auto",
         "type": "bar",
         "x": [
          false,
          true
         ],
         "xaxis": "x4",
         "y": [
          675,
          46
         ],
         "yaxis": "y4"
        },
        {
         "name": "hasGender",
         "text": [
          644,
          77
         ],
         "textposition": "auto",
         "type": "bar",
         "x": [
          true,
          false
         ],
         "xaxis": "x5",
         "y": [
          644,
          77
         ],
         "yaxis": "y5"
        },
        {
         "name": "Egg_Group_1",
         "text": [
          169,
          74,
          74,
          73,
          66,
          46,
          44,
          41,
          37,
          30,
          27,
          15,
          14,
          10,
          1
         ],
         "textposition": "auto",
         "type": "bar",
         "x": [
          "Field",
          "Monster",
          "Water_1",
          "Undiscovered",
          "Bug",
          "Mineral",
          "Flying",
          "Amorphous",
          "Human-Like",
          "Fairy",
          "Grass",
          "Water_2",
          "Water_3",
          "Dragon",
          "Ditto"
         ],
         "xaxis": "x6",
         "y": [
          169,
          74,
          74,
          73,
          66,
          46,
          44,
          41,
          37,
          30,
          27,
          15,
          14,
          10,
          1
         ],
         "yaxis": "y6"
        },
        {
         "name": "Egg_Group_2",
         "text": [
          35,
          32,
          31,
          17,
          15,
          15,
          13,
          8,
          8,
          8,
          6,
          2,
          1
         ],
         "textposition": "auto",
         "type": "bar",
         "x": [
          "Dragon",
          "Grass",
          "Field",
          "Fairy",
          "Water_3",
          "Human-Like",
          "Water_1",
          "Amorphous",
          "Water_2",
          "Mineral",
          "Flying",
          "Bug",
          "Monster"
         ],
         "xaxis": "x7",
         "y": [
          35,
          32,
          31,
          17,
          15,
          15,
          13,
          8,
          8,
          8,
          6,
          2,
          1
         ],
         "yaxis": "y7"
        },
        {
         "name": "hasMegaEvolution",
         "text": [
          675,
          46
         ],
         "textposition": "auto",
         "type": "bar",
         "x": [
          false,
          true
         ],
         "xaxis": "x8",
         "y": [
          675,
          46
         ],
         "yaxis": "y8"
        },
        {
         "name": "Body_Style",
         "text": [
          158,
          135,
          109,
          63,
          39,
          34,
          31,
          30,
          30,
          29,
          18,
          17,
          15,
          13
         ],
         "textposition": "auto",
         "type": "bar",
         "x": [
          "bipedal_tailed",
          "quadruped",
          "bipedal_tailless",
          "two_wings",
          "head_arms",
          "head_only",
          "with_fins",
          "head_base",
          "insectoid",
          "serpentine_body",
          "four_wings",
          "head_legs",
          "multiple_bodies",
          "several_limbs"
         ],
         "xaxis": "x9",
         "y": [
          158,
          135,
          109,
          63,
          39,
          34,
          31,
          30,
          30,
          29,
          18,
          17,
          15,
          13
         ],
         "yaxis": "y9"
        }
       ],
       "layout": {
        "annotations": [
         {
          "font": {
           "size": 16
          },
          "showarrow": false,
          "text": "Type_1",
          "x": 0.23125,
          "xanchor": "center",
          "xref": "paper",
          "y": 1,
          "yanchor": "bottom",
          "yref": "paper"
         },
         {
          "font": {
           "size": 16
          },
          "showarrow": false,
          "text": "Type_2",
          "x": 0.76875,
          "xanchor": "center",
          "xref": "paper",
          "y": 1,
          "yanchor": "bottom",
          "yref": "paper"
         },
         {
          "font": {
           "size": 16
          },
          "showarrow": false,
          "text": "Color",
          "x": 0.23125,
          "xanchor": "center",
          "xref": "paper",
          "y": 0.782,
          "yanchor": "bottom",
          "yref": "paper"
         },
         {
          "font": {
           "size": 16
          },
          "showarrow": false,
          "text": "isLegendary",
          "x": 0.76875,
          "xanchor": "center",
          "xref": "paper",
          "y": 0.782,
          "yanchor": "bottom",
          "yref": "paper"
         },
         {
          "font": {
           "size": 16
          },
          "showarrow": false,
          "text": "hasGender",
          "x": 0.23125,
          "xanchor": "center",
          "xref": "paper",
          "y": 0.5640000000000001,
          "yanchor": "bottom",
          "yref": "paper"
         },
         {
          "font": {
           "size": 16
          },
          "showarrow": false,
          "text": "Egg_Group_1",
          "x": 0.76875,
          "xanchor": "center",
          "xref": "paper",
          "y": 0.5640000000000001,
          "yanchor": "bottom",
          "yref": "paper"
         },
         {
          "font": {
           "size": 16
          },
          "showarrow": false,
          "text": "Egg_Group_2",
          "x": 0.23125,
          "xanchor": "center",
          "xref": "paper",
          "y": 0.346,
          "yanchor": "bottom",
          "yref": "paper"
         },
         {
          "font": {
           "size": 16
          },
          "showarrow": false,
          "text": "hasMegaEvolution",
          "x": 0.76875,
          "xanchor": "center",
          "xref": "paper",
          "y": 0.346,
          "yanchor": "bottom",
          "yref": "paper"
         },
         {
          "font": {
           "size": 16
          },
          "showarrow": false,
          "text": "Body_Style",
          "x": 0.23125,
          "xanchor": "center",
          "xref": "paper",
          "y": 0.128,
          "yanchor": "bottom",
          "yref": "paper"
         }
        ],
        "height": 1200,
        "template": {
         "data": {
          "bar": [
           {
            "error_x": {
             "color": "#2a3f5f"
            },
            "error_y": {
             "color": "#2a3f5f"
            },
            "marker": {
             "line": {
              "color": "#E5ECF6",
              "width": 0.5
             }
            },
            "type": "bar"
           }
          ],
          "barpolar": [
           {
            "marker": {
             "line": {
              "color": "#E5ECF6",
              "width": 0.5
             }
            },
            "type": "barpolar"
           }
          ],
          "carpet": [
           {
            "aaxis": {
             "endlinecolor": "#2a3f5f",
             "gridcolor": "white",
             "linecolor": "white",
             "minorgridcolor": "white",
             "startlinecolor": "#2a3f5f"
            },
            "baxis": {
             "endlinecolor": "#2a3f5f",
             "gridcolor": "white",
             "linecolor": "white",
             "minorgridcolor": "white",
             "startlinecolor": "#2a3f5f"
            },
            "type": "carpet"
           }
          ],
          "choropleth": [
           {
            "colorbar": {
             "outlinewidth": 0,
             "ticks": ""
            },
            "type": "choropleth"
           }
          ],
          "contour": [
           {
            "colorbar": {
             "outlinewidth": 0,
             "ticks": ""
            },
            "colorscale": [
             [
              0,
              "#0d0887"
             ],
             [
              0.1111111111111111,
              "#46039f"
             ],
             [
              0.2222222222222222,
              "#7201a8"
             ],
             [
              0.3333333333333333,
              "#9c179e"
             ],
             [
              0.4444444444444444,
              "#bd3786"
             ],
             [
              0.5555555555555556,
              "#d8576b"
             ],
             [
              0.6666666666666666,
              "#ed7953"
             ],
             [
              0.7777777777777778,
              "#fb9f3a"
             ],
             [
              0.8888888888888888,
              "#fdca26"
             ],
             [
              1,
              "#f0f921"
             ]
            ],
            "type": "contour"
           }
          ],
          "contourcarpet": [
           {
            "colorbar": {
             "outlinewidth": 0,
             "ticks": ""
            },
            "type": "contourcarpet"
           }
          ],
          "heatmap": [
           {
            "colorbar": {
             "outlinewidth": 0,
             "ticks": ""
            },
            "colorscale": [
             [
              0,
              "#0d0887"
             ],
             [
              0.1111111111111111,
              "#46039f"
             ],
             [
              0.2222222222222222,
              "#7201a8"
             ],
             [
              0.3333333333333333,
              "#9c179e"
             ],
             [
              0.4444444444444444,
              "#bd3786"
             ],
             [
              0.5555555555555556,
              "#d8576b"
             ],
             [
              0.6666666666666666,
              "#ed7953"
             ],
             [
              0.7777777777777778,
              "#fb9f3a"
             ],
             [
              0.8888888888888888,
              "#fdca26"
             ],
             [
              1,
              "#f0f921"
             ]
            ],
            "type": "heatmap"
           }
          ],
          "heatmapgl": [
           {
            "colorbar": {
             "outlinewidth": 0,
             "ticks": ""
            },
            "colorscale": [
             [
              0,
              "#0d0887"
             ],
             [
              0.1111111111111111,
              "#46039f"
             ],
             [
              0.2222222222222222,
              "#7201a8"
             ],
             [
              0.3333333333333333,
              "#9c179e"
             ],
             [
              0.4444444444444444,
              "#bd3786"
             ],
             [
              0.5555555555555556,
              "#d8576b"
             ],
             [
              0.6666666666666666,
              "#ed7953"
             ],
             [
              0.7777777777777778,
              "#fb9f3a"
             ],
             [
              0.8888888888888888,
              "#fdca26"
             ],
             [
              1,
              "#f0f921"
             ]
            ],
            "type": "heatmapgl"
           }
          ],
          "histogram": [
           {
            "marker": {
             "colorbar": {
              "outlinewidth": 0,
              "ticks": ""
             }
            },
            "type": "histogram"
           }
          ],
          "histogram2d": [
           {
            "colorbar": {
             "outlinewidth": 0,
             "ticks": ""
            },
            "colorscale": [
             [
              0,
              "#0d0887"
             ],
             [
              0.1111111111111111,
              "#46039f"
             ],
             [
              0.2222222222222222,
              "#7201a8"
             ],
             [
              0.3333333333333333,
              "#9c179e"
             ],
             [
              0.4444444444444444,
              "#bd3786"
             ],
             [
              0.5555555555555556,
              "#d8576b"
             ],
             [
              0.6666666666666666,
              "#ed7953"
             ],
             [
              0.7777777777777778,
              "#fb9f3a"
             ],
             [
              0.8888888888888888,
              "#fdca26"
             ],
             [
              1,
              "#f0f921"
             ]
            ],
            "type": "histogram2d"
           }
          ],
          "histogram2dcontour": [
           {
            "colorbar": {
             "outlinewidth": 0,
             "ticks": ""
            },
            "colorscale": [
             [
              0,
              "#0d0887"
             ],
             [
              0.1111111111111111,
              "#46039f"
             ],
             [
              0.2222222222222222,
              "#7201a8"
             ],
             [
              0.3333333333333333,
              "#9c179e"
             ],
             [
              0.4444444444444444,
              "#bd3786"
             ],
             [
              0.5555555555555556,
              "#d8576b"
             ],
             [
              0.6666666666666666,
              "#ed7953"
             ],
             [
              0.7777777777777778,
              "#fb9f3a"
             ],
             [
              0.8888888888888888,
              "#fdca26"
             ],
             [
              1,
              "#f0f921"
             ]
            ],
            "type": "histogram2dcontour"
           }
          ],
          "mesh3d": [
           {
            "colorbar": {
             "outlinewidth": 0,
             "ticks": ""
            },
            "type": "mesh3d"
           }
          ],
          "parcoords": [
           {
            "line": {
             "colorbar": {
              "outlinewidth": 0,
              "ticks": ""
             }
            },
            "type": "parcoords"
           }
          ],
          "pie": [
           {
            "automargin": true,
            "type": "pie"
           }
          ],
          "scatter": [
           {
            "marker": {
             "colorbar": {
              "outlinewidth": 0,
              "ticks": ""
             }
            },
            "type": "scatter"
           }
          ],
          "scatter3d": [
           {
            "line": {
             "colorbar": {
              "outlinewidth": 0,
              "ticks": ""
             }
            },
            "marker": {
             "colorbar": {
              "outlinewidth": 0,
              "ticks": ""
             }
            },
            "type": "scatter3d"
           }
          ],
          "scattercarpet": [
           {
            "marker": {
             "colorbar": {
              "outlinewidth": 0,
              "ticks": ""
             }
            },
            "type": "scattercarpet"
           }
          ],
          "scattergeo": [
           {
            "marker": {
             "colorbar": {
              "outlinewidth": 0,
              "ticks": ""
             }
            },
            "type": "scattergeo"
           }
          ],
          "scattergl": [
           {
            "marker": {
             "colorbar": {
              "outlinewidth": 0,
              "ticks": ""
             }
            },
            "type": "scattergl"
           }
          ],
          "scattermapbox": [
           {
            "marker": {
             "colorbar": {
              "outlinewidth": 0,
              "ticks": ""
             }
            },
            "type": "scattermapbox"
           }
          ],
          "scatterpolar": [
           {
            "marker": {
             "colorbar": {
              "outlinewidth": 0,
              "ticks": ""
             }
            },
            "type": "scatterpolar"
           }
          ],
          "scatterpolargl": [
           {
            "marker": {
             "colorbar": {
              "outlinewidth": 0,
              "ticks": ""
             }
            },
            "type": "scatterpolargl"
           }
          ],
          "scatterternary": [
           {
            "marker": {
             "colorbar": {
              "outlinewidth": 0,
              "ticks": ""
             }
            },
            "type": "scatterternary"
           }
          ],
          "surface": [
           {
            "colorbar": {
             "outlinewidth": 0,
             "ticks": ""
            },
            "colorscale": [
             [
              0,
              "#0d0887"
             ],
             [
              0.1111111111111111,
              "#46039f"
             ],
             [
              0.2222222222222222,
              "#7201a8"
             ],
             [
              0.3333333333333333,
              "#9c179e"
             ],
             [
              0.4444444444444444,
              "#bd3786"
             ],
             [
              0.5555555555555556,
              "#d8576b"
             ],
             [
              0.6666666666666666,
              "#ed7953"
             ],
             [
              0.7777777777777778,
              "#fb9f3a"
             ],
             [
              0.8888888888888888,
              "#fdca26"
             ],
             [
              1,
              "#f0f921"
             ]
            ],
            "type": "surface"
           }
          ],
          "table": [
           {
            "cells": {
             "fill": {
              "color": "#EBF0F8"
             },
             "line": {
              "color": "white"
             }
            },
            "header": {
             "fill": {
              "color": "#C8D4E3"
             },
             "line": {
              "color": "white"
             }
            },
            "type": "table"
           }
          ]
         },
         "layout": {
          "annotationdefaults": {
           "arrowcolor": "#2a3f5f",
           "arrowhead": 0,
           "arrowwidth": 1
          },
          "coloraxis": {
           "colorbar": {
            "outlinewidth": 0,
            "ticks": ""
           }
          },
          "colorscale": {
           "diverging": [
            [
             0,
             "#8e0152"
            ],
            [
             0.1,
             "#c51b7d"
            ],
            [
             0.2,
             "#de77ae"
            ],
            [
             0.3,
             "#f1b6da"
            ],
            [
             0.4,
             "#fde0ef"
            ],
            [
             0.5,
             "#f7f7f7"
            ],
            [
             0.6,
             "#e6f5d0"
            ],
            [
             0.7,
             "#b8e186"
            ],
            [
             0.8,
             "#7fbc41"
            ],
            [
             0.9,
             "#4d9221"
            ],
            [
             1,
             "#276419"
            ]
           ],
           "sequential": [
            [
             0,
             "#0d0887"
            ],
            [
             0.1111111111111111,
             "#46039f"
            ],
            [
             0.2222222222222222,
             "#7201a8"
            ],
            [
             0.3333333333333333,
             "#9c179e"
            ],
            [
             0.4444444444444444,
             "#bd3786"
            ],
            [
             0.5555555555555556,
             "#d8576b"
            ],
            [
             0.6666666666666666,
             "#ed7953"
            ],
            [
             0.7777777777777778,
             "#fb9f3a"
            ],
            [
             0.8888888888888888,
             "#fdca26"
            ],
            [
             1,
             "#f0f921"
            ]
           ],
           "sequentialminus": [
            [
             0,
             "#0d0887"
            ],
            [
             0.1111111111111111,
             "#46039f"
            ],
            [
             0.2222222222222222,
             "#7201a8"
            ],
            [
             0.3333333333333333,
             "#9c179e"
            ],
            [
             0.4444444444444444,
             "#bd3786"
            ],
            [
             0.5555555555555556,
             "#d8576b"
            ],
            [
             0.6666666666666666,
             "#ed7953"
            ],
            [
             0.7777777777777778,
             "#fb9f3a"
            ],
            [
             0.8888888888888888,
             "#fdca26"
            ],
            [
             1,
             "#f0f921"
            ]
           ]
          },
          "colorway": [
           "#636efa",
           "#EF553B",
           "#00cc96",
           "#ab63fa",
           "#FFA15A",
           "#19d3f3",
           "#FF6692",
           "#B6E880",
           "#FF97FF",
           "#FECB52"
          ],
          "font": {
           "color": "#2a3f5f"
          },
          "geo": {
           "bgcolor": "white",
           "lakecolor": "white",
           "landcolor": "#E5ECF6",
           "showlakes": true,
           "showland": true,
           "subunitcolor": "white"
          },
          "hoverlabel": {
           "align": "left"
          },
          "hovermode": "closest",
          "mapbox": {
           "style": "light"
          },
          "paper_bgcolor": "white",
          "plot_bgcolor": "#E5ECF6",
          "polar": {
           "angularaxis": {
            "gridcolor": "white",
            "linecolor": "white",
            "ticks": ""
           },
           "bgcolor": "#E5ECF6",
           "radialaxis": {
            "gridcolor": "white",
            "linecolor": "white",
            "ticks": ""
           }
          },
          "scene": {
           "xaxis": {
            "backgroundcolor": "#E5ECF6",
            "gridcolor": "white",
            "gridwidth": 2,
            "linecolor": "white",
            "showbackground": true,
            "ticks": "",
            "zerolinecolor": "white"
           },
           "yaxis": {
            "backgroundcolor": "#E5ECF6",
            "gridcolor": "white",
            "gridwidth": 2,
            "linecolor": "white",
            "showbackground": true,
            "ticks": "",
            "zerolinecolor": "white"
           },
           "zaxis": {
            "backgroundcolor": "#E5ECF6",
            "gridcolor": "white",
            "gridwidth": 2,
            "linecolor": "white",
            "showbackground": true,
            "ticks": "",
            "zerolinecolor": "white"
           }
          },
          "shapedefaults": {
           "line": {
            "color": "#2a3f5f"
           }
          },
          "ternary": {
           "aaxis": {
            "gridcolor": "white",
            "linecolor": "white",
            "ticks": ""
           },
           "baxis": {
            "gridcolor": "white",
            "linecolor": "white",
            "ticks": ""
           },
           "bgcolor": "#E5ECF6",
           "caxis": {
            "gridcolor": "white",
            "linecolor": "white",
            "ticks": ""
           }
          },
          "title": {
           "x": 0.05
          },
          "xaxis": {
           "automargin": true,
           "gridcolor": "white",
           "linecolor": "white",
           "ticks": "",
           "title": {
            "standoff": 15
           },
           "zerolinecolor": "white",
           "zerolinewidth": 2
          },
          "yaxis": {
           "automargin": true,
           "gridcolor": "white",
           "linecolor": "white",
           "ticks": "",
           "title": {
            "standoff": 15
           },
           "zerolinecolor": "white",
           "zerolinewidth": 2
          }
         }
        },
        "title": {
         "text": "Distribuition of Categorical Data"
        },
        "width": 1100,
        "xaxis": {
         "anchor": "y",
         "autorange": true,
         "domain": [
          0,
          0.4625
         ],
         "range": [
          -0.5,
          17.5
         ],
         "tickangle": 45,
         "type": "category"
        },
        "xaxis10": {
         "anchor": "y10",
         "domain": [
          0.5375,
          1
         ],
         "tickangle": 45
        },
        "xaxis2": {
         "anchor": "y2",
         "autorange": true,
         "domain": [
          0.5375,
          1
         ],
         "range": [
          -0.5,
          17.5
         ],
         "tickangle": 45,
         "type": "category"
        },
        "xaxis3": {
         "anchor": "y3",
         "autorange": true,
         "domain": [
          0,
          0.4625
         ],
         "range": [
          -0.5,
          9.5
         ],
         "tickangle": 45,
         "type": "category"
        },
        "xaxis4": {
         "anchor": "y4",
         "autorange": true,
         "domain": [
          0.5375,
          1
         ],
         "range": [
          -0.5,
          1.5
         ],
         "tickangle": 45,
         "type": "category"
        },
        "xaxis5": {
         "anchor": "y5",
         "autorange": true,
         "domain": [
          0,
          0.4625
         ],
         "range": [
          -0.5,
          1.5
         ],
         "tickangle": 45,
         "type": "category"
        },
        "xaxis6": {
         "anchor": "y6",
         "autorange": true,
         "domain": [
          0.5375,
          1
         ],
         "range": [
          -0.5,
          14.5
         ],
         "tickangle": 45,
         "type": "category"
        },
        "xaxis7": {
         "anchor": "y7",
         "autorange": true,
         "domain": [
          0,
          0.4625
         ],
         "range": [
          -0.5,
          12.5
         ],
         "tickangle": 45,
         "type": "category"
        },
        "xaxis8": {
         "anchor": "y8",
         "autorange": true,
         "domain": [
          0.5375,
          1
         ],
         "range": [
          -0.5,
          1.5
         ],
         "tickangle": 45,
         "type": "category"
        },
        "xaxis9": {
         "anchor": "y9",
         "autorange": true,
         "domain": [
          0,
          0.4625
         ],
         "range": [
          -0.5,
          13.5
         ],
         "tickangle": 45,
         "type": "category"
        },
        "yaxis": {
         "anchor": "x",
         "autorange": true,
         "domain": [
          0.872,
          1
         ],
         "range": [
          0,
          110.52631578947368
         ],
         "showgrid": false,
         "showticklabels": false,
         "type": "linear"
        },
        "yaxis10": {
         "anchor": "x10",
         "domain": [
          0,
          0.128
         ],
         "showgrid": false,
         "showticklabels": false
        },
        "yaxis2": {
         "anchor": "x2",
         "autorange": true,
         "domain": [
          0.872,
          1
         ],
         "range": [
          0,
          91.57894736842105
         ],
         "showgrid": false,
         "showticklabels": false,
         "type": "linear"
        },
        "yaxis3": {
         "anchor": "x3",
         "autorange": true,
         "domain": [
          0.654,
          0.782
         ],
         "range": [
          0,
          141.05263157894737
         ],
         "showgrid": false,
         "showticklabels": false,
         "type": "linear"
        },
        "yaxis4": {
         "anchor": "x4",
         "autorange": true,
         "domain": [
          0.654,
          0.782
         ],
         "range": [
          0,
          710.5263157894736
         ],
         "showgrid": false,
         "showticklabels": false,
         "type": "linear"
        },
        "yaxis5": {
         "anchor": "x5",
         "autorange": true,
         "domain": [
          0.436,
          0.5640000000000001
         ],
         "range": [
          0,
          677.8947368421052
         ],
         "showgrid": false,
         "showticklabels": false,
         "type": "linear"
        },
        "yaxis6": {
         "anchor": "x6",
         "autorange": true,
         "domain": [
          0.436,
          0.5640000000000001
         ],
         "range": [
          0,
          177.89473684210526
         ],
         "showgrid": false,
         "showticklabels": false,
         "type": "linear"
        },
        "yaxis7": {
         "anchor": "x7",
         "autorange": true,
         "domain": [
          0.218,
          0.346
         ],
         "range": [
          0,
          36.8421052631579
         ],
         "showgrid": false,
         "showticklabels": false,
         "type": "linear"
        },
        "yaxis8": {
         "anchor": "x8",
         "autorange": true,
         "domain": [
          0.218,
          0.346
         ],
         "range": [
          0,
          710.5263157894736
         ],
         "showgrid": false,
         "showticklabels": false,
         "type": "linear"
        },
        "yaxis9": {
         "anchor": "x9",
         "autorange": true,
         "domain": [
          0,
          0.128
         ],
         "range": [
          0,
          166.31578947368422
         ],
         "showgrid": false,
         "showticklabels": false,
         "type": "linear"
        }
       }
      },
      "image/png": "[encoded data removed]",
      "text/html": [
       "<div>\n",
       "        \n",
       "        \n",
       "            <div id=\"5bb01916-70fb-424a-959c-361a0066e4dd\" class=\"plotly-graph-div\" style=\"height:1200px; width:1100px;\"></div>\n",
       "            <script type=\"text/javascript\">\n",
       "                require([\"plotly\"], function(Plotly) {\n",
       "                    window.PLOTLYENV=window.PLOTLYENV || {};\n",
       "                    \n",
       "                if (document.getElementById(\"5bb01916-70fb-424a-959c-361a0066e4dd\")) {\n",
       "                    Plotly.newPlot(\n",
       "                        '5bb01916-70fb-424a-959c-361a0066e4dd',\n",
       "                        [{\"name\": \"Type_1\", \"text\": [105.0, 93.0, 66.0, 63.0, 47.0, 47.0, 41.0, 36.0, 30.0, 28.0, 28.0, 25.0, 24.0, 23.0, 23.0, 22.0, 17.0, 3.0], \"textposition\": \"auto\", \"type\": \"bar\", \"x\": [\"Water\", \"Normal\", \"Grass\", \"Bug\", \"Psychic\", \"Fire\", \"Rock\", \"Electric\", \"Ground\", \"Dark\", \"Poison\", \"Fighting\", \"Dragon\", \"Ghost\", \"Ice\", \"Steel\", \"Fairy\", \"Flying\"], \"xaxis\": \"x\", \"y\": [105, 93, 66, 63, 47, 47, 41, 36, 30, 28, 28, 25, 24, 23, 23, 22, 17, 3], \"yaxis\": \"y\"}, {\"name\": \"Type_2\", \"text\": [87.0, 31.0, 30.0, 27.0, 19.0, 19.0, 18.0, 18.0, 16.0, 14.0, 14.0, 13.0, 12.0, 10.0, 9.0, 6.0, 4.0, 3.0], \"textposition\": \"auto\", \"type\": \"bar\", \"x\": [\"Flying\", \"Poison\", \"Ground\", \"Psychic\", \"Steel\", \"Fighting\", \"Grass\", \"Fairy\", \"Dark\", \"Rock\", \"Dragon\", \"Water\", \"Ghost\", \"Ice\", \"Fire\", \"Electric\", \"Normal\", \"Bug\"], \"xaxis\": \"x2\", \"y\": [87, 31, 30, 27, 19, 19, 18, 18, 16, 14, 14, 13, 12, 10, 9, 6, 4, 3], \"yaxis\": \"y2\"}, {\"name\": \"Color\", \"text\": [134.0, 110.0, 79.0, 75.0, 69.0, 65.0, 64.0, 52.0, 41.0, 32.0], \"textposition\": \"auto\", \"type\": \"bar\", \"x\": [\"Blue\", \"Brown\", \"Green\", \"Red\", \"Grey\", \"Purple\", \"Yellow\", \"White\", \"Pink\", \"Black\"], \"xaxis\": \"x3\", \"y\": [134, 110, 79, 75, 69, 65, 64, 52, 41, 32], \"yaxis\": \"y3\"}, {\"name\": \"isLegendary\", \"text\": [675.0, 46.0], \"textposition\": \"auto\", \"type\": \"bar\", \"x\": [false, true], \"xaxis\": \"x4\", \"y\": [675, 46], \"yaxis\": \"y4\"}, {\"name\": \"hasGender\", \"text\": [644.0, 77.0], \"textposition\": \"auto\", \"type\": \"bar\", \"x\": [true, false], \"xaxis\": \"x5\", \"y\": [644, 77], \"yaxis\": \"y5\"}, {\"name\": \"Egg_Group_1\", \"text\": [169.0, 74.0, 74.0, 73.0, 66.0, 46.0, 44.0, 41.0, 37.0, 30.0, 27.0, 15.0, 14.0, 10.0, 1.0], \"textposition\": \"auto\", \"type\": \"bar\", \"x\": [\"Field\", \"Monster\", \"Water_1\", \"Undiscovered\", \"Bug\", \"Mineral\", \"Flying\", \"Amorphous\", \"Human-Like\", \"Fairy\", \"Grass\", \"Water_2\", \"Water_3\", \"Dragon\", \"Ditto\"], \"xaxis\": \"x6\", \"y\": [169, 74, 74, 73, 66, 46, 44, 41, 37, 30, 27, 15, 14, 10, 1], \"yaxis\": \"y6\"}, {\"name\": \"Egg_Group_2\", \"text\": [35.0, 32.0, 31.0, 17.0, 15.0, 15.0, 13.0, 8.0, 8.0, 8.0, 6.0, 2.0, 1.0], \"textposition\": \"auto\", \"type\": \"bar\", \"x\": [\"Dragon\", \"Grass\", \"Field\", \"Fairy\", \"Water_3\", \"Human-Like\", \"Water_1\", \"Amorphous\", \"Water_2\", \"Mineral\", \"Flying\", \"Bug\", \"Monster\"], \"xaxis\": \"x7\", \"y\": [35, 32, 31, 17, 15, 15, 13, 8, 8, 8, 6, 2, 1], \"yaxis\": \"y7\"}, {\"name\": \"hasMegaEvolution\", \"text\": [675.0, 46.0], \"textposition\": \"auto\", \"type\": \"bar\", \"x\": [false, true], \"xaxis\": \"x8\", \"y\": [675, 46], \"yaxis\": \"y8\"}, {\"name\": \"Body_Style\", \"text\": [158.0, 135.0, 109.0, 63.0, 39.0, 34.0, 31.0, 30.0, 30.0, 29.0, 18.0, 17.0, 15.0, 13.0], \"textposition\": \"auto\", \"type\": \"bar\", \"x\": [\"bipedal_tailed\", \"quadruped\", \"bipedal_tailless\", \"two_wings\", \"head_arms\", \"head_only\", \"with_fins\", \"head_base\", \"insectoid\", \"serpentine_body\", \"four_wings\", \"head_legs\", \"multiple_bodies\", \"several_limbs\"], \"xaxis\": \"x9\", \"y\": [158, 135, 109, 63, 39, 34, 31, 30, 30, 29, 18, 17, 15, 13], \"yaxis\": \"y9\"}],\n",
       "                        {\"annotations\": [{\"font\": {\"size\": 16}, \"showarrow\": false, \"text\": \"Type_1\", \"x\": 0.23125, \"xanchor\": \"center\", \"xref\": \"paper\", \"y\": 1.0, \"yanchor\": \"bottom\", \"yref\": \"paper\"}, {\"font\": {\"size\": 16}, \"showarrow\": false, \"text\": \"Type_2\", \"x\": 0.76875, \"xanchor\": \"center\", \"xref\": \"paper\", \"y\": 1.0, \"yanchor\": \"bottom\", \"yref\": \"paper\"}, {\"font\": {\"size\": 16}, \"showarrow\": false, \"text\": \"Color\", \"x\": 0.23125, \"xanchor\": \"center\", \"xref\": \"paper\", \"y\": 0.782, \"yanchor\": \"bottom\", \"yref\": \"paper\"}, {\"font\": {\"size\": 16}, \"showarrow\": false, \"text\": \"isLegendary\", \"x\": 0.76875, \"xanchor\": \"center\", \"xref\": \"paper\", \"y\": 0.782, \"yanchor\": \"bottom\", \"yref\": \"paper\"}, {\"font\": {\"size\": 16}, \"showarrow\": false, \"text\": \"hasGender\", \"x\": 0.23125, \"xanchor\": \"center\", \"xref\": \"paper\", \"y\": 0.5640000000000001, \"yanchor\": \"bottom\", \"yref\": \"paper\"}, {\"font\": {\"size\": 16}, \"showarrow\": false, \"text\": \"Egg_Group_1\", \"x\": 0.76875, \"xanchor\": \"center\", \"xref\": \"paper\", \"y\": 0.5640000000000001, \"yanchor\": \"bottom\", \"yref\": \"paper\"}, {\"font\": {\"size\": 16}, \"showarrow\": false, \"text\": \"Egg_Group_2\", \"x\": 0.23125, \"xanchor\": \"center\", \"xref\": \"paper\", \"y\": 0.346, \"yanchor\": \"bottom\", \"yref\": \"paper\"}, {\"font\": {\"size\": 16}, \"showarrow\": false, \"text\": \"hasMegaEvolution\", \"x\": 0.76875, \"xanchor\": \"center\", \"xref\": \"paper\", \"y\": 0.346, \"yanchor\": \"bottom\", \"yref\": \"paper\"}, {\"font\": {\"size\": 16}, \"showarrow\": false, \"text\": \"Body_Style\", \"x\": 0.23125, \"xanchor\": \"center\", \"xref\": \"paper\", \"y\": 0.128, \"yanchor\": \"bottom\", \"yref\": \"paper\"}], \"height\": 1200, \"template\": {\"data\": {\"bar\": [{\"error_x\": {\"color\": \"#2a3f5f\"}, \"error_y\": {\"color\": \"#2a3f5f\"}, \"marker\": {\"line\": {\"color\": \"#E5ECF6\", \"width\": 0.5}}, \"type\": \"bar\"}], \"barpolar\": [{\"marker\": {\"line\": {\"color\": \"#E5ECF6\", \"width\": 0.5}}, \"type\": \"barpolar\"}], \"carpet\": [{\"aaxis\": {\"endlinecolor\": \"#2a3f5f\", \"gridcolor\": \"white\", \"linecolor\": \"white\", \"minorgridcolor\": \"white\", \"startlinecolor\": \"#2a3f5f\"}, \"baxis\": {\"endlinecolor\": \"#2a3f5f\", \"gridcolor\": \"white\", \"linecolor\": \"white\", \"minorgridcolor\": \"white\", \"startlinecolor\": \"#2a3f5f\"}, \"type\": \"carpet\"}], \"choropleth\": [{\"colorbar\": {\"outlinewidth\": 0, \"ticks\": \"\"}, \"type\": \"choropleth\"}], \"contour\": [{\"colorbar\": {\"outlinewidth\": 0, \"ticks\": \"\"}, \"colorscale\": [[0.0, \"#0d0887\"], [0.1111111111111111, \"#46039f\"], [0.2222222222222222, \"#7201a8\"], [0.3333333333333333, \"#9c179e\"], [0.4444444444444444, \"#bd3786\"], [0.5555555555555556, \"#d8576b\"], [0.6666666666666666, \"#ed7953\"], [0.7777777777777778, \"#fb9f3a\"], [0.8888888888888888, \"#fdca26\"], [1.0, \"#f0f921\"]], \"type\": \"contour\"}], \"contourcarpet\": [{\"colorbar\": {\"outlinewidth\": 0, \"ticks\": \"\"}, \"type\": \"contourcarpet\"}], \"heatmap\": [{\"colorbar\": {\"outlinewidth\": 0, \"ticks\": \"\"}, \"colorscale\": [[0.0, \"#0d0887\"], [0.1111111111111111, \"#46039f\"], [0.2222222222222222, \"#7201a8\"], [0.3333333333333333, \"#9c179e\"], [0.4444444444444444, \"#bd3786\"], [0.5555555555555556, \"#d8576b\"], [0.6666666666666666, \"#ed7953\"], [0.7777777777777778, \"#fb9f3a\"], [0.8888888888888888, \"#fdca26\"], [1.0, \"#f0f921\"]], \"type\": \"heatmap\"}], \"heatmapgl\": [{\"colorbar\": {\"outlinewidth\": 0, \"ticks\": \"\"}, \"colorscale\": [[0.0, \"#0d0887\"], [0.1111111111111111, \"#46039f\"], [0.2222222222222222, \"#7201a8\"], [0.3333333333333333, \"#9c179e\"], [0.4444444444444444, \"#bd3786\"], [0.5555555555555556, \"#d8576b\"], [0.6666666666666666, \"#ed7953\"], [0.7777777777777778, \"#fb9f3a\"], [0.8888888888888888, \"#fdca26\"], [1.0, \"#f0f921\"]], \"type\": \"heatmapgl\"}], \"histogram\": [{\"marker\": {\"colorbar\": {\"outlinewidth\": 0, \"ticks\": \"\"}}, \"type\": \"histogram\"}], \"histogram2d\": [{\"colorbar\": {\"outlinewidth\": 0, \"ticks\": \"\"}, \"colorscale\": [[0.0, \"#0d0887\"], [0.1111111111111111, \"#46039f\"], [0.2222222222222222, \"#7201a8\"], [0.3333333333333333, \"#9c179e\"], [0.4444444444444444, \"#bd3786\"], [0.5555555555555556, \"#d8576b\"], [0.6666666666666666, \"#ed7953\"], [0.7777777777777778, \"#fb9f3a\"], [0.8888888888888888, \"#fdca26\"], [1.0, \"#f0f921\"]], \"type\": \"histogram2d\"}], \"histogram2dcontour\": [{\"colorbar\": {\"outlinewidth\": 0, \"ticks\": \"\"}, \"colorscale\": [[0.0, \"#0d0887\"], [0.1111111111111111, \"#46039f\"], [0.2222222222222222, \"#7201a8\"], [0.3333333333333333, \"#9c179e\"], [0.4444444444444444, \"#bd3786\"], [0.5555555555555556, \"#d8576b\"], [0.6666666666666666, \"#ed7953\"], [0.7777777777777778, \"#fb9f3a\"], [0.8888888888888888, \"#fdca26\"], [1.0, \"#f0f921\"]], \"type\": \"histogram2dcontour\"}], \"mesh3d\": [{\"colorbar\": {\"outlinewidth\": 0, \"ticks\": \"\"}, \"type\": \"mesh3d\"}], \"parcoords\": [{\"line\": {\"colorbar\": {\"outlinewidth\": 0, \"ticks\": \"\"}}, \"type\": \"parcoords\"}], \"pie\": [{\"automargin\": true, \"type\": \"pie\"}], \"scatter\": [{\"marker\": {\"colorbar\": {\"outlinewidth\": 0, \"ticks\": \"\"}}, \"type\": \"scatter\"}], \"scatter3d\": [{\"line\": {\"colorbar\": {\"outlinewidth\": 0, \"ticks\": \"\"}}, \"marker\": {\"colorbar\": {\"outlinewidth\": 0, \"ticks\": \"\"}}, \"type\": \"scatter3d\"}], \"scattercarpet\": [{\"marker\": {\"colorbar\": {\"outlinewidth\": 0, \"ticks\": \"\"}}, \"type\": \"scattercarpet\"}], \"scattergeo\": [{\"marker\": {\"colorbar\": {\"outlinewidth\": 0, \"ticks\": \"\"}}, \"type\": \"scattergeo\"}], \"scattergl\": [{\"marker\": {\"colorbar\": {\"outlinewidth\": 0, \"ticks\": \"\"}}, \"type\": \"scattergl\"}], \"scattermapbox\": [{\"marker\": {\"colorbar\": {\"outlinewidth\": 0, \"ticks\": \"\"}}, \"type\": \"scattermapbox\"}], \"scatterpolar\": [{\"marker\": {\"colorbar\": {\"outlinewidth\": 0, \"ticks\": \"\"}}, \"type\": \"scatterpolar\"}], \"scatterpolargl\": [{\"marker\": {\"colorbar\": {\"outlinewidth\": 0, \"ticks\": \"\"}}, \"type\": \"scatterpolargl\"}], \"scatterternary\": [{\"marker\": {\"colorbar\": {\"outlinewidth\": 0, \"ticks\": \"\"}}, \"type\": \"scatterternary\"}], \"surface\": [{\"colorbar\": {\"outlinewidth\": 0, \"ticks\": \"\"}, \"colorscale\": [[0.0, \"#0d0887\"], [0.1111111111111111, \"#46039f\"], [0.2222222222222222, \"#7201a8\"], [0.3333333333333333, \"#9c179e\"], [0.4444444444444444, \"#bd3786\"], [0.5555555555555556, \"#d8576b\"], [0.6666666666666666, \"#ed7953\"], [0.7777777777777778, \"#fb9f3a\"], [0.8888888888888888, \"#fdca26\"], [1.0, \"#f0f921\"]], \"type\": \"surface\"}], \"table\": [{\"cells\": {\"fill\": {\"color\": \"#EBF0F8\"}, \"line\": {\"color\": \"white\"}}, \"header\": {\"fill\": {\"color\": \"#C8D4E3\"}, \"line\": {\"color\": \"white\"}}, \"type\": \"table\"}]}, \"layout\": {\"annotationdefaults\": {\"arrowcolor\": \"#2a3f5f\", \"arrowhead\": 0, \"arrowwidth\": 1}, \"coloraxis\": {\"colorbar\": {\"outlinewidth\": 0, \"ticks\": \"\"}}, \"colorscale\": {\"diverging\": [[0, \"#8e0152\"], [0.1, \"#c51b7d\"], [0.2, \"#de77ae\"], [0.3, \"#f1b6da\"], [0.4, \"#fde0ef\"], [0.5, \"#f7f7f7\"], [0.6, \"#e6f5d0\"], [0.7, \"#b8e186\"], [0.8, \"#7fbc41\"], [0.9, \"#4d9221\"], [1, \"#276419\"]], \"sequential\": [[0.0, \"#0d0887\"], [0.1111111111111111, \"#46039f\"], [0.2222222222222222, \"#7201a8\"], [0.3333333333333333, \"#9c179e\"], [0.4444444444444444, \"#bd3786\"], [0.5555555555555556, \"#d8576b\"], [0.6666666666666666, \"#ed7953\"], [0.7777777777777778, \"#fb9f3a\"], [0.8888888888888888, \"#fdca26\"], [1.0, \"#f0f921\"]], \"sequentialminus\": [[0.0, \"#0d0887\"], [0.1111111111111111, \"#46039f\"], [0.2222222222222222, \"#7201a8\"], [0.3333333333333333, \"#9c179e\"], [0.4444444444444444, \"#bd3786\"], [0.5555555555555556, \"#d8576b\"], [0.6666666666666666, \"#ed7953\"], [0.7777777777777778, \"#fb9f3a\"], [0.8888888888888888, \"#fdca26\"], [1.0, \"#f0f921\"]]}, \"colorway\": [\"#636efa\", \"#EF553B\", \"#00cc96\", \"#ab63fa\", \"#FFA15A\", \"#19d3f3\", \"#FF6692\", \"#B6E880\", \"#FF97FF\", \"#FECB52\"], \"font\": {\"color\": \"#2a3f5f\"}, \"geo\": {\"bgcolor\": \"white\", \"lakecolor\": \"white\", \"landcolor\": \"#E5ECF6\", \"showlakes\": true, \"showland\": true, \"subunitcolor\": \"white\"}, \"hoverlabel\": {\"align\": \"left\"}, \"hovermode\": \"closest\", \"mapbox\": {\"style\": \"light\"}, \"paper_bgcolor\": \"white\", \"plot_bgcolor\": \"#E5ECF6\", \"polar\": {\"angularaxis\": {\"gridcolor\": \"white\", \"linecolor\": \"white\", \"ticks\": \"\"}, \"bgcolor\": \"#E5ECF6\", \"radialaxis\": {\"gridcolor\": \"white\", \"linecolor\": \"white\", \"ticks\": \"\"}}, \"scene\": {\"xaxis\": {\"backgroundcolor\": \"#E5ECF6\", \"gridcolor\": \"white\", \"gridwidth\": 2, \"linecolor\": \"white\", \"showbackground\": true, \"ticks\": \"\", \"zerolinecolor\": \"white\"}, \"yaxis\": {\"backgroundcolor\": \"#E5ECF6\", \"gridcolor\": \"white\", \"gridwidth\": 2, \"linecolor\": \"white\", \"showbackground\": true, \"ticks\": \"\", \"zerolinecolor\": \"white\"}, \"zaxis\": {\"backgroundcolor\": \"#E5ECF6\", \"gridcolor\": \"white\", \"gridwidth\": 2, \"linecolor\": \"white\", \"showbackground\": true, \"ticks\": \"\", \"zerolinecolor\": \"white\"}}, \"shapedefaults\": {\"line\": {\"color\": \"#2a3f5f\"}}, \"ternary\": {\"aaxis\": {\"gridcolor\": \"white\", \"linecolor\": \"white\", \"ticks\": \"\"}, \"baxis\": {\"gridcolor\": \"white\", \"linecolor\": \"white\", \"ticks\": \"\"}, \"bgcolor\": \"#E5ECF6\", \"caxis\": {\"gridcolor\": \"white\", \"linecolor\": \"white\", \"ticks\": \"\"}}, \"title\": {\"x\": 0.05}, \"xaxis\": {\"automargin\": true, \"gridcolor\": \"white\", \"linecolor\": \"white\", \"ticks\": \"\", \"title\": {\"standoff\": 15}, \"zerolinecolor\": \"white\", \"zerolinewidth\": 2}, \"yaxis\": {\"automargin\": true, \"gridcolor\": \"white\", \"linecolor\": \"white\", \"ticks\": \"\", \"title\": {\"standoff\": 15}, \"zerolinecolor\": \"white\", \"zerolinewidth\": 2}}}, \"title\": {\"text\": \"Distribuition of Categorical Data\"}, \"width\": 1100, \"xaxis\": {\"anchor\": \"y\", \"domain\": [0.0, 0.4625], \"tickangle\": 45}, \"xaxis10\": {\"anchor\": \"y10\", \"domain\": [0.5375, 1.0], \"tickangle\": 45}, \"xaxis2\": {\"anchor\": \"y2\", \"domain\": [0.5375, 1.0], \"tickangle\": 45}, \"xaxis3\": {\"anchor\": \"y3\", \"domain\": [0.0, 0.4625], \"tickangle\": 45}, \"xaxis4\": {\"anchor\": \"y4\", \"domain\": [0.5375, 1.0], \"tickangle\": 45}, \"xaxis5\": {\"anchor\": \"y5\", \"domain\": [0.0, 0.4625], \"tickangle\": 45}, \"xaxis6\": {\"anchor\": \"y6\", \"domain\": [0.5375, 1.0], \"tickangle\": 45}, \"xaxis7\": {\"anchor\": \"y7\", \"domain\": [0.0, 0.4625], \"tickangle\": 45}, \"xaxis8\": {\"anchor\": \"y8\", \"domain\": [0.5375, 1.0], \"tickangle\": 45}, \"xaxis9\": {\"anchor\": \"y9\", \"domain\": [0.0, 0.4625], \"tickangle\": 45}, \"yaxis\": {\"anchor\": \"x\", \"domain\": [0.872, 1.0], \"showgrid\": false, \"showticklabels\": false}, \"yaxis10\": {\"anchor\": \"x10\", \"domain\": [0.0, 0.128], \"showgrid\": false, \"showticklabels\": false}, \"yaxis2\": {\"anchor\": \"x2\", \"domain\": [0.872, 1.0], \"showgrid\": false, \"showticklabels\": false}, \"yaxis3\": {\"anchor\": \"x3\", \"domain\": [0.654, 0.782], \"showgrid\": false, \"showticklabels\": false}, \"yaxis4\": {\"anchor\": \"x4\", \"domain\": [0.654, 0.782], \"showgrid\": false, \"showticklabels\": false}, \"yaxis5\": {\"anchor\": \"x5\", \"domain\": [0.436, 0.5640000000000001], \"showgrid\": false, \"showticklabels\": false}, \"yaxis6\": {\"anchor\": \"x6\", \"domain\": [0.436, 0.5640000000000001], \"showgrid\": false, \"showticklabels\": false}, \"yaxis7\": {\"anchor\": \"x7\", \"domain\": [0.218, 0.346], \"showgrid\": false, \"showticklabels\": false}, \"yaxis8\": {\"anchor\": \"x8\", \"domain\": [0.218, 0.346], \"showgrid\": false, \"showticklabels\": false}, \"yaxis9\": {\"anchor\": \"x9\", \"domain\": [0.0, 0.128], \"showgrid\": false, \"showticklabels\": false}},\n",
       "                        {\"responsive\": true}\n",
       "                    ).then(function(){\n",
       "                            \n",
       "var gd = document.getElementById('5bb01916-70fb-424a-959c-361a0066e4dd');\n",
       "var x = new MutationObserver(function (mutations, observer) {{\n",
       "        var display = window.getComputedStyle(gd).display;\n",
       "        if (!display || display === 'none') {{\n",
       "            console.log([gd, 'removed!']);\n",
       "            Plotly.purge(gd);\n",
       "            observer.disconnect();\n",
       "        }}\n",
       "}});\n",
       "\n",
       "// Listen for the removal of the full notebook cells\n",
       "var notebookContainer = gd.closest('#notebook-container');\n",
       "if (notebookContainer) {{\n",
       "    x.observe(notebookContainer, {childList: true});\n",
       "}}\n",
       "\n",
       "// Listen for the clearing of the current output cell\n",
       "var outputEl = gd.closest('.output');\n",
       "if (outputEl) {{\n",
       "    x.observe(outputEl, {childList: true});\n",
       "}}\n",
       "\n",
       "                        })\n",
       "                };\n",
       "                });\n",
       "            </script>\n",
       "        </div>"
      ]
     },
     "metadata": {},
     "output_type": "display_data"
    }
   ],
   "source": [
    "cat_feat = ['Type_1', 'Type_2', 'Color', 'isLegendary', \n",
    "              'hasGender', 'Egg_Group_1', 'Egg_Group_2', \n",
    "              'hasMegaEvolution', 'Body_Style']\n",
    "\n",
    "subplot_titles=[]\n",
    "fig = make_subplots(rows=5,cols=2,\n",
    "                    vertical_spacing=0.09,\n",
    "                    horizontal_spacing=0.075,\n",
    "                    subplot_titles=cat_feat)\n",
    "\n",
    "for enu, c in enumerate(cat_feat):\n",
    "    # total values\n",
    "    status_values = poke[c].value_counts().to_frame()\n",
    "    # plot distribuition\n",
    "    trace = go.Bar(x=status_values.index, \n",
    "                   y=status_values[c], \n",
    "                   text=status_values[c], \n",
    "                   textposition='auto',\n",
    "                   name=c\n",
    "                  )\n",
    "    \n",
    "    row=int(np.ceil((enu+1)/2))\n",
    "    col=(enu % 2)+1\n",
    "    fig.append_trace(trace, row=row, col=col)\n",
    "    fig.update_xaxes(tickangle = 45)\n",
    "    fig.update_yaxes(showgrid = False,showticklabels = False)\n",
    "    \n",
    "fig.update_layout(title_text='Distribuition of Categorical Data', \n",
    "                  height=1200, width=1100)\n",
    "\n",
    "fig.show()"
   ]
  },
  {
   "cell_type": "markdown",
   "metadata": {},
   "source": [
    "## Numerical features distribution"
   ]
  },
  {
   "cell_type": "code",
   "execution_count": 21,
   "metadata": {},
   "outputs": [
    {
     "data": {
      "image/jpeg": "[encoded data removed]",
      "text/plain": [
       "<IPython.core.display.Image object>"
      ]
     },
     "execution_count": 21,
     "metadata": {},
     "output_type": "execute_result"
    }
   ],
   "source": [
    "num_feat = ['Total','HP','Attack','Defense','Sp_Atk','Sp_Def',\n",
    "'Speed','Generation','Pr_Male','Height_m','Weight_kg','Catch_Rate']\n",
    "\n",
    "sub_fig = make_subplots(rows=int(np.ceil((len(num_feat))/3)),\n",
    "                        cols=3, \n",
    "                        vertical_spacing=0.09,\n",
    "                        horizontal_spacing=0.075,\n",
    "                        subplot_titles=num_feat)\n",
    "sub_fig.update_layout(title='XXXXXXXXXXXXXXXXX', height=800, width=800)\n",
    "#sub_fig.layout['annotations'] = list()\n",
    "anno = []\n",
    "\n",
    "for enu, i in enumerate(num_feat):\n",
    "    \n",
    "    row=int(np.ceil((enu+1)/3))\n",
    "    col=(enu % 3)+1\n",
    "    \n",
    "    if i == 'Pr_Male' or i == 'Height_m' or i == 'Generation':\n",
    "        fig = ff.create_distplot(hist_data=[poke[i].dropna()], \n",
    "                                 group_labels=[i],\n",
    "                                 bin_size=[.2], colors=[enu])\n",
    "    else:\n",
    "        fig = ff.create_distplot(hist_data=[poke[i].dropna()], \n",
    "                                 group_labels=[i],\n",
    "                                 bin_size=[10], colors=[enu])    \n",
    "    for mydata in fig['data']:\n",
    "        sub_fig.append_trace(mydata, row, col)\n",
    "        \n",
    "\n",
    "\n",
    "# To print image\n",
    "img_bytes = sub_fig.to_image(format=\"jpeg\")\n",
    "Image(img_bytes)\n",
    "\n",
    "#sub_fig.show()"
   ]
  },
  {
   "cell_type": "markdown",
   "metadata": {},
   "source": [
    "## Correlations Analysis"
   ]
  },
  {
   "cell_type": "code",
   "execution_count": 2,
   "metadata": {},
   "outputs": [
    {
     "data": {
      "text/html": [
       "<div>\n",
       "<style scoped>\n",
       "    .dataframe tbody tr th:only-of-type {\n",
       "        vertical-align: middle;\n",
       "    }\n",
       "\n",
       "    .dataframe tbody tr th {\n",
       "        vertical-align: top;\n",
       "    }\n",
       "\n",
       "    .dataframe thead th {\n",
       "        text-align: right;\n",
       "    }\n",
       "</style>\n",
       "<table border=\"1\" class=\"dataframe\">\n",
       "  <thead>\n",
       "    <tr style=\"text-align: right;\">\n",
       "      <th></th>\n",
       "      <th>Number</th>\n",
       "      <th>Total</th>\n",
       "      <th>HP</th>\n",
       "      <th>Attack</th>\n",
       "      <th>Defense</th>\n",
       "      <th>Sp_Atk</th>\n",
       "      <th>Sp_Def</th>\n",
       "      <th>Speed</th>\n",
       "      <th>Generation</th>\n",
       "      <th>isLegendary</th>\n",
       "      <th>hasGender</th>\n",
       "      <th>Pr_Male</th>\n",
       "      <th>hasMegaEvolution</th>\n",
       "      <th>Height_m</th>\n",
       "      <th>Weight_kg</th>\n",
       "      <th>Catch_Rate</th>\n",
       "    </tr>\n",
       "  </thead>\n",
       "  <tbody>\n",
       "    <tr>\n",
       "      <th>Number</th>\n",
       "      <td>1.000000</td>\n",
       "      <td>0.160370</td>\n",
       "      <td>0.107512</td>\n",
       "      <td>0.138104</td>\n",
       "      <td>0.121401</td>\n",
       "      <td>0.120161</td>\n",
       "      <td>0.111822</td>\n",
       "      <td>0.028156</td>\n",
       "      <td>0.983329</td>\n",
       "      <td>0.135022</td>\n",
       "      <td>-0.100328</td>\n",
       "      <td>-0.013414</td>\n",
       "      <td>-0.117981</td>\n",
       "      <td>-0.009710</td>\n",
       "      <td>0.087309</td>\n",
       "      <td>-0.074931</td>\n",
       "    </tr>\n",
       "    <tr>\n",
       "      <th>Total</th>\n",
       "      <td>0.160370</td>\n",
       "      <td>1.000000</td>\n",
       "      <td>0.642628</td>\n",
       "      <td>0.704164</td>\n",
       "      <td>0.605831</td>\n",
       "      <td>0.723737</td>\n",
       "      <td>0.706501</td>\n",
       "      <td>0.548890</td>\n",
       "      <td>0.092868</td>\n",
       "      <td>0.481837</td>\n",
       "      <td>-0.385978</td>\n",
       "      <td>0.113564</td>\n",
       "      <td>0.228503</td>\n",
       "      <td>0.526813</td>\n",
       "      <td>0.535966</td>\n",
       "      <td>-0.738280</td>\n",
       "    </tr>\n",
       "    <tr>\n",
       "      <th>HP</th>\n",
       "      <td>0.107512</td>\n",
       "      <td>0.642628</td>\n",
       "      <td>1.000000</td>\n",
       "      <td>0.431680</td>\n",
       "      <td>0.228834</td>\n",
       "      <td>0.368640</td>\n",
       "      <td>0.376006</td>\n",
       "      <td>0.170031</td>\n",
       "      <td>0.071545</td>\n",
       "      <td>0.258926</td>\n",
       "      <td>-0.155031</td>\n",
       "      <td>-0.066704</td>\n",
       "      <td>0.093708</td>\n",
       "      <td>0.442872</td>\n",
       "      <td>0.431320</td>\n",
       "      <td>-0.478725</td>\n",
       "    </tr>\n",
       "    <tr>\n",
       "      <th>Attack</th>\n",
       "      <td>0.138104</td>\n",
       "      <td>0.704164</td>\n",
       "      <td>0.431680</td>\n",
       "      <td>1.000000</td>\n",
       "      <td>0.433233</td>\n",
       "      <td>0.335205</td>\n",
       "      <td>0.207211</td>\n",
       "      <td>0.335013</td>\n",
       "      <td>0.093857</td>\n",
       "      <td>0.302786</td>\n",
       "      <td>-0.196892</td>\n",
       "      <td>0.213882</td>\n",
       "      <td>0.203840</td>\n",
       "      <td>0.408590</td>\n",
       "      <td>0.469395</td>\n",
       "      <td>-0.525106</td>\n",
       "    </tr>\n",
       "    <tr>\n",
       "      <th>Defense</th>\n",
       "      <td>0.121401</td>\n",
       "      <td>0.605831</td>\n",
       "      <td>0.228834</td>\n",
       "      <td>0.433233</td>\n",
       "      <td>1.000000</td>\n",
       "      <td>0.202519</td>\n",
       "      <td>0.483986</td>\n",
       "      <td>-0.008663</td>\n",
       "      <td>0.068409</td>\n",
       "      <td>0.274446</td>\n",
       "      <td>-0.269466</td>\n",
       "      <td>0.063899</td>\n",
       "      <td>0.122666</td>\n",
       "      <td>0.354205</td>\n",
       "      <td>0.476983</td>\n",
       "      <td>-0.436558</td>\n",
       "    </tr>\n",
       "    <tr>\n",
       "      <th>Sp_Atk</th>\n",
       "      <td>0.120161</td>\n",
       "      <td>0.723737</td>\n",
       "      <td>0.368640</td>\n",
       "      <td>0.335205</td>\n",
       "      <td>0.202519</td>\n",
       "      <td>1.000000</td>\n",
       "      <td>0.492861</td>\n",
       "      <td>0.443106</td>\n",
       "      <td>0.069689</td>\n",
       "      <td>0.409739</td>\n",
       "      <td>-0.336579</td>\n",
       "      <td>0.105893</td>\n",
       "      <td>0.175581</td>\n",
       "      <td>0.330579</td>\n",
       "      <td>0.285048</td>\n",
       "      <td>-0.539114</td>\n",
       "    </tr>\n",
       "    <tr>\n",
       "      <th>Sp_Def</th>\n",
       "      <td>0.111822</td>\n",
       "      <td>0.706501</td>\n",
       "      <td>0.376006</td>\n",
       "      <td>0.207211</td>\n",
       "      <td>0.483986</td>\n",
       "      <td>0.492861</td>\n",
       "      <td>1.000000</td>\n",
       "      <td>0.233487</td>\n",
       "      <td>0.055421</td>\n",
       "      <td>0.360215</td>\n",
       "      <td>-0.337265</td>\n",
       "      <td>0.017941</td>\n",
       "      <td>0.149796</td>\n",
       "      <td>0.313196</td>\n",
       "      <td>0.328645</td>\n",
       "      <td>-0.513014</td>\n",
       "    </tr>\n",
       "    <tr>\n",
       "      <th>Speed</th>\n",
       "      <td>0.028156</td>\n",
       "      <td>0.548890</td>\n",
       "      <td>0.170031</td>\n",
       "      <td>0.335013</td>\n",
       "      <td>-0.008663</td>\n",
       "      <td>0.443106</td>\n",
       "      <td>0.233487</td>\n",
       "      <td>1.000000</td>\n",
       "      <td>0.003920</td>\n",
       "      <td>0.286082</td>\n",
       "      <td>-0.216964</td>\n",
       "      <td>0.070098</td>\n",
       "      <td>0.147844</td>\n",
       "      <td>0.224617</td>\n",
       "      <td>0.108637</td>\n",
       "      <td>-0.410557</td>\n",
       "    </tr>\n",
       "    <tr>\n",
       "      <th>Generation</th>\n",
       "      <td>0.983329</td>\n",
       "      <td>0.092868</td>\n",
       "      <td>0.071545</td>\n",
       "      <td>0.093857</td>\n",
       "      <td>0.068409</td>\n",
       "      <td>0.069689</td>\n",
       "      <td>0.055421</td>\n",
       "      <td>0.003920</td>\n",
       "      <td>1.000000</td>\n",
       "      <td>0.071875</td>\n",
       "      <td>-0.029916</td>\n",
       "      <td>0.010912</td>\n",
       "      <td>-0.125374</td>\n",
       "      <td>-0.051304</td>\n",
       "      <td>0.034003</td>\n",
       "      <td>-0.025227</td>\n",
       "    </tr>\n",
       "    <tr>\n",
       "      <th>isLegendary</th>\n",
       "      <td>0.135022</td>\n",
       "      <td>0.481837</td>\n",
       "      <td>0.258926</td>\n",
       "      <td>0.302786</td>\n",
       "      <td>0.274446</td>\n",
       "      <td>0.409739</td>\n",
       "      <td>0.360215</td>\n",
       "      <td>0.286082</td>\n",
       "      <td>0.071875</td>\n",
       "      <td>1.000000</td>\n",
       "      <td>-0.644714</td>\n",
       "      <td>0.095428</td>\n",
       "      <td>0.047955</td>\n",
       "      <td>0.326323</td>\n",
       "      <td>0.425219</td>\n",
       "      <td>-0.319302</td>\n",
       "    </tr>\n",
       "    <tr>\n",
       "      <th>hasGender</th>\n",
       "      <td>-0.100328</td>\n",
       "      <td>-0.385978</td>\n",
       "      <td>-0.155031</td>\n",
       "      <td>-0.196892</td>\n",
       "      <td>-0.269466</td>\n",
       "      <td>-0.336579</td>\n",
       "      <td>-0.337265</td>\n",
       "      <td>-0.216964</td>\n",
       "      <td>-0.029916</td>\n",
       "      <td>-0.644714</td>\n",
       "      <td>1.000000</td>\n",
       "      <td>NaN</td>\n",
       "      <td>0.016769</td>\n",
       "      <td>-0.200026</td>\n",
       "      <td>-0.361465</td>\n",
       "      <td>0.272304</td>\n",
       "    </tr>\n",
       "    <tr>\n",
       "      <th>Pr_Male</th>\n",
       "      <td>-0.013414</td>\n",
       "      <td>0.113564</td>\n",
       "      <td>-0.066704</td>\n",
       "      <td>0.213882</td>\n",
       "      <td>0.063899</td>\n",
       "      <td>0.105893</td>\n",
       "      <td>0.017941</td>\n",
       "      <td>0.070098</td>\n",
       "      <td>0.010912</td>\n",
       "      <td>0.095428</td>\n",
       "      <td>NaN</td>\n",
       "      <td>1.000000</td>\n",
       "      <td>0.031731</td>\n",
       "      <td>0.040863</td>\n",
       "      <td>0.061196</td>\n",
       "      <td>-0.253645</td>\n",
       "    </tr>\n",
       "    <tr>\n",
       "      <th>hasMegaEvolution</th>\n",
       "      <td>-0.117981</td>\n",
       "      <td>0.228503</td>\n",
       "      <td>0.093708</td>\n",
       "      <td>0.203840</td>\n",
       "      <td>0.122666</td>\n",
       "      <td>0.175581</td>\n",
       "      <td>0.149796</td>\n",
       "      <td>0.147844</td>\n",
       "      <td>-0.125374</td>\n",
       "      <td>0.047955</td>\n",
       "      <td>0.016769</td>\n",
       "      <td>0.031731</td>\n",
       "      <td>1.000000</td>\n",
       "      <td>0.194621</td>\n",
       "      <td>0.129057</td>\n",
       "      <td>-0.173273</td>\n",
       "    </tr>\n",
       "    <tr>\n",
       "      <th>Height_m</th>\n",
       "      <td>-0.009710</td>\n",
       "      <td>0.526813</td>\n",
       "      <td>0.442872</td>\n",
       "      <td>0.408590</td>\n",
       "      <td>0.354205</td>\n",
       "      <td>0.330579</td>\n",
       "      <td>0.313196</td>\n",
       "      <td>0.224617</td>\n",
       "      <td>-0.051304</td>\n",
       "      <td>0.326323</td>\n",
       "      <td>-0.200026</td>\n",
       "      <td>0.040863</td>\n",
       "      <td>0.194621</td>\n",
       "      <td>1.000000</td>\n",
       "      <td>0.661342</td>\n",
       "      <td>-0.382862</td>\n",
       "    </tr>\n",
       "    <tr>\n",
       "      <th>Weight_kg</th>\n",
       "      <td>0.087309</td>\n",
       "      <td>0.535966</td>\n",
       "      <td>0.431320</td>\n",
       "      <td>0.469395</td>\n",
       "      <td>0.476983</td>\n",
       "      <td>0.285048</td>\n",
       "      <td>0.328645</td>\n",
       "      <td>0.108637</td>\n",
       "      <td>0.034003</td>\n",
       "      <td>0.425219</td>\n",
       "      <td>-0.361465</td>\n",
       "      <td>0.061196</td>\n",
       "      <td>0.129057</td>\n",
       "      <td>0.661342</td>\n",
       "      <td>1.000000</td>\n",
       "      <td>-0.367798</td>\n",
       "    </tr>\n",
       "    <tr>\n",
       "      <th>Catch_Rate</th>\n",
       "      <td>-0.074931</td>\n",
       "      <td>-0.738280</td>\n",
       "      <td>-0.478725</td>\n",
       "      <td>-0.525106</td>\n",
       "      <td>-0.436558</td>\n",
       "      <td>-0.539114</td>\n",
       "      <td>-0.513014</td>\n",
       "      <td>-0.410557</td>\n",
       "      <td>-0.025227</td>\n",
       "      <td>-0.319302</td>\n",
       "      <td>0.272304</td>\n",
       "      <td>-0.253645</td>\n",
       "      <td>-0.173273</td>\n",
       "      <td>-0.382862</td>\n",
       "      <td>-0.367798</td>\n",
       "      <td>1.000000</td>\n",
       "    </tr>\n",
       "  </tbody>\n",
       "</table>\n",
       "</div>"
      ],
      "text/plain": [
       "                    Number     Total        HP    Attack   Defense    Sp_Atk  \\\n",
       "Number            1.000000  0.160370  0.107512  0.138104  0.121401  0.120161   \n",
       "Total             0.160370  1.000000  0.642628  0.704164  0.605831  0.723737   \n",
       "HP                0.107512  0.642628  1.000000  0.431680  0.228834  0.368640   \n",
       "Attack            0.138104  0.704164  0.431680  1.000000  0.433233  0.335205   \n",
       "Defense           0.121401  0.605831  0.228834  0.433233  1.000000  0.202519   \n",
       "Sp_Atk            0.120161  0.723737  0.368640  0.335205  0.202519  1.000000   \n",
       "Sp_Def            0.111822  0.706501  0.376006  0.207211  0.483986  0.492861   \n",
       "Speed             0.028156  0.548890  0.170031  0.335013 -0.008663  0.443106   \n",
       "Generation        0.983329  0.092868  0.071545  0.093857  0.068409  0.069689   \n",
       "isLegendary       0.135022  0.481837  0.258926  0.302786  0.274446  0.409739   \n",
       "hasGender        -0.100328 -0.385978 -0.155031 -0.196892 -0.269466 -0.336579   \n",
       "Pr_Male          -0.013414  0.113564 -0.066704  0.213882  0.063899  0.105893   \n",
       "hasMegaEvolution -0.117981  0.228503  0.093708  0.203840  0.122666  0.175581   \n",
       "Height_m         -0.009710  0.526813  0.442872  0.408590  0.354205  0.330579   \n",
       "Weight_kg         0.087309  0.535966  0.431320  0.469395  0.476983  0.285048   \n",
       "Catch_Rate       -0.074931 -0.738280 -0.478725 -0.525106 -0.436558 -0.539114   \n",
       "\n",
       "                    Sp_Def     Speed  Generation  isLegendary  hasGender  \\\n",
       "Number            0.111822  0.028156    0.983329     0.135022  -0.100328   \n",
       "Total             0.706501  0.548890    0.092868     0.481837  -0.385978   \n",
       "HP                0.376006  0.170031    0.071545     0.258926  -0.155031   \n",
       "Attack            0.207211  0.335013    0.093857     0.302786  -0.196892   \n",
       "Defense           0.483986 -0.008663    0.068409     0.274446  -0.269466   \n",
       "Sp_Atk            0.492861  0.443106    0.069689     0.409739  -0.336579   \n",
       "Sp_Def            1.000000  0.233487    0.055421     0.360215  -0.337265   \n",
       "Speed             0.233487  1.000000    0.003920     0.286082  -0.216964   \n",
       "Generation        0.055421  0.003920    1.000000     0.071875  -0.029916   \n",
       "isLegendary       0.360215  0.286082    0.071875     1.000000  -0.644714   \n",
       "hasGender        -0.337265 -0.216964   -0.029916    -0.644714   1.000000   \n",
       "Pr_Male           0.017941  0.070098    0.010912     0.095428        NaN   \n",
       "hasMegaEvolution  0.149796  0.147844   -0.125374     0.047955   0.016769   \n",
       "Height_m          0.313196  0.224617   -0.051304     0.326323  -0.200026   \n",
       "Weight_kg         0.328645  0.108637    0.034003     0.425219  -0.361465   \n",
       "Catch_Rate       -0.513014 -0.410557   -0.025227    -0.319302   0.272304   \n",
       "\n",
       "                   Pr_Male  hasMegaEvolution  Height_m  Weight_kg  Catch_Rate  \n",
       "Number           -0.013414         -0.117981 -0.009710   0.087309   -0.074931  \n",
       "Total             0.113564          0.228503  0.526813   0.535966   -0.738280  \n",
       "HP               -0.066704          0.093708  0.442872   0.431320   -0.478725  \n",
       "Attack            0.213882          0.203840  0.408590   0.469395   -0.525106  \n",
       "Defense           0.063899          0.122666  0.354205   0.476983   -0.436558  \n",
       "Sp_Atk            0.105893          0.175581  0.330579   0.285048   -0.539114  \n",
       "Sp_Def            0.017941          0.149796  0.313196   0.328645   -0.513014  \n",
       "Speed             0.070098          0.147844  0.224617   0.108637   -0.410557  \n",
       "Generation        0.010912         -0.125374 -0.051304   0.034003   -0.025227  \n",
       "isLegendary       0.095428          0.047955  0.326323   0.425219   -0.319302  \n",
       "hasGender              NaN          0.016769 -0.200026  -0.361465    0.272304  \n",
       "Pr_Male           1.000000          0.031731  0.040863   0.061196   -0.253645  \n",
       "hasMegaEvolution  0.031731          1.000000  0.194621   0.129057   -0.173273  \n",
       "Height_m          0.040863          0.194621  1.000000   0.661342   -0.382862  \n",
       "Weight_kg         0.061196          0.129057  0.661342   1.000000   -0.367798  \n",
       "Catch_Rate       -0.253645         -0.173273 -0.382862  -0.367798    1.000000  "
      ]
     },
     "execution_count": 2,
     "metadata": {},
     "output_type": "execute_result"
    }
   ],
   "source": [
    "correlations = poke.corr(method='pearson')\n",
    "correlations"
   ]
  },
  {
   "cell_type": "code",
   "execution_count": 18,
   "metadata": {},
   "outputs": [
    {
     "data": {
      "application/vnd.plotly.v1+json": {
       "config": {
        "plotlyServerURL": "https://plot.ly"
       },
       "data": [
        {
         "colorscale": [
          [
           0,
           "rgb(103,0,31)"
          ],
          [
           0.1,
           "rgb(178,24,43)"
          ],
          [
           0.2,
           "rgb(214,96,77)"
          ],
          [
           0.3,
           "rgb(244,165,130)"
          ],
          [
           0.4,
           "rgb(253,219,199)"
          ],
          [
           0.5,
           "rgb(247,247,247)"
          ],
          [
           0.6,
           "rgb(209,229,240)"
          ],
          [
           0.7,
           "rgb(146,197,222)"
          ],
          [
           0.8,
           "rgb(67,147,195)"
          ],
          [
           0.9,
           "rgb(33,102,172)"
          ],
          [
           1,
           "rgb(5,48,97)"
          ]
         ],
         "type": "heatmap",
         "x": [
          "Number",
          "Total",
          "HP",
          "Attack",
          "Defense",
          "Sp_Atk",
          "Sp_Def",
          "Speed",
          "Generation",
          "isLegendary",
          "hasGender",
          "Pr_Male",
          "hasMegaEvolution",
          "Height_m",
          "Weight_kg",
          "Catch_Rate"
         ],
         "y": [
          "Number",
          "Total",
          "HP",
          "Attack",
          "Defense",
          "Sp_Atk",
          "Sp_Def",
          "Speed",
          "Generation",
          "isLegendary",
          "hasGender",
          "Pr_Male",
          "hasMegaEvolution",
          "Height_m",
          "Weight_kg",
          "Catch_Rate"
         ],
         "z": [
          [
           1,
           0.16036956266580474,
           0.10751217677322125,
           0.13810437373167977,
           0.12140128812720875,
           0.1201607338255749,
           0.11182173310811137,
           0.028156108844507116,
           0.9833287915096008,
           0.13502233363760327,
           -0.10032760215063799,
           -0.013413582216108295,
           -0.11798094459812479,
           -0.009710086424020912,
           0.0873092424133458,
           -0.07493149910239245
          ],
          [
           0.16036956266580474,
           1,
           0.6426280244799403,
           0.7041639384040862,
           0.6058312111093674,
           0.7237367792749156,
           0.7065010651669575,
           0.5488902010278799,
           0.0928679671109525,
           0.4818371629143058,
           -0.38597814626263355,
           0.11356407278275675,
           0.22850271317680093,
           0.5268132744278307,
           0.5359657229939493,
           -0.738279648966768
          ],
          [
           0.10751217677322125,
           0.6426280244799403,
           1,
           0.431680155506985,
           0.22883406166743142,
           0.3686397212290756,
           0.3760056017851693,
           0.17003077974523093,
           0.07154520685467694,
           0.2589259370820927,
           -0.1550310838986893,
           -0.06670381426062276,
           0.0937081083608157,
           0.4428719853690741,
           0.43131954652610544,
           -0.4787249893535441
          ],
          [
           0.13810437373167977,
           0.7041639384040862,
           0.431680155506985,
           1,
           0.4332328412280244,
           0.3352048712750978,
           0.20721058479951834,
           0.33501301000056166,
           0.09385736229347393,
           0.302785704888537,
           -0.19689202487503127,
           0.2138820273190516,
           0.20384009781189186,
           0.40858986529311303,
           0.469394833195637,
           -0.5251063715936148
          ],
          [
           0.12140128812720875,
           0.6058312111093674,
           0.22883406166743142,
           0.4332328412280244,
           1,
           0.20251917028949845,
           0.4839861856040744,
           -0.008662734991146002,
           0.06840875741312238,
           0.27444621863667984,
           -0.2694656738181047,
           0.06389904982313822,
           0.12266580081742658,
           0.3542049982278319,
           0.4769825904188445,
           -0.43655752914321005
          ],
          [
           0.1201607338255749,
           0.7237367792749156,
           0.3686397212290756,
           0.3352048712750978,
           0.20251917028949845,
           1,
           0.49286077440340176,
           0.44310625882166527,
           0.06968891654244345,
           0.4097393610015394,
           -0.33657931941338354,
           0.1058933431387376,
           0.17558096850557744,
           0.3305792518411268,
           0.2850479513836462,
           -0.5391135974040944
          ],
          [
           0.11182173310811137,
           0.7065010651669575,
           0.3760056017851693,
           0.20721058479951834,
           0.4839861856040744,
           0.49286077440340176,
           1,
           0.2334872575521335,
           0.05542050663730556,
           0.36021494171476925,
           -0.33726458795496805,
           0.01794120584459571,
           0.14979550422932894,
           0.31319550116469586,
           0.3286454524924612,
           -0.5130141384896144
          ],
          [
           0.028156108844507116,
           0.5488902010278799,
           0.17003077974523093,
           0.33501301000056166,
           -0.008662734991146002,
           0.44310625882166527,
           0.2334872575521335,
           1,
           0.003920281155974174,
           0.286082449018909,
           -0.21696396609821483,
           0.07009826608425038,
           0.14784445930689308,
           0.22461715104796265,
           0.10863698561676204,
           -0.4105574619222646
          ],
          [
           0.9833287915096008,
           0.0928679671109525,
           0.07154520685467694,
           0.09385736229347393,
           0.06840875741312238,
           0.06968891654244345,
           0.05542050663730556,
           0.003920281155974174,
           1,
           0.07187531815541244,
           -0.029915608671390478,
           0.010911824316479279,
           -0.12537379948621313,
           -0.051304088590994924,
           0.03400287306996578,
           -0.02522698963643674
          ],
          [
           0.13502233363760327,
           0.4818371629143058,
           0.2589259370820927,
           0.302785704888537,
           0.27444621863667984,
           0.4097393610015394,
           0.36021494171476925,
           0.286082449018909,
           0.07187531815541244,
           1,
           -0.644713983187409,
           0.09542751909712391,
           0.04795491143317304,
           0.3263227596158152,
           0.4252194049328673,
           -0.31930162210773144
          ],
          [
           -0.10032760215063799,
           -0.38597814626263355,
           -0.1550310838986893,
           -0.19689202487503127,
           -0.2694656738181047,
           -0.33657931941338354,
           -0.33726458795496805,
           -0.21696396609821483,
           -0.029915608671390478,
           -0.644713983187409,
           1,
           null,
           0.016768985727619156,
           -0.20002630841227234,
           -0.3614653481059769,
           0.2723036148576755
          ],
          [
           -0.013413582216108295,
           0.11356407278275675,
           -0.06670381426062276,
           0.2138820273190516,
           0.06389904982313822,
           0.1058933431387376,
           0.01794120584459571,
           0.07009826608425038,
           0.010911824316479279,
           0.09542751909712391,
           null,
           1,
           0.031730576051840376,
           0.0408630206927659,
           0.06119642275651032,
           -0.2536446864331264
          ],
          [
           -0.11798094459812479,
           0.22850271317680093,
           0.0937081083608157,
           0.20384009781189186,
           0.12266580081742658,
           0.17558096850557744,
           0.14979550422932894,
           0.14784445930689308,
           -0.12537379948621313,
           0.04795491143317304,
           0.016768985727619156,
           0.031730576051840376,
           1,
           0.19462118989502294,
           0.12905654584249868,
           -0.1732730873458182
          ],
          [
           -0.009710086424020912,
           0.5268132744278307,
           0.4428719853690741,
           0.40858986529311303,
           0.3542049982278319,
           0.3305792518411268,
           0.31319550116469586,
           0.22461715104796265,
           -0.051304088590994924,
           0.3263227596158152,
           -0.20002630841227234,
           0.0408630206927659,
           0.19462118989502294,
           1,
           0.661341502789441,
           -0.38286249908138453
          ],
          [
           0.0873092424133458,
           0.5359657229939493,
           0.43131954652610544,
           0.469394833195637,
           0.4769825904188445,
           0.2850479513836462,
           0.3286454524924612,
           0.10863698561676204,
           0.03400287306996578,
           0.4252194049328673,
           -0.3614653481059769,
           0.06119642275651032,
           0.12905654584249868,
           0.661341502789441,
           1,
           -0.3677981083983084
          ],
          [
           -0.07493149910239245,
           -0.738279648966768,
           -0.4787249893535441,
           -0.5251063715936148,
           -0.43655752914321005,
           -0.5391135974040944,
           -0.5130141384896144,
           -0.4105574619222646,
           -0.02522698963643674,
           -0.31930162210773144,
           0.2723036148576755,
           -0.2536446864331264,
           -0.1732730873458182,
           -0.38286249908138453,
           -0.3677981083983084,
           1
          ]
         ]
        }
       ],
       "layout": {
        "autosize": false,
        "height": 800,
        "template": {
         "data": {
          "bar": [
           {
            "error_x": {
             "color": "#2a3f5f"
            },
            "error_y": {
             "color": "#2a3f5f"
            },
            "marker": {
             "line": {
              "color": "#E5ECF6",
              "width": 0.5
             }
            },
            "type": "bar"
           }
          ],
          "barpolar": [
           {
            "marker": {
             "line": {
              "color": "#E5ECF6",
              "width": 0.5
             }
            },
            "type": "barpolar"
           }
          ],
          "carpet": [
           {
            "aaxis": {
             "endlinecolor": "#2a3f5f",
             "gridcolor": "white",
             "linecolor": "white",
             "minorgridcolor": "white",
             "startlinecolor": "#2a3f5f"
            },
            "baxis": {
             "endlinecolor": "#2a3f5f",
             "gridcolor": "white",
             "linecolor": "white",
             "minorgridcolor": "white",
             "startlinecolor": "#2a3f5f"
            },
            "type": "carpet"
           }
          ],
          "choropleth": [
           {
            "colorbar": {
             "outlinewidth": 0,
             "ticks": ""
            },
            "type": "choropleth"
           }
          ],
          "contour": [
           {
            "colorbar": {
             "outlinewidth": 0,
             "ticks": ""
            },
            "colorscale": [
             [
              0,
              "#0d0887"
             ],
             [
              0.1111111111111111,
              "#46039f"
             ],
             [
              0.2222222222222222,
              "#7201a8"
             ],
             [
              0.3333333333333333,
              "#9c179e"
             ],
             [
              0.4444444444444444,
              "#bd3786"
             ],
             [
              0.5555555555555556,
              "#d8576b"
             ],
             [
              0.6666666666666666,
              "#ed7953"
             ],
             [
              0.7777777777777778,
              "#fb9f3a"
             ],
             [
              0.8888888888888888,
              "#fdca26"
             ],
             [
              1,
              "#f0f921"
             ]
            ],
            "type": "contour"
           }
          ],
          "contourcarpet": [
           {
            "colorbar": {
             "outlinewidth": 0,
             "ticks": ""
            },
            "type": "contourcarpet"
           }
          ],
          "heatmap": [
           {
            "colorbar": {
             "outlinewidth": 0,
             "ticks": ""
            },
            "colorscale": [
             [
              0,
              "#0d0887"
             ],
             [
              0.1111111111111111,
              "#46039f"
             ],
             [
              0.2222222222222222,
              "#7201a8"
             ],
             [
              0.3333333333333333,
              "#9c179e"
             ],
             [
              0.4444444444444444,
              "#bd3786"
             ],
             [
              0.5555555555555556,
              "#d8576b"
             ],
             [
              0.6666666666666666,
              "#ed7953"
             ],
             [
              0.7777777777777778,
              "#fb9f3a"
             ],
             [
              0.8888888888888888,
              "#fdca26"
             ],
             [
              1,
              "#f0f921"
             ]
            ],
            "type": "heatmap"
           }
          ],
          "heatmapgl": [
           {
            "colorbar": {
             "outlinewidth": 0,
             "ticks": ""
            },
            "colorscale": [
             [
              0,
              "#0d0887"
             ],
             [
              0.1111111111111111,
              "#46039f"
             ],
             [
              0.2222222222222222,
              "#7201a8"
             ],
             [
              0.3333333333333333,
              "#9c179e"
             ],
             [
              0.4444444444444444,
              "#bd3786"
             ],
             [
              0.5555555555555556,
              "#d8576b"
             ],
             [
              0.6666666666666666,
              "#ed7953"
             ],
             [
              0.7777777777777778,
              "#fb9f3a"
             ],
             [
              0.8888888888888888,
              "#fdca26"
             ],
             [
              1,
              "#f0f921"
             ]
            ],
            "type": "heatmapgl"
           }
          ],
          "histogram": [
           {
            "marker": {
             "colorbar": {
              "outlinewidth": 0,
              "ticks": ""
             }
            },
            "type": "histogram"
           }
          ],
          "histogram2d": [
           {
            "colorbar": {
             "outlinewidth": 0,
             "ticks": ""
            },
            "colorscale": [
             [
              0,
              "#0d0887"
             ],
             [
              0.1111111111111111,
              "#46039f"
             ],
             [
              0.2222222222222222,
              "#7201a8"
             ],
             [
              0.3333333333333333,
              "#9c179e"
             ],
             [
              0.4444444444444444,
              "#bd3786"
             ],
             [
              0.5555555555555556,
              "#d8576b"
             ],
             [
              0.6666666666666666,
              "#ed7953"
             ],
             [
              0.7777777777777778,
              "#fb9f3a"
             ],
             [
              0.8888888888888888,
              "#fdca26"
             ],
             [
              1,
              "#f0f921"
             ]
            ],
            "type": "histogram2d"
           }
          ],
          "histogram2dcontour": [
           {
            "colorbar": {
             "outlinewidth": 0,
             "ticks": ""
            },
            "colorscale": [
             [
              0,
              "#0d0887"
             ],
             [
              0.1111111111111111,
              "#46039f"
             ],
             [
              0.2222222222222222,
              "#7201a8"
             ],
             [
              0.3333333333333333,
              "#9c179e"
             ],
             [
              0.4444444444444444,
              "#bd3786"
             ],
             [
              0.5555555555555556,
              "#d8576b"
             ],
             [
              0.6666666666666666,
              "#ed7953"
             ],
             [
              0.7777777777777778,
              "#fb9f3a"
             ],
             [
              0.8888888888888888,
              "#fdca26"
             ],
             [
              1,
              "#f0f921"
             ]
            ],
            "type": "histogram2dcontour"
           }
          ],
          "mesh3d": [
           {
            "colorbar": {
             "outlinewidth": 0,
             "ticks": ""
            },
            "type": "mesh3d"
           }
          ],
          "parcoords": [
           {
            "line": {
             "colorbar": {
              "outlinewidth": 0,
              "ticks": ""
             }
            },
            "type": "parcoords"
           }
          ],
          "pie": [
           {
            "automargin": true,
            "type": "pie"
           }
          ],
          "scatter": [
           {
            "marker": {
             "colorbar": {
              "outlinewidth": 0,
              "ticks": ""
             }
            },
            "type": "scatter"
           }
          ],
          "scatter3d": [
           {
            "line": {
             "colorbar": {
              "outlinewidth": 0,
              "ticks": ""
             }
            },
            "marker": {
             "colorbar": {
              "outlinewidth": 0,
              "ticks": ""
             }
            },
            "type": "scatter3d"
           }
          ],
          "scattercarpet": [
           {
            "marker": {
             "colorbar": {
              "outlinewidth": 0,
              "ticks": ""
             }
            },
            "type": "scattercarpet"
           }
          ],
          "scattergeo": [
           {
            "marker": {
             "colorbar": {
              "outlinewidth": 0,
              "ticks": ""
             }
            },
            "type": "scattergeo"
           }
          ],
          "scattergl": [
           {
            "marker": {
             "colorbar": {
              "outlinewidth": 0,
              "ticks": ""
             }
            },
            "type": "scattergl"
           }
          ],
          "scattermapbox": [
           {
            "marker": {
             "colorbar": {
              "outlinewidth": 0,
              "ticks": ""
             }
            },
            "type": "scattermapbox"
           }
          ],
          "scatterpolar": [
           {
            "marker": {
             "colorbar": {
              "outlinewidth": 0,
              "ticks": ""
             }
            },
            "type": "scatterpolar"
           }
          ],
          "scatterpolargl": [
           {
            "marker": {
             "colorbar": {
              "outlinewidth": 0,
              "ticks": ""
             }
            },
            "type": "scatterpolargl"
           }
          ],
          "scatterternary": [
           {
            "marker": {
             "colorbar": {
              "outlinewidth": 0,
              "ticks": ""
             }
            },
            "type": "scatterternary"
           }
          ],
          "surface": [
           {
            "colorbar": {
             "outlinewidth": 0,
             "ticks": ""
            },
            "colorscale": [
             [
              0,
              "#0d0887"
             ],
             [
              0.1111111111111111,
              "#46039f"
             ],
             [
              0.2222222222222222,
              "#7201a8"
             ],
             [
              0.3333333333333333,
              "#9c179e"
             ],
             [
              0.4444444444444444,
              "#bd3786"
             ],
             [
              0.5555555555555556,
              "#d8576b"
             ],
             [
              0.6666666666666666,
              "#ed7953"
             ],
             [
              0.7777777777777778,
              "#fb9f3a"
             ],
             [
              0.8888888888888888,
              "#fdca26"
             ],
             [
              1,
              "#f0f921"
             ]
            ],
            "type": "surface"
           }
          ],
          "table": [
           {
            "cells": {
             "fill": {
              "color": "#EBF0F8"
             },
             "line": {
              "color": "white"
             }
            },
            "header": {
             "fill": {
              "color": "#C8D4E3"
             },
             "line": {
              "color": "white"
             }
            },
            "type": "table"
           }
          ]
         },
         "layout": {
          "annotationdefaults": {
           "arrowcolor": "#2a3f5f",
           "arrowhead": 0,
           "arrowwidth": 1
          },
          "coloraxis": {
           "colorbar": {
            "outlinewidth": 0,
            "ticks": ""
           }
          },
          "colorscale": {
           "diverging": [
            [
             0,
             "#8e0152"
            ],
            [
             0.1,
             "#c51b7d"
            ],
            [
             0.2,
             "#de77ae"
            ],
            [
             0.3,
             "#f1b6da"
            ],
            [
             0.4,
             "#fde0ef"
            ],
            [
             0.5,
             "#f7f7f7"
            ],
            [
             0.6,
             "#e6f5d0"
            ],
            [
             0.7,
             "#b8e186"
            ],
            [
             0.8,
             "#7fbc41"
            ],
            [
             0.9,
             "#4d9221"
            ],
            [
             1,
             "#276419"
            ]
           ],
           "sequential": [
            [
             0,
             "#0d0887"
            ],
            [
             0.1111111111111111,
             "#46039f"
            ],
            [
             0.2222222222222222,
             "#7201a8"
            ],
            [
             0.3333333333333333,
             "#9c179e"
            ],
            [
             0.4444444444444444,
             "#bd3786"
            ],
            [
             0.5555555555555556,
             "#d8576b"
            ],
            [
             0.6666666666666666,
             "#ed7953"
            ],
            [
             0.7777777777777778,
             "#fb9f3a"
            ],
            [
             0.8888888888888888,
             "#fdca26"
            ],
            [
             1,
             "#f0f921"
            ]
           ],
           "sequentialminus": [
            [
             0,
             "#0d0887"
            ],
            [
             0.1111111111111111,
             "#46039f"
            ],
            [
             0.2222222222222222,
             "#7201a8"
            ],
            [
             0.3333333333333333,
             "#9c179e"
            ],
            [
             0.4444444444444444,
             "#bd3786"
            ],
            [
             0.5555555555555556,
             "#d8576b"
            ],
            [
             0.6666666666666666,
             "#ed7953"
            ],
            [
             0.7777777777777778,
             "#fb9f3a"
            ],
            [
             0.8888888888888888,
             "#fdca26"
            ],
            [
             1,
             "#f0f921"
            ]
           ]
          },
          "colorway": [
           "#636efa",
           "#EF553B",
           "#00cc96",
           "#ab63fa",
           "#FFA15A",
           "#19d3f3",
           "#FF6692",
           "#B6E880",
           "#FF97FF",
           "#FECB52"
          ],
          "font": {
           "color": "#2a3f5f"
          },
          "geo": {
           "bgcolor": "white",
           "lakecolor": "white",
           "landcolor": "#E5ECF6",
           "showlakes": true,
           "showland": true,
           "subunitcolor": "white"
          },
          "hoverlabel": {
           "align": "left"
          },
          "hovermode": "closest",
          "mapbox": {
           "style": "light"
          },
          "paper_bgcolor": "white",
          "plot_bgcolor": "#E5ECF6",
          "polar": {
           "angularaxis": {
            "gridcolor": "white",
            "linecolor": "white",
            "ticks": ""
           },
           "bgcolor": "#E5ECF6",
           "radialaxis": {
            "gridcolor": "white",
            "linecolor": "white",
            "ticks": ""
           }
          },
          "scene": {
           "xaxis": {
            "backgroundcolor": "#E5ECF6",
            "gridcolor": "white",
            "gridwidth": 2,
            "linecolor": "white",
            "showbackground": true,
            "ticks": "",
            "zerolinecolor": "white"
           },
           "yaxis": {
            "backgroundcolor": "#E5ECF6",
            "gridcolor": "white",
            "gridwidth": 2,
            "linecolor": "white",
            "showbackground": true,
            "ticks": "",
            "zerolinecolor": "white"
           },
           "zaxis": {
            "backgroundcolor": "#E5ECF6",
            "gridcolor": "white",
            "gridwidth": 2,
            "linecolor": "white",
            "showbackground": true,
            "ticks": "",
            "zerolinecolor": "white"
           }
          },
          "shapedefaults": {
           "line": {
            "color": "#2a3f5f"
           }
          },
          "ternary": {
           "aaxis": {
            "gridcolor": "white",
            "linecolor": "white",
            "ticks": ""
           },
           "baxis": {
            "gridcolor": "white",
            "linecolor": "white",
            "ticks": ""
           },
           "bgcolor": "#E5ECF6",
           "caxis": {
            "gridcolor": "white",
            "linecolor": "white",
            "ticks": ""
           }
          },
          "title": {
           "x": 0.05
          },
          "xaxis": {
           "automargin": true,
           "gridcolor": "white",
           "linecolor": "white",
           "ticks": "",
           "title": {
            "standoff": 15
           },
           "zerolinecolor": "white",
           "zerolinewidth": 2
          },
          "yaxis": {
           "automargin": true,
           "gridcolor": "white",
           "linecolor": "white",
           "ticks": "",
           "title": {
            "standoff": 15
           },
           "zerolinecolor": "white",
           "zerolinewidth": 2
          }
         }
        },
        "title": {
         "text": "Correlations"
        },
        "width": 800,
        "xaxis": {
         "autorange": true,
         "range": [
          -0.5,
          15.5
         ],
         "type": "category"
        },
        "yaxis": {
         "autorange": true,
         "range": [
          15.5,
          -0.5
         ],
         "type": "category"
        }
       }
      },
      "image/png": "[encoded data removed]",
      "text/html": [
       "<div>\n",
       "        \n",
       "        \n",
       "            <div id=\"be05d4d1-98fd-40c1-8602-efa587a741b7\" class=\"plotly-graph-div\" style=\"height:800px; width:800px;\"></div>\n",
       "            <script type=\"text/javascript\">\n",
       "                require([\"plotly\"], function(Plotly) {\n",
       "                    window.PLOTLYENV=window.PLOTLYENV || {};\n",
       "                    \n",
       "                if (document.getElementById(\"be05d4d1-98fd-40c1-8602-efa587a741b7\")) {\n",
       "                    Plotly.newPlot(\n",
       "                        'be05d4d1-98fd-40c1-8602-efa587a741b7',\n",
       "                        [{\"colorscale\": [[0.0, \"rgb(103,0,31)\"], [0.1, \"rgb(178,24,43)\"], [0.2, \"rgb(214,96,77)\"], [0.3, \"rgb(244,165,130)\"], [0.4, \"rgb(253,219,199)\"], [0.5, \"rgb(247,247,247)\"], [0.6, \"rgb(209,229,240)\"], [0.7, \"rgb(146,197,222)\"], [0.8, \"rgb(67,147,195)\"], [0.9, \"rgb(33,102,172)\"], [1.0, \"rgb(5,48,97)\"]], \"type\": \"heatmap\", \"x\": [\"Number\", \"Total\", \"HP\", \"Attack\", \"Defense\", \"Sp_Atk\", \"Sp_Def\", \"Speed\", \"Generation\", \"isLegendary\", \"hasGender\", \"Pr_Male\", \"hasMegaEvolution\", \"Height_m\", \"Weight_kg\", \"Catch_Rate\"], \"y\": [\"Number\", \"Total\", \"HP\", \"Attack\", \"Defense\", \"Sp_Atk\", \"Sp_Def\", \"Speed\", \"Generation\", \"isLegendary\", \"hasGender\", \"Pr_Male\", \"hasMegaEvolution\", \"Height_m\", \"Weight_kg\", \"Catch_Rate\"], \"z\": [[1.0, 0.16036956266580474, 0.10751217677322125, 0.13810437373167977, 0.12140128812720875, 0.1201607338255749, 0.11182173310811137, 0.028156108844507116, 0.9833287915096008, 0.13502233363760327, -0.10032760215063799, -0.013413582216108295, -0.11798094459812479, -0.009710086424020912, 0.0873092424133458, -0.07493149910239245], [0.16036956266580474, 1.0, 0.6426280244799403, 0.7041639384040862, 0.6058312111093674, 0.7237367792749156, 0.7065010651669575, 0.5488902010278799, 0.0928679671109525, 0.4818371629143058, -0.38597814626263355, 0.11356407278275675, 0.22850271317680093, 0.5268132744278307, 0.5359657229939493, -0.738279648966768], [0.10751217677322125, 0.6426280244799403, 1.0, 0.431680155506985, 0.22883406166743142, 0.3686397212290756, 0.3760056017851693, 0.17003077974523093, 0.07154520685467694, 0.2589259370820927, -0.1550310838986893, -0.06670381426062276, 0.0937081083608157, 0.4428719853690741, 0.43131954652610544, -0.4787249893535441], [0.13810437373167977, 0.7041639384040862, 0.431680155506985, 1.0, 0.4332328412280244, 0.3352048712750978, 0.20721058479951834, 0.33501301000056166, 0.09385736229347393, 0.302785704888537, -0.19689202487503127, 0.2138820273190516, 0.20384009781189186, 0.40858986529311303, 0.469394833195637, -0.5251063715936148], [0.12140128812720875, 0.6058312111093674, 0.22883406166743142, 0.4332328412280244, 1.0, 0.20251917028949845, 0.4839861856040744, -0.008662734991146002, 0.06840875741312238, 0.27444621863667984, -0.2694656738181047, 0.06389904982313822, 0.12266580081742658, 0.3542049982278319, 0.4769825904188445, -0.43655752914321005], [0.1201607338255749, 0.7237367792749156, 0.3686397212290756, 0.3352048712750978, 0.20251917028949845, 1.0, 0.49286077440340176, 0.44310625882166527, 0.06968891654244345, 0.4097393610015394, -0.33657931941338354, 0.1058933431387376, 0.17558096850557744, 0.3305792518411268, 0.2850479513836462, -0.5391135974040944], [0.11182173310811137, 0.7065010651669575, 0.3760056017851693, 0.20721058479951834, 0.4839861856040744, 0.49286077440340176, 1.0, 0.2334872575521335, 0.05542050663730556, 0.36021494171476925, -0.33726458795496805, 0.01794120584459571, 0.14979550422932894, 0.31319550116469586, 0.3286454524924612, -0.5130141384896144], [0.028156108844507116, 0.5488902010278799, 0.17003077974523093, 0.33501301000056166, -0.008662734991146002, 0.44310625882166527, 0.2334872575521335, 1.0, 0.003920281155974174, 0.286082449018909, -0.21696396609821483, 0.07009826608425038, 0.14784445930689308, 0.22461715104796265, 0.10863698561676204, -0.4105574619222646], [0.9833287915096008, 0.0928679671109525, 0.07154520685467694, 0.09385736229347393, 0.06840875741312238, 0.06968891654244345, 0.05542050663730556, 0.003920281155974174, 1.0, 0.07187531815541244, -0.029915608671390478, 0.010911824316479279, -0.12537379948621313, -0.051304088590994924, 0.03400287306996578, -0.02522698963643674], [0.13502233363760327, 0.4818371629143058, 0.2589259370820927, 0.302785704888537, 0.27444621863667984, 0.4097393610015394, 0.36021494171476925, 0.286082449018909, 0.07187531815541244, 1.0, -0.644713983187409, 0.09542751909712391, 0.04795491143317304, 0.3263227596158152, 0.4252194049328673, -0.31930162210773144], [-0.10032760215063799, -0.38597814626263355, -0.1550310838986893, -0.19689202487503127, -0.2694656738181047, -0.33657931941338354, -0.33726458795496805, -0.21696396609821483, -0.029915608671390478, -0.644713983187409, 1.0, null, 0.016768985727619156, -0.20002630841227234, -0.3614653481059769, 0.2723036148576755], [-0.013413582216108295, 0.11356407278275675, -0.06670381426062276, 0.2138820273190516, 0.06389904982313822, 0.1058933431387376, 0.01794120584459571, 0.07009826608425038, 0.010911824316479279, 0.09542751909712391, null, 1.0, 0.031730576051840376, 0.0408630206927659, 0.06119642275651032, -0.2536446864331264], [-0.11798094459812479, 0.22850271317680093, 0.0937081083608157, 0.20384009781189186, 0.12266580081742658, 0.17558096850557744, 0.14979550422932894, 0.14784445930689308, -0.12537379948621313, 0.04795491143317304, 0.016768985727619156, 0.031730576051840376, 1.0, 0.19462118989502294, 0.12905654584249868, -0.1732730873458182], [-0.009710086424020912, 0.5268132744278307, 0.4428719853690741, 0.40858986529311303, 0.3542049982278319, 0.3305792518411268, 0.31319550116469586, 0.22461715104796265, -0.051304088590994924, 0.3263227596158152, -0.20002630841227234, 0.0408630206927659, 0.19462118989502294, 1.0, 0.661341502789441, -0.38286249908138453], [0.0873092424133458, 0.5359657229939493, 0.43131954652610544, 0.469394833195637, 0.4769825904188445, 0.2850479513836462, 0.3286454524924612, 0.10863698561676204, 0.03400287306996578, 0.4252194049328673, -0.3614653481059769, 0.06119642275651032, 0.12905654584249868, 0.661341502789441, 1.0, -0.3677981083983084], [-0.07493149910239245, -0.738279648966768, -0.4787249893535441, -0.5251063715936148, -0.43655752914321005, -0.5391135974040944, -0.5130141384896144, -0.4105574619222646, -0.02522698963643674, -0.31930162210773144, 0.2723036148576755, -0.2536446864331264, -0.1732730873458182, -0.38286249908138453, -0.3677981083983084, 1.0]]}],\n",
       "                        {\"autosize\": false, \"height\": 800, \"template\": {\"data\": {\"bar\": [{\"error_x\": {\"color\": \"#2a3f5f\"}, \"error_y\": {\"color\": \"#2a3f5f\"}, \"marker\": {\"line\": {\"color\": \"#E5ECF6\", \"width\": 0.5}}, \"type\": \"bar\"}], \"barpolar\": [{\"marker\": {\"line\": {\"color\": \"#E5ECF6\", \"width\": 0.5}}, \"type\": \"barpolar\"}], \"carpet\": [{\"aaxis\": {\"endlinecolor\": \"#2a3f5f\", \"gridcolor\": \"white\", \"linecolor\": \"white\", \"minorgridcolor\": \"white\", \"startlinecolor\": \"#2a3f5f\"}, \"baxis\": {\"endlinecolor\": \"#2a3f5f\", \"gridcolor\": \"white\", \"linecolor\": \"white\", \"minorgridcolor\": \"white\", \"startlinecolor\": \"#2a3f5f\"}, \"type\": \"carpet\"}], \"choropleth\": [{\"colorbar\": {\"outlinewidth\": 0, \"ticks\": \"\"}, \"type\": \"choropleth\"}], \"contour\": [{\"colorbar\": {\"outlinewidth\": 0, \"ticks\": \"\"}, \"colorscale\": [[0.0, \"#0d0887\"], [0.1111111111111111, \"#46039f\"], [0.2222222222222222, \"#7201a8\"], [0.3333333333333333, \"#9c179e\"], [0.4444444444444444, \"#bd3786\"], [0.5555555555555556, \"#d8576b\"], [0.6666666666666666, \"#ed7953\"], [0.7777777777777778, \"#fb9f3a\"], [0.8888888888888888, \"#fdca26\"], [1.0, \"#f0f921\"]], \"type\": \"contour\"}], \"contourcarpet\": [{\"colorbar\": {\"outlinewidth\": 0, \"ticks\": \"\"}, \"type\": \"contourcarpet\"}], \"heatmap\": [{\"colorbar\": {\"outlinewidth\": 0, \"ticks\": \"\"}, \"colorscale\": [[0.0, \"#0d0887\"], [0.1111111111111111, \"#46039f\"], [0.2222222222222222, \"#7201a8\"], [0.3333333333333333, \"#9c179e\"], [0.4444444444444444, \"#bd3786\"], [0.5555555555555556, \"#d8576b\"], [0.6666666666666666, \"#ed7953\"], [0.7777777777777778, \"#fb9f3a\"], [0.8888888888888888, \"#fdca26\"], [1.0, \"#f0f921\"]], \"type\": \"heatmap\"}], \"heatmapgl\": [{\"colorbar\": {\"outlinewidth\": 0, \"ticks\": \"\"}, \"colorscale\": [[0.0, \"#0d0887\"], [0.1111111111111111, \"#46039f\"], [0.2222222222222222, \"#7201a8\"], [0.3333333333333333, \"#9c179e\"], [0.4444444444444444, \"#bd3786\"], [0.5555555555555556, \"#d8576b\"], [0.6666666666666666, \"#ed7953\"], [0.7777777777777778, \"#fb9f3a\"], [0.8888888888888888, \"#fdca26\"], [1.0, \"#f0f921\"]], \"type\": \"heatmapgl\"}], \"histogram\": [{\"marker\": {\"colorbar\": {\"outlinewidth\": 0, \"ticks\": \"\"}}, \"type\": \"histogram\"}], \"histogram2d\": [{\"colorbar\": {\"outlinewidth\": 0, \"ticks\": \"\"}, \"colorscale\": [[0.0, \"#0d0887\"], [0.1111111111111111, \"#46039f\"], [0.2222222222222222, \"#7201a8\"], [0.3333333333333333, \"#9c179e\"], [0.4444444444444444, \"#bd3786\"], [0.5555555555555556, \"#d8576b\"], [0.6666666666666666, \"#ed7953\"], [0.7777777777777778, \"#fb9f3a\"], [0.8888888888888888, \"#fdca26\"], [1.0, \"#f0f921\"]], \"type\": \"histogram2d\"}], \"histogram2dcontour\": [{\"colorbar\": {\"outlinewidth\": 0, \"ticks\": \"\"}, \"colorscale\": [[0.0, \"#0d0887\"], [0.1111111111111111, \"#46039f\"], [0.2222222222222222, \"#7201a8\"], [0.3333333333333333, \"#9c179e\"], [0.4444444444444444, \"#bd3786\"], [0.5555555555555556, \"#d8576b\"], [0.6666666666666666, \"#ed7953\"], [0.7777777777777778, \"#fb9f3a\"], [0.8888888888888888, \"#fdca26\"], [1.0, \"#f0f921\"]], \"type\": \"histogram2dcontour\"}], \"mesh3d\": [{\"colorbar\": {\"outlinewidth\": 0, \"ticks\": \"\"}, \"type\": \"mesh3d\"}], \"parcoords\": [{\"line\": {\"colorbar\": {\"outlinewidth\": 0, \"ticks\": \"\"}}, \"type\": \"parcoords\"}], \"pie\": [{\"automargin\": true, \"type\": \"pie\"}], \"scatter\": [{\"marker\": {\"colorbar\": {\"outlinewidth\": 0, \"ticks\": \"\"}}, \"type\": \"scatter\"}], \"scatter3d\": [{\"line\": {\"colorbar\": {\"outlinewidth\": 0, \"ticks\": \"\"}}, \"marker\": {\"colorbar\": {\"outlinewidth\": 0, \"ticks\": \"\"}}, \"type\": \"scatter3d\"}], \"scattercarpet\": [{\"marker\": {\"colorbar\": {\"outlinewidth\": 0, \"ticks\": \"\"}}, \"type\": \"scattercarpet\"}], \"scattergeo\": [{\"marker\": {\"colorbar\": {\"outlinewidth\": 0, \"ticks\": \"\"}}, \"type\": \"scattergeo\"}], \"scattergl\": [{\"marker\": {\"colorbar\": {\"outlinewidth\": 0, \"ticks\": \"\"}}, \"type\": \"scattergl\"}], \"scattermapbox\": [{\"marker\": {\"colorbar\": {\"outlinewidth\": 0, \"ticks\": \"\"}}, \"type\": \"scattermapbox\"}], \"scatterpolar\": [{\"marker\": {\"colorbar\": {\"outlinewidth\": 0, \"ticks\": \"\"}}, \"type\": \"scatterpolar\"}], \"scatterpolargl\": [{\"marker\": {\"colorbar\": {\"outlinewidth\": 0, \"ticks\": \"\"}}, \"type\": \"scatterpolargl\"}], \"scatterternary\": [{\"marker\": {\"colorbar\": {\"outlinewidth\": 0, \"ticks\": \"\"}}, \"type\": \"scatterternary\"}], \"surface\": [{\"colorbar\": {\"outlinewidth\": 0, \"ticks\": \"\"}, \"colorscale\": [[0.0, \"#0d0887\"], [0.1111111111111111, \"#46039f\"], [0.2222222222222222, \"#7201a8\"], [0.3333333333333333, \"#9c179e\"], [0.4444444444444444, \"#bd3786\"], [0.5555555555555556, \"#d8576b\"], [0.6666666666666666, \"#ed7953\"], [0.7777777777777778, \"#fb9f3a\"], [0.8888888888888888, \"#fdca26\"], [1.0, \"#f0f921\"]], \"type\": \"surface\"}], \"table\": [{\"cells\": {\"fill\": {\"color\": \"#EBF0F8\"}, \"line\": {\"color\": \"white\"}}, \"header\": {\"fill\": {\"color\": \"#C8D4E3\"}, \"line\": {\"color\": \"white\"}}, \"type\": \"table\"}]}, \"layout\": {\"annotationdefaults\": {\"arrowcolor\": \"#2a3f5f\", \"arrowhead\": 0, \"arrowwidth\": 1}, \"coloraxis\": {\"colorbar\": {\"outlinewidth\": 0, \"ticks\": \"\"}}, \"colorscale\": {\"diverging\": [[0, \"#8e0152\"], [0.1, \"#c51b7d\"], [0.2, \"#de77ae\"], [0.3, \"#f1b6da\"], [0.4, \"#fde0ef\"], [0.5, \"#f7f7f7\"], [0.6, \"#e6f5d0\"], [0.7, \"#b8e186\"], [0.8, \"#7fbc41\"], [0.9, \"#4d9221\"], [1, \"#276419\"]], \"sequential\": [[0.0, \"#0d0887\"], [0.1111111111111111, \"#46039f\"], [0.2222222222222222, \"#7201a8\"], [0.3333333333333333, \"#9c179e\"], [0.4444444444444444, \"#bd3786\"], [0.5555555555555556, \"#d8576b\"], [0.6666666666666666, \"#ed7953\"], [0.7777777777777778, \"#fb9f3a\"], [0.8888888888888888, \"#fdca26\"], [1.0, \"#f0f921\"]], \"sequentialminus\": [[0.0, \"#0d0887\"], [0.1111111111111111, \"#46039f\"], [0.2222222222222222, \"#7201a8\"], [0.3333333333333333, \"#9c179e\"], [0.4444444444444444, \"#bd3786\"], [0.5555555555555556, \"#d8576b\"], [0.6666666666666666, \"#ed7953\"], [0.7777777777777778, \"#fb9f3a\"], [0.8888888888888888, \"#fdca26\"], [1.0, \"#f0f921\"]]}, \"colorway\": [\"#636efa\", \"#EF553B\", \"#00cc96\", \"#ab63fa\", \"#FFA15A\", \"#19d3f3\", \"#FF6692\", \"#B6E880\", \"#FF97FF\", \"#FECB52\"], \"font\": {\"color\": \"#2a3f5f\"}, \"geo\": {\"bgcolor\": \"white\", \"lakecolor\": \"white\", \"landcolor\": \"#E5ECF6\", \"showlakes\": true, \"showland\": true, \"subunitcolor\": \"white\"}, \"hoverlabel\": {\"align\": \"left\"}, \"hovermode\": \"closest\", \"mapbox\": {\"style\": \"light\"}, \"paper_bgcolor\": \"white\", \"plot_bgcolor\": \"#E5ECF6\", \"polar\": {\"angularaxis\": {\"gridcolor\": \"white\", \"linecolor\": \"white\", \"ticks\": \"\"}, \"bgcolor\": \"#E5ECF6\", \"radialaxis\": {\"gridcolor\": \"white\", \"linecolor\": \"white\", \"ticks\": \"\"}}, \"scene\": {\"xaxis\": {\"backgroundcolor\": \"#E5ECF6\", \"gridcolor\": \"white\", \"gridwidth\": 2, \"linecolor\": \"white\", \"showbackground\": true, \"ticks\": \"\", \"zerolinecolor\": \"white\"}, \"yaxis\": {\"backgroundcolor\": \"#E5ECF6\", \"gridcolor\": \"white\", \"gridwidth\": 2, \"linecolor\": \"white\", \"showbackground\": true, \"ticks\": \"\", \"zerolinecolor\": \"white\"}, \"zaxis\": {\"backgroundcolor\": \"#E5ECF6\", \"gridcolor\": \"white\", \"gridwidth\": 2, \"linecolor\": \"white\", \"showbackground\": true, \"ticks\": \"\", \"zerolinecolor\": \"white\"}}, \"shapedefaults\": {\"line\": {\"color\": \"#2a3f5f\"}}, \"ternary\": {\"aaxis\": {\"gridcolor\": \"white\", \"linecolor\": \"white\", \"ticks\": \"\"}, \"baxis\": {\"gridcolor\": \"white\", \"linecolor\": \"white\", \"ticks\": \"\"}, \"bgcolor\": \"#E5ECF6\", \"caxis\": {\"gridcolor\": \"white\", \"linecolor\": \"white\", \"ticks\": \"\"}}, \"title\": {\"x\": 0.05}, \"xaxis\": {\"automargin\": true, \"gridcolor\": \"white\", \"linecolor\": \"white\", \"ticks\": \"\", \"title\": {\"standoff\": 15}, \"zerolinecolor\": \"white\", \"zerolinewidth\": 2}, \"yaxis\": {\"automargin\": true, \"gridcolor\": \"white\", \"linecolor\": \"white\", \"ticks\": \"\", \"title\": {\"standoff\": 15}, \"zerolinecolor\": \"white\", \"zerolinewidth\": 2}}}, \"title\": {\"text\": \"Correlations\"}, \"width\": 800, \"yaxis\": {\"autorange\": \"reversed\"}},\n",
       "                        {\"responsive\": true}\n",
       "                    ).then(function(){\n",
       "                            \n",
       "var gd = document.getElementById('be05d4d1-98fd-40c1-8602-efa587a741b7');\n",
       "var x = new MutationObserver(function (mutations, observer) {{\n",
       "        var display = window.getComputedStyle(gd).display;\n",
       "        if (!display || display === 'none') {{\n",
       "            console.log([gd, 'removed!']);\n",
       "            Plotly.purge(gd);\n",
       "            observer.disconnect();\n",
       "        }}\n",
       "}});\n",
       "\n",
       "// Listen for the removal of the full notebook cells\n",
       "var notebookContainer = gd.closest('#notebook-container');\n",
       "if (notebookContainer) {{\n",
       "    x.observe(notebookContainer, {childList: true});\n",
       "}}\n",
       "\n",
       "// Listen for the clearing of the current output cell\n",
       "var outputEl = gd.closest('.output');\n",
       "if (outputEl) {{\n",
       "    x.observe(outputEl, {childList: true});\n",
       "}}\n",
       "\n",
       "                        })\n",
       "                };\n",
       "                });\n",
       "            </script>\n",
       "        </div>"
      ]
     },
     "metadata": {},
     "output_type": "display_data"
    }
   ],
   "source": [
    "data = [go.Heatmap(x=correlations.columns,\n",
    "                   y=correlations.index,\n",
    "                   z=correlations, colorscale='RdBu')]\n",
    "layout = go.Layout(title='Correlations',\n",
    "                   yaxis={'autorange':\"reversed\"})\n",
    "\n",
    "fig = go.Figure(data=data,layout=layout)\n",
    "fig.update_layout(autosize=False, height=800, width=800)\n",
    "# To save image file\n",
    "# fig.write_image(\"images/correlations.jpeg\")\n",
    "\n",
    "# To print image\n",
    "'''img_bytes = fig.to_image(format=\"jpeg\")\n",
    "Image(img_bytes)\n",
    "'''\n",
    "# To print plotly graph\n",
    "fig.show()"
   ]
  },
  {
   "cell_type": "code",
   "execution_count": 49,
   "metadata": {},
   "outputs": [
    {
     "ename": "TypeError",
     "evalue": "scatter_matrix() got an unexpected keyword argument 'showupperhalf'",
     "output_type": "error",
     "traceback": [
      "\u001b[1;31m---------------------------------------------------------------------------\u001b[0m",
      "\u001b[1;31mTypeError\u001b[0m                                 Traceback (most recent call last)",
      "\u001b[1;32m<ipython-input-49-4cdabd907d55>\u001b[0m in \u001b[0;36m<module>\u001b[1;34m\u001b[0m\n\u001b[0;32m      2\u001b[0m \u001b[1;32mimport\u001b[0m \u001b[0mplotly\u001b[0m\u001b[1;33m.\u001b[0m\u001b[0moffline\u001b[0m \u001b[1;32mas\u001b[0m \u001b[0mpyo\u001b[0m\u001b[1;33m\u001b[0m\u001b[1;33m\u001b[0m\u001b[0m\n\u001b[0;32m      3\u001b[0m \u001b[1;33m\u001b[0m\u001b[0m\n\u001b[1;32m----> 4\u001b[1;33m \u001b[0mfig\u001b[0m \u001b[1;33m=\u001b[0m \u001b[0mpx\u001b[0m\u001b[1;33m.\u001b[0m\u001b[0mscatter_matrix\u001b[0m\u001b[1;33m(\u001b[0m\u001b[0mpoke\u001b[0m\u001b[1;33m,\u001b[0m \u001b[0mdimensions\u001b[0m\u001b[1;33m=\u001b[0m\u001b[1;33m[\u001b[0m\u001b[1;34m'Catch_Rate'\u001b[0m\u001b[1;33m,\u001b[0m \u001b[1;34m'HP'\u001b[0m\u001b[1;33m,\u001b[0m \u001b[1;34m'Attack'\u001b[0m\u001b[1;33m,\u001b[0m \u001b[1;34m'Defense'\u001b[0m\u001b[1;33m,\u001b[0m \u001b[1;34m'Sp_Atk'\u001b[0m\u001b[1;33m,\u001b[0m \u001b[1;34m'Sp_Def'\u001b[0m\u001b[1;33m,\u001b[0m \u001b[1;34m'Speed'\u001b[0m\u001b[1;33m]\u001b[0m\u001b[1;33m,\u001b[0m \u001b[0mshowupperhalf\u001b[0m\u001b[1;33m=\u001b[0m\u001b[1;32mFalse\u001b[0m\u001b[1;33m,\u001b[0m\u001b[1;33m)\u001b[0m\u001b[1;33m\u001b[0m\u001b[1;33m\u001b[0m\u001b[0m\n\u001b[0m\u001b[0;32m      5\u001b[0m \u001b[0mfig\u001b[0m\u001b[1;33m.\u001b[0m\u001b[0mupdate_layout\u001b[0m\u001b[1;33m(\u001b[0m\u001b[0mheight\u001b[0m\u001b[1;33m=\u001b[0m\u001b[1;36m1000\u001b[0m\u001b[1;33m,\u001b[0m \u001b[0mwidth\u001b[0m\u001b[1;33m=\u001b[0m\u001b[1;36m1000\u001b[0m\u001b[1;33m)\u001b[0m\u001b[1;33m\u001b[0m\u001b[1;33m\u001b[0m\u001b[0m\n\u001b[0;32m      6\u001b[0m \u001b[0mpyo\u001b[0m\u001b[1;33m.\u001b[0m\u001b[0mplot\u001b[0m\u001b[1;33m(\u001b[0m\u001b[0mfig\u001b[0m\u001b[1;33m)\u001b[0m\u001b[1;33m\u001b[0m\u001b[1;33m\u001b[0m\u001b[0m\n",
      "\u001b[1;31mTypeError\u001b[0m: scatter_matrix() got an unexpected keyword argument 'showupperhalf'"
     ]
    }
   ],
   "source": [
    "import plotly.express as px\n",
    "import plotly.offline as pyo\n",
    "\n",
    "fig = px.scatter_matrix(poke, dimensions=['Catch_Rate', 'HP', 'Attack', 'Defense', 'Sp_Atk', 'Sp_Def', 'Speed'])\n",
    "fig.update_layout(height=1000, width=1000)\n",
    "pyo.plot(fig)"
   ]
  },
  {
   "cell_type": "code",
   "execution_count": 13,
   "metadata": {},
   "outputs": [
    {
     "data": {
      "application/vnd.plotly.v1+json": {
       "config": {
        "plotlyServerURL": "https://plot.ly"
       },
       "data": [
        {
         "dimensions": [
          {
           "label": "Pr_Male",
           "values": [
            0.875,
            0.875,
            0.875,
            0.875,
            0.875,
            0.875,
            0.875,
            0.875,
            0.875,
            0.5,
            0.5,
            0.5,
            0.5,
            0.5,
            0.5,
            0.5,
            0.5,
            0.5,
            0.5,
            0.5,
            0.5,
            0.5,
            0.5,
            0.5,
            0.5,
            0.5,
            0.5,
            0.5,
            0,
            0,
            0,
            1,
            1,
            1,
            0.25,
            0.25,
            0.25,
            0.25,
            0.25,
            0.25,
            0.5,
            0.5,
            0.5,
            0.5,
            0.5,
            0.5,
            0.5,
            0.5,
            0.5,
            0.5,
            0.5,
            0.5,
            0.5,
            0.5,
            0.5,
            0.5,
            0.5,
            0.75,
            0.75,
            0.5,
            0.5,
            0.5,
            0.75,
            0.75,
            0.75,
            0.75,
            0.75,
            0.75,
            0.5,
            0.5,
            0.5,
            0.5,
            0.5,
            0.5,
            0.5,
            0.5,
            0.5,
            0.5,
            0.5,
            0.5,
            null,
            null,
            0.5,
            0.5,
            0.5,
            0.5,
            0.5,
            0.5,
            0.5,
            0.5,
            0.5,
            0.5,
            0.5,
            0.5,
            0.5,
            0.5,
            0.5,
            0.5,
            0.5,
            null,
            null,
            0.5,
            0.5,
            0.5,
            0.5,
            1,
            1,
            0.5,
            0.5,
            0.5,
            0.5,
            0.5,
            0,
            0.5,
            0,
            0.5,
            0.5,
            0.5,
            0.5,
            null,
            null,
            0.5,
            0.5,
            0,
            0.75,
            0.75,
            0.5,
            1,
            0.5,
            0.5,
            0.5,
            null,
            0.875,
            0.875,
            0.875,
            0.875,
            null,
            0.875,
            0.875,
            0.875,
            0.875,
            0.875,
            0.875,
            null,
            null,
            null,
            0.5,
            0.5,
            0.5,
            null,
            null,
            0.875,
            0.875,
            0.875,
            0.875,
            0.875,
            0.875,
            0.875,
            0.875,
            0.875,
            0.5,
            0.5,
            0.5,
            0.5,
            0.5,
            0.5,
            0.5,
            0.5,
            0.5,
            0.5,
            0.5,
            0.5,
            0.25,
            0.25,
            0.875,
            0.875,
            0.5,
            0.5,
            0.5,
            0.5,
            0.5,
            0.5,
            0.5,
            0.5,
            0.5,
            0.5,
            0.5,
            0.5,
            0.5,
            0.5,
            0.5,
            0.5,
            0.5,
            0.5,
            0.5,
            0.875,
            0.875,
            0.5,
            0.5,
            0.5,
            null,
            0.5,
            0.5,
            0.5,
            0.5,
            0.5,
            0.5,
            0.5,
            0.25,
            0.25,
            0.5,
            0.5,
            0.5,
            0.5,
            0.5,
            0.5,
            0.5,
            0.5,
            0.5,
            0.5,
            0.5,
            0.25,
            0.5,
            0.5,
            0.5,
            0.5,
            0.5,
            0.5,
            0.5,
            0.5,
            0.5,
            0.5,
            null,
            0.5,
            0.5,
            1,
            1,
            0,
            0.75,
            0.75,
            0,
            0,
            null,
            null,
            null,
            0.5,
            0.5,
            0.5,
            null,
            null,
            null,
            0.875,
            0.875,
            0.875,
            0.875,
            0.875,
            0.875,
            0.875,
            0.875,
            0.875,
            0.5,
            0.5,
            0.5,
            0.5,
            0.5,
            0.5,
            0.5,
            0.5,
            0.5,
            0.5,
            0.5,
            0.5,
            0.5,
            0.5,
            0.5,
            0.5,
            0.5,
            0.5,
            0.5,
            0.5,
            0.5,
            0.5,
            0.5,
            0.5,
            0.5,
            0.5,
            0.5,
            0.5,
            0.5,
            0.5,
            0.5,
            null,
            0.5,
            0.5,
            0.5,
            0.75,
            0.75,
            0.25,
            0.5,
            0.25,
            0.25,
            0.5,
            0.5,
            0.5,
            0.5,
            0.5,
            0.5,
            0.5,
            0.5,
            0.5,
            0.5,
            0.5,
            1,
            0,
            0.5,
            0.5,
            0.5,
            0.5,
            0.5,
            0.5,
            0.5,
            0.5,
            0.5,
            0.5,
            0.5,
            0.5,
            0.5,
            0.5,
            0.5,
            0.5,
            0.5,
            0.5,
            0.5,
            0.5,
            0.5,
            0.5,
            null,
            null,
            0.5,
            0.5,
            0.5,
            0.5,
            null,
            null,
            0.875,
            0.875,
            0.875,
            0.875,
            0.5,
            0.5,
            0.5,
            0.5,
            0.5,
            0.5,
            0.5,
            0.5,
            0.5,
            0.5,
            0.5,
            0.5,
            0.5,
            0.5,
            0.5,
            0.5,
            0.5,
            0.5,
            0.5,
            0.5,
            0.875,
            0.25,
            0.5,
            0.5,
            0.5,
            null,
            null,
            null,
            null,
            null,
            null,
            0,
            1,
            null,
            null,
            null,
            null,
            null,
            0.875,
            0.875,
            0.875,
            0.875,
            0.875,
            0.875,
            0.875,
            0.875,
            0.875,
            0.5,
            0.5,
            0.5,
            0.5,
            0.5,
            0.5,
            0.5,
            0.5,
            0.5,
            0.5,
            0.5,
            0.5,
            0.875,
            0.875,
            0.875,
            0.875,
            0.5,
            0,
            1,
            0.875,
            0,
            0.5,
            0.5,
            0.5,
            0.5,
            0.5,
            0.5,
            0.5,
            0.5,
            0.5,
            0.5,
            0.5,
            0.5,
            0.5,
            0.5,
            0.25,
            0.25,
            0.5,
            0.5,
            0.5,
            null,
            null,
            0.5,
            0.5,
            0,
            0.5,
            0.5,
            0.5,
            0.5,
            0.5,
            0.875,
            0.875,
            0.875,
            0.5,
            0.5,
            0.5,
            0.5,
            0.5,
            0.5,
            0.5,
            0.5,
            0.5,
            0.5,
            0.5,
            0.5,
            0.5,
            null,
            0.5,
            0.5,
            0.5,
            0.75,
            0.75,
            0.875,
            0.5,
            0.875,
            0.875,
            0.5,
            0.5,
            null,
            1,
            0.5,
            0.5,
            0,
            null,
            null,
            null,
            null,
            null,
            null,
            0.5,
            null,
            null,
            0,
            null,
            null,
            null,
            null,
            null,
            null,
            0.875,
            0.875,
            0.875,
            0.875,
            0.875,
            0.875,
            0.875,
            0.875,
            0.875,
            0.5,
            0.5,
            0.5,
            0.5,
            0.5,
            0.5,
            0.5,
            0.875,
            0.875,
            0.875,
            0.875,
            0.875,
            0.875,
            0.5,
            0.5,
            0.5,
            0.5,
            0.5,
            0.5,
            0.5,
            0.5,
            0.5,
            0.5,
            0.5,
            0.5,
            0.5,
            0.5,
            0.5,
            0.75,
            0.75,
            0.75,
            0.5,
            0.5,
            0.5,
            1,
            1,
            0.5,
            0.5,
            0.5,
            0.5,
            0.5,
            0.5,
            0.5,
            0.5,
            0,
            0,
            0.5,
            0.5,
            0.5,
            0.5,
            0.5,
            0.5,
            0.5,
            0.5,
            0.5,
            0.5,
            0.5,
            0.5,
            0.5,
            0.5,
            0.875,
            0.875,
            0.875,
            0.875,
            0.5,
            0.5,
            0.875,
            0.875,
            0.25,
            0.25,
            0.25,
            0.25,
            0.25,
            0.5,
            0.5,
            0.5,
            0.5,
            0.5,
            0.5,
            0.5,
            0.5,
            0.5,
            0.5,
            0.5,
            0.5,
            0.5,
            0.5,
            0.5,
            0.5,
            0.5,
            0.5,
            0.5,
            0.5,
            0.5,
            0.5,
            null,
            null,
            null,
            0.5,
            0.5,
            0.5,
            0.5,
            0.5,
            0.5,
            0.5,
            0.5,
            0.5,
            0.5,
            0.5,
            0.5,
            0.5,
            null,
            0.5,
            0.5,
            0.5,
            0.5,
            0.5,
            0.5,
            null,
            null,
            0.5,
            0.5,
            0.5,
            1,
            1,
            0,
            0,
            0.5,
            0.5,
            0.5,
            0.5,
            0.5,
            0.5,
            0.5,
            null,
            null,
            null,
            1,
            1,
            null,
            null,
            1,
            null,
            null,
            null,
            null,
            0.875,
            0.875,
            0.875,
            0.875,
            0.875,
            0.875,
            0.875,
            0.875,
            0.875,
            0.5,
            0.5,
            0.5,
            0.5,
            0.5,
            0.5,
            0.5,
            0.5,
            0.125,
            0.125,
            0,
            0,
            0,
            0.5,
            0.5,
            0.5,
            0.5,
            0.5,
            0.5,
            0.5,
            0.5,
            0.5,
            0.5,
            0.5,
            0.5,
            0.5,
            0.5,
            0.5,
            0.5,
            0.5,
            0.5,
            0.5,
            0.5,
            0.5,
            0.5,
            0.5,
            0.5,
            0.875,
            0.875,
            0.875,
            0.875,
            0.875,
            0.5,
            0.5,
            null,
            0.5,
            0.5,
            0.5,
            0.5,
            0.5,
            0.5,
            0.5,
            0.5,
            0.5,
            0.5,
            0.5,
            0.5,
            null,
            null,
            null,
            null,
            null,
            null
           ]
          },
          {
           "label": "Catch_Rate",
           "values": [
            45,
            45,
            45,
            45,
            45,
            45,
            45,
            45,
            45,
            255,
            120,
            45,
            255,
            120,
            45,
            255,
            120,
            45,
            255,
            127,
            255,
            90,
            255,
            90,
            190,
            75,
            255,
            90,
            235,
            120,
            45,
            235,
            120,
            45,
            150,
            25,
            190,
            75,
            170,
            50,
            255,
            90,
            255,
            120,
            45,
            190,
            75,
            190,
            75,
            255,
            50,
            255,
            90,
            190,
            75,
            190,
            75,
            190,
            75,
            255,
            120,
            45,
            200,
            100,
            50,
            180,
            90,
            45,
            255,
            120,
            45,
            190,
            60,
            255,
            120,
            45,
            190,
            60,
            190,
            75,
            190,
            60,
            45,
            190,
            45,
            190,
            75,
            190,
            75,
            190,
            60,
            190,
            90,
            45,
            45,
            190,
            75,
            225,
            60,
            190,
            60,
            90,
            45,
            190,
            75,
            45,
            45,
            45,
            190,
            60,
            120,
            60,
            30,
            45,
            45,
            225,
            75,
            225,
            60,
            225,
            60,
            45,
            45,
            45,
            45,
            45,
            45,
            45,
            255,
            45,
            45,
            35,
            45,
            45,
            45,
            45,
            45,
            45,
            45,
            45,
            45,
            45,
            25,
            3,
            3,
            3,
            45,
            45,
            45,
            3,
            45,
            45,
            45,
            45,
            45,
            45,
            45,
            45,
            45,
            45,
            255,
            90,
            255,
            90,
            255,
            90,
            255,
            90,
            90,
            190,
            75,
            190,
            150,
            170,
            190,
            75,
            190,
            75,
            235,
            120,
            45,
            45,
            190,
            75,
            65,
            45,
            255,
            120,
            45,
            45,
            235,
            120,
            75,
            255,
            90,
            45,
            45,
            30,
            70,
            45,
            225,
            45,
            60,
            190,
            75,
            190,
            60,
            25,
            190,
            75,
            45,
            25,
            190,
            45,
            60,
            120,
            60,
            190,
            75,
            225,
            75,
            60,
            190,
            75,
            45,
            25,
            25,
            120,
            45,
            45,
            120,
            60,
            45,
            45,
            45,
            75,
            45,
            45,
            45,
            45,
            45,
            30,
            3,
            3,
            3,
            45,
            45,
            45,
            3,
            3,
            45,
            45,
            45,
            45,
            45,
            45,
            45,
            45,
            45,
            45,
            255,
            127,
            255,
            90,
            255,
            120,
            45,
            120,
            45,
            255,
            120,
            45,
            255,
            120,
            45,
            200,
            45,
            190,
            45,
            235,
            120,
            45,
            200,
            75,
            255,
            90,
            255,
            120,
            45,
            255,
            120,
            45,
            190,
            120,
            45,
            180,
            200,
            150,
            255,
            255,
            60,
            45,
            45,
            180,
            90,
            45,
            180,
            90,
            120,
            45,
            200,
            200,
            150,
            150,
            150,
            225,
            75,
            225,
            60,
            125,
            60,
            255,
            150,
            90,
            255,
            60,
            255,
            255,
            120,
            45,
            190,
            60,
            255,
            45,
            90,
            90,
            45,
            45,
            190,
            75,
            205,
            155,
            255,
            90,
            45,
            45,
            45,
            45,
            255,
            60,
            45,
            200,
            225,
            45,
            190,
            90,
            200,
            45,
            30,
            125,
            190,
            75,
            255,
            120,
            45,
            255,
            60,
            60,
            25,
            225,
            45,
            45,
            45,
            3,
            3,
            3,
            3,
            3,
            3,
            3,
            3,
            3,
            3,
            45,
            3,
            3,
            45,
            45,
            45,
            45,
            45,
            45,
            45,
            45,
            45,
            255,
            120,
            45,
            255,
            127,
            255,
            45,
            235,
            120,
            45,
            255,
            75,
            45,
            45,
            45,
            45,
            120,
            45,
            45,
            120,
            45,
            200,
            190,
            75,
            190,
            75,
            190,
            75,
            45,
            125,
            60,
            190,
            60,
            45,
            30,
            190,
            75,
            120,
            225,
            60,
            255,
            90,
            255,
            145,
            130,
            30,
            100,
            45,
            45,
            45,
            50,
            75,
            45,
            140,
            60,
            120,
            45,
            140,
            75,
            200,
            190,
            75,
            25,
            120,
            60,
            45,
            30,
            30,
            30,
            30,
            30,
            30,
            30,
            30,
            45,
            45,
            30,
            50,
            30,
            45,
            60,
            45,
            75,
            45,
            3,
            3,
            3,
            3,
            3,
            3,
            3,
            3,
            3,
            30,
            3,
            3,
            45,
            3,
            3,
            45,
            45,
            45,
            45,
            45,
            45,
            45,
            45,
            45,
            255,
            255,
            255,
            120,
            45,
            255,
            90,
            190,
            75,
            190,
            75,
            190,
            75,
            190,
            75,
            255,
            120,
            45,
            190,
            75,
            255,
            120,
            45,
            190,
            45,
            120,
            60,
            255,
            180,
            90,
            45,
            255,
            120,
            45,
            45,
            45,
            255,
            120,
            45,
            255,
            120,
            45,
            190,
            75,
            190,
            75,
            25,
            180,
            90,
            45,
            120,
            60,
            255,
            190,
            75,
            180,
            90,
            45,
            190,
            90,
            45,
            45,
            45,
            45,
            190,
            60,
            75,
            45,
            255,
            60,
            200,
            100,
            50,
            200,
            100,
            50,
            190,
            45,
            255,
            120,
            45,
            190,
            75,
            200,
            200,
            75,
            190,
            75,
            190,
            60,
            75,
            190,
            75,
            255,
            90,
            130,
            60,
            30,
            190,
            60,
            30,
            255,
            90,
            190,
            90,
            45,
            75,
            60,
            45,
            120,
            60,
            25,
            200,
            75,
            75,
            180,
            45,
            45,
            190,
            90,
            120,
            45,
            45,
            190,
            60,
            190,
            60,
            90,
            90,
            45,
            45,
            45,
            45,
            15,
            3,
            3,
            3,
            3,
            3,
            3,
            3,
            3,
            3,
            3,
            3,
            3,
            45,
            45,
            45,
            45,
            45,
            45,
            45,
            45,
            45,
            255,
            127,
            255,
            120,
            45,
            255,
            120,
            45,
            220,
            65,
            225,
            120,
            45,
            200,
            45,
            220,
            65,
            160,
            190,
            75,
            180,
            90,
            45,
            200,
            140,
            200,
            140,
            190,
            80,
            120,
            45,
            225,
            55,
            225,
            55,
            190,
            75,
            45,
            45,
            45,
            45,
            45,
            100,
            180,
            60,
            45,
            45,
            45,
            75,
            120,
            60,
            120,
            60,
            190,
            55,
            190,
            45,
            45,
            45,
            3,
            3,
            3,
            3
           ]
          },
          {
           "label": "Height_m",
           "values": [
            0.71,
            0.99,
            2.01,
            0.61,
            1.09,
            1.7,
            0.51,
            0.99,
            1.6,
            0.3,
            0.71,
            1.09,
            0.3,
            0.61,
            0.99,
            0.3,
            1.09,
            1.5,
            0.3,
            0.71,
            0.3,
            1.19,
            2.01,
            3.51,
            0.41,
            0.79,
            0.61,
            0.99,
            0.41,
            0.79,
            1.3,
            0.51,
            0.89,
            1.4,
            0.61,
            1.3,
            0.61,
            1.09,
            0.51,
            0.99,
            0.79,
            1.6,
            0.51,
            0.79,
            1.19,
            0.3,
            0.99,
            0.99,
            1.5,
            0.2,
            0.71,
            0.41,
            0.99,
            0.79,
            1.7,
            0.51,
            0.99,
            0.71,
            1.91,
            0.61,
            0.99,
            1.3,
            0.89,
            1.3,
            1.5,
            0.79,
            1.5,
            1.6,
            0.71,
            0.99,
            1.7,
            0.89,
            1.6,
            0.41,
            0.99,
            1.4,
            0.99,
            1.7,
            1.19,
            1.6,
            0.3,
            0.99,
            0.79,
            1.4,
            1.8,
            1.09,
            1.7,
            0.89,
            1.19,
            0.3,
            1.5,
            1.3,
            1.6,
            1.5,
            8.79,
            0.99,
            1.6,
            0.41,
            1.3,
            0.51,
            1.19,
            0.41,
            2.01,
            0.41,
            0.99,
            1.5,
            1.4,
            1.19,
            0.61,
            1.19,
            0.99,
            1.91,
            1.09,
            0.99,
            2.21,
            0.41,
            1.19,
            0.61,
            1.3,
            0.79,
            1.09,
            1.3,
            1.5,
            1.4,
            1.09,
            1.3,
            1.5,
            1.4,
            0.89,
            6.5,
            2.49,
            0.3,
            0.3,
            0.99,
            0.79,
            0.89,
            0.79,
            0.41,
            0.99,
            0.51,
            1.3,
            1.8,
            2.11,
            1.7,
            1.6,
            2.01,
            1.8,
            3.99,
            2.21,
            2.01,
            0.41,
            0.89,
            1.19,
            1.8,
            0.51,
            0.89,
            1.7,
            0.61,
            1.09,
            2.31,
            0.79,
            1.8,
            0.71,
            1.6,
            0.99,
            1.4,
            0.51,
            1.09,
            1.8,
            0.51,
            1.19,
            0.3,
            0.3,
            0.3,
            0.3,
            0.61,
            0.2,
            1.5,
            0.61,
            0.79,
            1.4,
            0.41,
            0.41,
            0.79,
            1.19,
            1.09,
            0.41,
            0.61,
            0.79,
            0.79,
            0.3,
            0.79,
            1.19,
            0.41,
            1.4,
            0.89,
            0.99,
            0.51,
            2.01,
            0.71,
            0.51,
            1.3,
            1.5,
            0.61,
            1.19,
            1.5,
            1.09,
            9.19,
            0.61,
            1.4,
            0.51,
            1.8,
            0.61,
            1.5,
            0.89,
            0.61,
            1.8,
            0.71,
            0.79,
            0.41,
            1.09,
            0.61,
            0.61,
            0.89,
            0.89,
            2.11,
            1.7,
            0.61,
            1.4,
            1.8,
            0.51,
            1.09,
            0.61,
            1.4,
            1.19,
            0.71,
            1.4,
            0.41,
            0.61,
            0.71,
            1.19,
            1.5,
            1.91,
            2.11,
            2.01,
            0.61,
            1.19,
            2.01,
            5.21,
            3.81,
            0.61,
            0.51,
            0.89,
            1.7,
            0.41,
            0.89,
            1.91,
            0.41,
            0.71,
            1.5,
            0.51,
            0.99,
            0.41,
            0.51,
            0.3,
            0.61,
            0.99,
            0.71,
            1.19,
            0.51,
            1.19,
            1.5,
            0.51,
            0.99,
            1.3,
            0.3,
            0.71,
            0.61,
            1.19,
            0.41,
            0.79,
            1.6,
            0.51,
            0.79,
            0.41,
            1.19,
            0.79,
            1.4,
            2.01,
            0.51,
            0.79,
            0.79,
            0.61,
            0.99,
            1.5,
            0.99,
            2.31,
            0.2,
            0.99,
            0.61,
            1.09,
            0.51,
            0.61,
            0.41,
            0.89,
            2.11,
            0.61,
            1.3,
            0.61,
            1.5,
            0.41,
            0.41,
            0.71,
            0.61,
            0.3,
            0.41,
            1.7,
            0.79,
            1.8,
            2.01,
            14.5,
            0.71,
            1.91,
            0.51,
            0.71,
            0.89,
            1.09,
            0.71,
            1.09,
            2.01,
            0.41,
            1.3,
            0.41,
            1.09,
            1.3,
            2.69,
            0.99,
            1.19,
            0.41,
            0.89,
            0.61,
            1.09,
            0.51,
            1.5,
            0.99,
            1.5,
            0.71,
            1.5,
            0.61,
            6.2,
            0.3,
            0.99,
            0.61,
            1.09,
            0.79,
            1.6,
            2.01,
            0.61,
            1.19,
            0.61,
            0.71,
            1.5,
            0.79,
            1.09,
            1.4,
            0.41,
            1.7,
            1.8,
            0.99,
            0.61,
            0.61,
            1.09,
            1.5,
            0.61,
            1.19,
            1.6,
            1.7,
            1.8,
            1.91,
            1.4,
            2.01,
            4.5,
            3.51,
            7.01,
            0.3,
            1.7,
            0.41,
            1.09,
            2.21,
            0.51,
            0.89,
            1.19,
            0.41,
            0.79,
            1.7,
            0.3,
            0.61,
            1.19,
            0.51,
            0.99,
            0.3,
            0.99,
            0.51,
            0.89,
            1.4,
            0.2,
            0.89,
            0.89,
            1.6,
            0.51,
            1.3,
            0.2,
            0.51,
            0.89,
            0.3,
            1.19,
            0.41,
            0.71,
            1.09,
            0.41,
            0.51,
            0.3,
            0.89,
            1.19,
            0.41,
            1.19,
            0.41,
            1.19,
            0.89,
            0.89,
            0.51,
            0.99,
            0.2,
            0.41,
            0.99,
            0.51,
            1.3,
            0.51,
            0.61,
            0.61,
            0.51,
            0.99,
            0.71,
            1.4,
            1.91,
            0.61,
            0.71,
            1.19,
            0.79,
            2.01,
            0.79,
            1.3,
            0.71,
            1.3,
            1.4,
            0.41,
            1.19,
            0.99,
            0.99,
            2.21,
            1.09,
            1.19,
            1.7,
            2.39,
            2.01,
            1.8,
            1.6,
            1.5,
            1.91,
            0.99,
            0.79,
            2.01,
            2.49,
            0.89,
            1.6,
            1.4,
            2.21,
            1.3,
            0.3,
            0.3,
            0.3,
            0.3,
            5.41,
            4.19,
            1.7,
            3.71,
            6.91,
            1.5,
            0.41,
            0.3,
            1.5,
            0.2,
            3.2,
            0.41,
            0.61,
            0.79,
            3.3,
            0.51,
            0.99,
            1.6,
            0.51,
            0.79,
            1.5,
            0.51,
            1.09,
            0.41,
            0.89,
            1.19,
            0.41,
            1.09,
            0.61,
            1.09,
            0.61,
            0.99,
            0.61,
            0.99,
            0.61,
            1.09,
            0.3,
            0.61,
            1.19,
            0.79,
            1.6,
            0.41,
            0.89,
            1.7,
            0.41,
            0.89,
            0.3,
            0.71,
            1.09,
            0.61,
            1.19,
            1.4,
            0.51,
            0.79,
            1.5,
            1.3,
            1.4,
            0.3,
            0.51,
            1.19,
            0.41,
            1.19,
            2.49,
            0.3,
            0.71,
            0.51,
            1.09,
            0.99,
            0.71,
            0.99,
            1.5,
            0.61,
            1.3,
            0.99,
            0.3,
            1.4,
            0.61,
            1.09,
            1.4,
            0.51,
            1.7,
            0.71,
            1.19,
            0.51,
            1.4,
            0.61,
            1.91,
            0.71,
            1.6,
            0.41,
            0.51,
            0.41,
            0.71,
            1.5,
            0.3,
            0.61,
            0.99,
            0.51,
            1.3,
            0.41,
            1.09,
            1.3,
            0.61,
            1.91,
            0.41,
            0.51,
            0.99,
            0.2,
            0.61,
            1.19,
            2.21,
            1.19,
            0.1,
            0.79,
            0.61,
            0.99,
            0.3,
            0.61,
            0.61,
            0.2,
            1.19,
            2.11,
            0.51,
            0.99,
            0.3,
            0.61,
            0.99,
            0.61,
            0.99,
            1.8,
            0.51,
            2.59,
            1.09,
            0.41,
            0.79,
            0.71,
            0.89,
            1.4,
            1.6,
            0.99,
            2.79,
            0.51,
            1.6,
            1.6,
            0.51,
            1.5,
            0.51,
            1.19,
            1.4,
            0.3,
            0.79,
            1.4,
            1.8,
            1.09,
            1.6,
            2.11,
            1.91,
            2.01,
            1.5,
            1.5,
            3.2,
            2.9,
            1.5,
            3,
            1.4,
            0.61,
            1.5,
            0.41,
            0.71,
            1.6,
            0.41,
            0.99,
            1.5,
            0.3,
            0.61,
            1.5,
            0.41,
            0.99,
            0.3,
            0.71,
            1.19,
            0.3,
            0.3,
            1.19,
            0.61,
            1.5,
            0.1,
            0.2,
            1.09,
            0.89,
            1.7,
            0.61,
            2.11,
            1.19,
            0.3,
            0.61,
            0.79,
            0.84,
            1.7,
            0.2,
            0.79,
            0.41,
            0.79,
            0.41,
            1.5,
            0.51,
            1.3,
            0.51,
            1.8,
            0.51,
            1.3,
            0.51,
            0.99,
            0.79,
            2.49,
            1.3,
            2.69,
            0.99,
            0.79,
            0.2,
            0.3,
            0.3,
            0.79,
            2.01,
            0.2,
            0.41,
            1.5,
            0.41,
            1.7,
            0.99,
            2.01,
            0.51,
            1.5,
            3,
            5.79,
            5,
            0.71,
            0.51,
            1.7
           ]
          },
          {
           "label": "Weight_kg",
           "values": [
            6.9,
            13,
            100,
            8.5,
            19,
            90.5,
            9,
            22.5,
            85.5,
            2.9,
            9.9,
            32,
            3.2,
            10,
            29.5,
            1.8,
            30,
            39.5,
            3.5,
            18.5,
            2,
            38,
            6.9,
            65,
            6,
            30,
            12,
            29.5,
            7,
            20,
            60,
            9,
            19.5,
            62,
            7.5,
            40,
            9.9,
            19.9,
            5.5,
            12,
            7.5,
            55,
            5.4,
            8.6,
            18.6,
            5.4,
            29.5,
            30,
            12.5,
            0.8,
            33.3,
            4.2,
            32,
            19.6,
            76.6,
            28,
            32,
            19,
            155,
            12.4,
            20,
            54,
            19.5,
            56.5,
            48,
            19.5,
            70.5,
            130,
            4,
            6.4,
            15.5,
            45.5,
            55,
            20,
            105,
            300,
            30,
            95,
            36,
            78.5,
            6,
            60,
            15,
            39.2,
            85.2,
            90,
            120,
            30,
            30,
            4,
            132.5,
            0.1,
            0.1,
            40.5,
            210,
            32.4,
            75.6,
            6.5,
            60,
            10.4,
            66.6,
            2.5,
            120,
            6.5,
            45,
            49.8,
            50.2,
            65.5,
            1,
            9.5,
            115,
            120,
            34.6,
            35,
            80,
            8,
            25,
            15,
            39,
            34.5,
            80,
            54.5,
            56,
            40.6,
            30,
            44.5,
            55,
            88.4,
            10,
            235,
            220,
            4,
            6.5,
            29,
            24.5,
            25,
            36.5,
            7.5,
            35,
            11.5,
            40.5,
            59,
            460,
            55.4,
            52.6,
            60,
            3.3,
            16.5,
            210,
            122,
            4,
            6.4,
            15.8,
            100.5,
            7.9,
            19,
            79.5,
            9.5,
            25,
            88.8,
            6,
            32.5,
            21.2,
            40.8,
            10.8,
            35.6,
            8.5,
            33.5,
            75,
            12,
            22.5,
            2,
            3,
            1,
            1.5,
            3.2,
            2,
            15,
            7.8,
            13.3,
            61.5,
            5.8,
            8.5,
            28.5,
            38,
            33.9,
            0.5,
            1,
            3,
            11.5,
            1.8,
            8.5,
            38,
            8.5,
            75,
            26.5,
            27,
            2.1,
            79.5,
            1,
            5,
            28.5,
            41.5,
            7.2,
            125.8,
            14,
            64.8,
            400,
            7.8,
            48.7,
            3.9,
            118,
            20.5,
            54,
            28,
            8.8,
            125.8,
            35,
            55,
            6.5,
            55.8,
            5,
            12,
            28.5,
            16,
            220,
            50.5,
            10.8,
            35,
            152,
            33.5,
            120,
            32.5,
            71.2,
            58,
            21,
            48,
            6,
            23.5,
            21.4,
            75.5,
            46.8,
            178,
            198,
            187,
            72,
            152,
            202,
            216,
            199,
            5,
            5,
            21.6,
            52.2,
            2.5,
            19.5,
            52,
            7.6,
            28,
            81.9,
            13.6,
            37,
            17.5,
            32.5,
            3.6,
            10,
            28.4,
            11.5,
            31.6,
            2.6,
            32.5,
            55,
            4,
            28,
            59.6,
            2.3,
            19.8,
            9.5,
            28,
            6.6,
            20.2,
            48.4,
            1.7,
            3.6,
            4.5,
            39.2,
            24,
            46.5,
            130.5,
            5.5,
            12,
            1.2,
            16.3,
            40.5,
            84,
            86.4,
            253.8,
            2,
            97,
            11,
            32.6,
            11,
            11.5,
            60,
            120,
            360,
            11.2,
            31.5,
            15.2,
            40.2,
            4.2,
            4.2,
            17.7,
            17.7,
            2,
            10.3,
            80,
            20.8,
            88.8,
            130,
            398,
            24,
            220,
            80.4,
            30.6,
            71.5,
            5,
            15,
            15.3,
            82,
            51.3,
            77.4,
            1.2,
            20.6,
            40.3,
            52.5,
            168,
            154,
            1.9,
            23.6,
            11.5,
            32.8,
            21.5,
            108,
            23.8,
            60.4,
            12.5,
            68.2,
            7.4,
            162,
            0.8,
            22,
            2.3,
            12.5,
            15,
            30.6,
            100,
            1,
            47,
            14,
            16.8,
            256.5,
            39.5,
            87.6,
            150.6,
            52.5,
            27,
            22.6,
            23.4,
            8.7,
            42.1,
            110.5,
            102.6,
            95.2,
            202.5,
            550,
            230,
            175,
            205,
            40,
            60,
            352,
            950,
            206.5,
            1.1,
            60.8,
            10.2,
            97,
            310,
            6.2,
            22,
            55,
            5.2,
            23,
            84.5,
            2,
            15.5,
            24.9,
            20,
            31.5,
            2.2,
            25.5,
            9.5,
            30.5,
            42,
            1.2,
            14.5,
            31.5,
            102.5,
            57,
            149.5,
            3.4,
            6.5,
            23.3,
            5.5,
            38.5,
            3.9,
            29.5,
            33.5,
            3.3,
            9.3,
            6.3,
            29.9,
            20.3,
            1.2,
            15,
            5.5,
            33.3,
            4.4,
            27.3,
            3.9,
            43.8,
            0.6,
            19.2,
            38,
            60.5,
            187,
            15,
            13,
            24.4,
            1.9,
            108,
            20.5,
            56,
            95,
            105,
            20.2,
            54,
            49.5,
            300,
            12,
            61.5,
            23,
            44.4,
            27,
            7,
            24,
            65,
            50.5,
            135.5,
            34,
            180,
            140,
            282.8,
            128.6,
            138.6,
            68,
            38,
            51.5,
            25.5,
            25.9,
            42.5,
            291,
            34,
            52,
            340,
            106.6,
            26.6,
            0.3,
            0.3,
            0.3,
            0.3,
            683,
            336,
            430,
            420,
            650,
            85.6,
            3.1,
            1.4,
            50.5,
            2.1,
            320,
            4,
            8.1,
            16,
            63,
            9.9,
            55.5,
            150,
            5.9,
            24.5,
            94.6,
            11.6,
            27,
            4.1,
            14.7,
            61,
            10.1,
            37.5,
            10.5,
            30.5,
            11,
            28,
            13.5,
            29,
            23.3,
            60.5,
            2.1,
            15,
            29,
            29.8,
            79.5,
            18,
            102,
            260,
            2.1,
            10.5,
            8.5,
            40.4,
            31,
            12.5,
            40,
            87,
            4.5,
            17,
            62,
            55.5,
            51,
            2.5,
            7.3,
            20.5,
            5.3,
            58.5,
            200.5,
            0.6,
            6.6,
            6.6,
            16.3,
            18,
            15.2,
            33.4,
            96.3,
            37.5,
            92.9,
            28,
            14.5,
            200,
            11.8,
            30,
            14,
            1.5,
            76.5,
            16.5,
            81,
            9.5,
            32,
            31,
            107.3,
            12.5,
            81.1,
            5.8,
            7.5,
            5.8,
            18,
            44,
            1,
            8,
            20.1,
            5.5,
            24.2,
            5.7,
            41,
            57.5,
            19.5,
            92.5,
            5,
            5.9,
            33,
            1,
            10.5,
            33,
            135,
            31.6,
            0.6,
            14.3,
            18.8,
            110,
            21,
            51,
            81,
            0.3,
            22,
            80.5,
            9,
            34.5,
            3.1,
            13,
            34.3,
            18,
            36,
            105.5,
            8.5,
            260,
            148,
            7.7,
            25.3,
            11,
            20,
            35.5,
            139,
            92,
            330,
            10.2,
            70,
            94.6,
            10.5,
            41,
            9,
            39.5,
            58,
            33,
            17.3,
            50,
            160,
            28.8,
            46,
            250,
            260,
            200,
            63,
            61,
            330,
            345,
            68,
            325,
            48.5,
            6.5,
            82.5,
            9,
            29,
            90,
            9.4,
            14.5,
            39,
            7,
            10.9,
            40,
            5,
            42.4,
            1.7,
            16,
            24.5,
            2.5,
            8.4,
            17,
            13.5,
            81.5,
            0.1,
            0.9,
            10,
            31,
            91,
            8,
            136,
            28,
            3.5,
            8.5,
            2,
            4.5,
            53,
            0.5,
            15.5,
            3.5,
            5,
            3.5,
            47,
            31,
            96,
            7.3,
            81.5,
            8.3,
            35.3,
            6,
            21,
            26,
            270,
            25.2,
            225,
            23.5,
            21.5,
            2.2,
            5.7,
            2.8,
            17.5,
            150.5,
            3,
            7,
            71,
            5,
            39,
            99.5,
            505,
            8,
            85,
            215,
            203,
            305,
            8.8,
            9,
            195
           ]
          }
         ],
         "marker": {
          "showscale": false,
          "size": 5
         },
         "showupperhalf": true,
         "type": "splom"
        }
       ],
       "layout": {
        "height": 800,
        "template": {
         "data": {
          "bar": [
           {
            "error_x": {
             "color": "#2a3f5f"
            },
            "error_y": {
             "color": "#2a3f5f"
            },
            "marker": {
             "line": {
              "color": "#E5ECF6",
              "width": 0.5
             }
            },
            "type": "bar"
           }
          ],
          "barpolar": [
           {
            "marker": {
             "line": {
              "color": "#E5ECF6",
              "width": 0.5
             }
            },
            "type": "barpolar"
           }
          ],
          "carpet": [
           {
            "aaxis": {
             "endlinecolor": "#2a3f5f",
             "gridcolor": "white",
             "linecolor": "white",
             "minorgridcolor": "white",
             "startlinecolor": "#2a3f5f"
            },
            "baxis": {
             "endlinecolor": "#2a3f5f",
             "gridcolor": "white",
             "linecolor": "white",
             "minorgridcolor": "white",
             "startlinecolor": "#2a3f5f"
            },
            "type": "carpet"
           }
          ],
          "choropleth": [
           {
            "colorbar": {
             "outlinewidth": 0,
             "ticks": ""
            },
            "type": "choropleth"
           }
          ],
          "contour": [
           {
            "colorbar": {
             "outlinewidth": 0,
             "ticks": ""
            },
            "colorscale": [
             [
              0,
              "#0d0887"
             ],
             [
              0.1111111111111111,
              "#46039f"
             ],
             [
              0.2222222222222222,
              "#7201a8"
             ],
             [
              0.3333333333333333,
              "#9c179e"
             ],
             [
              0.4444444444444444,
              "#bd3786"
             ],
             [
              0.5555555555555556,
              "#d8576b"
             ],
             [
              0.6666666666666666,
              "#ed7953"
             ],
             [
              0.7777777777777778,
              "#fb9f3a"
             ],
             [
              0.8888888888888888,
              "#fdca26"
             ],
             [
              1,
              "#f0f921"
             ]
            ],
            "type": "contour"
           }
          ],
          "contourcarpet": [
           {
            "colorbar": {
             "outlinewidth": 0,
             "ticks": ""
            },
            "type": "contourcarpet"
           }
          ],
          "heatmap": [
           {
            "colorbar": {
             "outlinewidth": 0,
             "ticks": ""
            },
            "colorscale": [
             [
              0,
              "#0d0887"
             ],
             [
              0.1111111111111111,
              "#46039f"
             ],
             [
              0.2222222222222222,
              "#7201a8"
             ],
             [
              0.3333333333333333,
              "#9c179e"
             ],
             [
              0.4444444444444444,
              "#bd3786"
             ],
             [
              0.5555555555555556,
              "#d8576b"
             ],
             [
              0.6666666666666666,
              "#ed7953"
             ],
             [
              0.7777777777777778,
              "#fb9f3a"
             ],
             [
              0.8888888888888888,
              "#fdca26"
             ],
             [
              1,
              "#f0f921"
             ]
            ],
            "type": "heatmap"
           }
          ],
          "heatmapgl": [
           {
            "colorbar": {
             "outlinewidth": 0,
             "ticks": ""
            },
            "colorscale": [
             [
              0,
              "#0d0887"
             ],
             [
              0.1111111111111111,
              "#46039f"
             ],
             [
              0.2222222222222222,
              "#7201a8"
             ],
             [
              0.3333333333333333,
              "#9c179e"
             ],
             [
              0.4444444444444444,
              "#bd3786"
             ],
             [
              0.5555555555555556,
              "#d8576b"
             ],
             [
              0.6666666666666666,
              "#ed7953"
             ],
             [
              0.7777777777777778,
              "#fb9f3a"
             ],
             [
              0.8888888888888888,
              "#fdca26"
             ],
             [
              1,
              "#f0f921"
             ]
            ],
            "type": "heatmapgl"
           }
          ],
          "histogram": [
           {
            "marker": {
             "colorbar": {
              "outlinewidth": 0,
              "ticks": ""
             }
            },
            "type": "histogram"
           }
          ],
          "histogram2d": [
           {
            "colorbar": {
             "outlinewidth": 0,
             "ticks": ""
            },
            "colorscale": [
             [
              0,
              "#0d0887"
             ],
             [
              0.1111111111111111,
              "#46039f"
             ],
             [
              0.2222222222222222,
              "#7201a8"
             ],
             [
              0.3333333333333333,
              "#9c179e"
             ],
             [
              0.4444444444444444,
              "#bd3786"
             ],
             [
              0.5555555555555556,
              "#d8576b"
             ],
             [
              0.6666666666666666,
              "#ed7953"
             ],
             [
              0.7777777777777778,
              "#fb9f3a"
             ],
             [
              0.8888888888888888,
              "#fdca26"
             ],
             [
              1,
              "#f0f921"
             ]
            ],
            "type": "histogram2d"
           }
          ],
          "histogram2dcontour": [
           {
            "colorbar": {
             "outlinewidth": 0,
             "ticks": ""
            },
            "colorscale": [
             [
              0,
              "#0d0887"
             ],
             [
              0.1111111111111111,
              "#46039f"
             ],
             [
              0.2222222222222222,
              "#7201a8"
             ],
             [
              0.3333333333333333,
              "#9c179e"
             ],
             [
              0.4444444444444444,
              "#bd3786"
             ],
             [
              0.5555555555555556,
              "#d8576b"
             ],
             [
              0.6666666666666666,
              "#ed7953"
             ],
             [
              0.7777777777777778,
              "#fb9f3a"
             ],
             [
              0.8888888888888888,
              "#fdca26"
             ],
             [
              1,
              "#f0f921"
             ]
            ],
            "type": "histogram2dcontour"
           }
          ],
          "mesh3d": [
           {
            "colorbar": {
             "outlinewidth": 0,
             "ticks": ""
            },
            "type": "mesh3d"
           }
          ],
          "parcoords": [
           {
            "line": {
             "colorbar": {
              "outlinewidth": 0,
              "ticks": ""
             }
            },
            "type": "parcoords"
           }
          ],
          "pie": [
           {
            "automargin": true,
            "type": "pie"
           }
          ],
          "scatter": [
           {
            "marker": {
             "colorbar": {
              "outlinewidth": 0,
              "ticks": ""
             }
            },
            "type": "scatter"
           }
          ],
          "scatter3d": [
           {
            "line": {
             "colorbar": {
              "outlinewidth": 0,
              "ticks": ""
             }
            },
            "marker": {
             "colorbar": {
              "outlinewidth": 0,
              "ticks": ""
             }
            },
            "type": "scatter3d"
           }
          ],
          "scattercarpet": [
           {
            "marker": {
             "colorbar": {
              "outlinewidth": 0,
              "ticks": ""
             }
            },
            "type": "scattercarpet"
           }
          ],
          "scattergeo": [
           {
            "marker": {
             "colorbar": {
              "outlinewidth": 0,
              "ticks": ""
             }
            },
            "type": "scattergeo"
           }
          ],
          "scattergl": [
           {
            "marker": {
             "colorbar": {
              "outlinewidth": 0,
              "ticks": ""
             }
            },
            "type": "scattergl"
           }
          ],
          "scattermapbox": [
           {
            "marker": {
             "colorbar": {
              "outlinewidth": 0,
              "ticks": ""
             }
            },
            "type": "scattermapbox"
           }
          ],
          "scatterpolar": [
           {
            "marker": {
             "colorbar": {
              "outlinewidth": 0,
              "ticks": ""
             }
            },
            "type": "scatterpolar"
           }
          ],
          "scatterpolargl": [
           {
            "marker": {
             "colorbar": {
              "outlinewidth": 0,
              "ticks": ""
             }
            },
            "type": "scatterpolargl"
           }
          ],
          "scatterternary": [
           {
            "marker": {
             "colorbar": {
              "outlinewidth": 0,
              "ticks": ""
             }
            },
            "type": "scatterternary"
           }
          ],
          "surface": [
           {
            "colorbar": {
             "outlinewidth": 0,
             "ticks": ""
            },
            "colorscale": [
             [
              0,
              "#0d0887"
             ],
             [
              0.1111111111111111,
              "#46039f"
             ],
             [
              0.2222222222222222,
              "#7201a8"
             ],
             [
              0.3333333333333333,
              "#9c179e"
             ],
             [
              0.4444444444444444,
              "#bd3786"
             ],
             [
              0.5555555555555556,
              "#d8576b"
             ],
             [
              0.6666666666666666,
              "#ed7953"
             ],
             [
              0.7777777777777778,
              "#fb9f3a"
             ],
             [
              0.8888888888888888,
              "#fdca26"
             ],
             [
              1,
              "#f0f921"
             ]
            ],
            "type": "surface"
           }
          ],
          "table": [
           {
            "cells": {
             "fill": {
              "color": "#EBF0F8"
             },
             "line": {
              "color": "white"
             }
            },
            "header": {
             "fill": {
              "color": "#C8D4E3"
             },
             "line": {
              "color": "white"
             }
            },
            "type": "table"
           }
          ]
         },
         "layout": {
          "annotationdefaults": {
           "arrowcolor": "#2a3f5f",
           "arrowhead": 0,
           "arrowwidth": 1
          },
          "coloraxis": {
           "colorbar": {
            "outlinewidth": 0,
            "ticks": ""
           }
          },
          "colorscale": {
           "diverging": [
            [
             0,
             "#8e0152"
            ],
            [
             0.1,
             "#c51b7d"
            ],
            [
             0.2,
             "#de77ae"
            ],
            [
             0.3,
             "#f1b6da"
            ],
            [
             0.4,
             "#fde0ef"
            ],
            [
             0.5,
             "#f7f7f7"
            ],
            [
             0.6,
             "#e6f5d0"
            ],
            [
             0.7,
             "#b8e186"
            ],
            [
             0.8,
             "#7fbc41"
            ],
            [
             0.9,
             "#4d9221"
            ],
            [
             1,
             "#276419"
            ]
           ],
           "sequential": [
            [
             0,
             "#0d0887"
            ],
            [
             0.1111111111111111,
             "#46039f"
            ],
            [
             0.2222222222222222,
             "#7201a8"
            ],
            [
             0.3333333333333333,
             "#9c179e"
            ],
            [
             0.4444444444444444,
             "#bd3786"
            ],
            [
             0.5555555555555556,
             "#d8576b"
            ],
            [
             0.6666666666666666,
             "#ed7953"
            ],
            [
             0.7777777777777778,
             "#fb9f3a"
            ],
            [
             0.8888888888888888,
             "#fdca26"
            ],
            [
             1,
             "#f0f921"
            ]
           ],
           "sequentialminus": [
            [
             0,
             "#0d0887"
            ],
            [
             0.1111111111111111,
             "#46039f"
            ],
            [
             0.2222222222222222,
             "#7201a8"
            ],
            [
             0.3333333333333333,
             "#9c179e"
            ],
            [
             0.4444444444444444,
             "#bd3786"
            ],
            [
             0.5555555555555556,
             "#d8576b"
            ],
            [
             0.6666666666666666,
             "#ed7953"
            ],
            [
             0.7777777777777778,
             "#fb9f3a"
            ],
            [
             0.8888888888888888,
             "#fdca26"
            ],
            [
             1,
             "#f0f921"
            ]
           ]
          },
          "colorway": [
           "#636efa",
           "#EF553B",
           "#00cc96",
           "#ab63fa",
           "#FFA15A",
           "#19d3f3",
           "#FF6692",
           "#B6E880",
           "#FF97FF",
           "#FECB52"
          ],
          "font": {
           "color": "#2a3f5f"
          },
          "geo": {
           "bgcolor": "white",
           "lakecolor": "white",
           "landcolor": "#E5ECF6",
           "showlakes": true,
           "showland": true,
           "subunitcolor": "white"
          },
          "hoverlabel": {
           "align": "left"
          },
          "hovermode": "closest",
          "mapbox": {
           "style": "light"
          },
          "paper_bgcolor": "white",
          "plot_bgcolor": "#E5ECF6",
          "polar": {
           "angularaxis": {
            "gridcolor": "white",
            "linecolor": "white",
            "ticks": ""
           },
           "bgcolor": "#E5ECF6",
           "radialaxis": {
            "gridcolor": "white",
            "linecolor": "white",
            "ticks": ""
           }
          },
          "scene": {
           "xaxis": {
            "backgroundcolor": "#E5ECF6",
            "gridcolor": "white",
            "gridwidth": 2,
            "linecolor": "white",
            "showbackground": true,
            "ticks": "",
            "zerolinecolor": "white"
           },
           "yaxis": {
            "backgroundcolor": "#E5ECF6",
            "gridcolor": "white",
            "gridwidth": 2,
            "linecolor": "white",
            "showbackground": true,
            "ticks": "",
            "zerolinecolor": "white"
           },
           "zaxis": {
            "backgroundcolor": "#E5ECF6",
            "gridcolor": "white",
            "gridwidth": 2,
            "linecolor": "white",
            "showbackground": true,
            "ticks": "",
            "zerolinecolor": "white"
           }
          },
          "shapedefaults": {
           "line": {
            "color": "#2a3f5f"
           }
          },
          "ternary": {
           "aaxis": {
            "gridcolor": "white",
            "linecolor": "white",
            "ticks": ""
           },
           "baxis": {
            "gridcolor": "white",
            "linecolor": "white",
            "ticks": ""
           },
           "bgcolor": "#E5ECF6",
           "caxis": {
            "gridcolor": "white",
            "linecolor": "white",
            "ticks": ""
           }
          },
          "title": {
           "x": 0.05
          },
          "xaxis": {
           "automargin": true,
           "gridcolor": "white",
           "linecolor": "white",
           "ticks": "",
           "title": {
            "standoff": 15
           },
           "zerolinecolor": "white",
           "zerolinewidth": 2
          },
          "yaxis": {
           "automargin": true,
           "gridcolor": "white",
           "linecolor": "white",
           "ticks": "",
           "title": {
            "standoff": 15
           },
           "zerolinecolor": "white",
           "zerolinewidth": 2
          }
         }
        },
        "width": 800,
        "xaxis": {
         "autorange": true,
         "range": [
          -0.08296644906634279,
          1.0829664490663429
         ],
         "type": "linear"
        },
        "xaxis2": {
         "autorange": true,
         "range": [
          -17.907545164718385,
          275.9075451647184
         ],
         "type": "linear"
        },
        "xaxis3": {
         "autorange": true,
         "range": [
          -1.0947168665553362,
          15.694716866555336
         ],
         "type": "linear"
        },
        "xaxis4": {
         "autorange": true,
         "range": [
          -78.70982996811902,
          1028.809829968119
         ],
         "type": "linear"
        },
        "yaxis": {
         "autorange": true,
         "range": [
          -0.0838957777428975,
          1.0838957777428975
         ],
         "type": "linear"
        },
        "yaxis2": {
         "autorange": true,
         "range": [
          -18.141735991210172,
          276.14173599121017
         ],
         "type": "linear"
        },
        "yaxis3": {
         "autorange": true,
         "range": [
          -1.108099199497724,
          15.708099199497724
         ],
         "type": "linear"
        },
        "yaxis4": {
         "autorange": true,
         "range": [
          -79.59259927797835,
          1029.6925992779784
         ],
         "type": "linear"
        }
       }
      },
      "image/png": "[encoded data removed]",
      "text/html": [
       "<div>\n",
       "        \n",
       "        \n",
       "            <div id=\"44c5fadb-6d2a-4f85-81f1-d5f359252240\" class=\"plotly-graph-div\" style=\"height:800px; width:800px;\"></div>\n",
       "            <script type=\"text/javascript\">\n",
       "                require([\"plotly\"], function(Plotly) {\n",
       "                    window.PLOTLYENV=window.PLOTLYENV || {};\n",
       "                    \n",
       "                if (document.getElementById(\"44c5fadb-6d2a-4f85-81f1-d5f359252240\")) {\n",
       "                    Plotly.newPlot(\n",
       "                        '44c5fadb-6d2a-4f85-81f1-d5f359252240',\n",
       "                        [{\"dimensions\": [{\"label\": \"Pr_Male\", \"values\": [0.875, 0.875, 0.875, 0.875, 0.875, 0.875, 0.875, 0.875, 0.875, 0.5, 0.5, 0.5, 0.5, 0.5, 0.5, 0.5, 0.5, 0.5, 0.5, 0.5, 0.5, 0.5, 0.5, 0.5, 0.5, 0.5, 0.5, 0.5, 0.0, 0.0, 0.0, 1.0, 1.0, 1.0, 0.25, 0.25, 0.25, 0.25, 0.25, 0.25, 0.5, 0.5, 0.5, 0.5, 0.5, 0.5, 0.5, 0.5, 0.5, 0.5, 0.5, 0.5, 0.5, 0.5, 0.5, 0.5, 0.5, 0.75, 0.75, 0.5, 0.5, 0.5, 0.75, 0.75, 0.75, 0.75, 0.75, 0.75, 0.5, 0.5, 0.5, 0.5, 0.5, 0.5, 0.5, 0.5, 0.5, 0.5, 0.5, 0.5, null, null, 0.5, 0.5, 0.5, 0.5, 0.5, 0.5, 0.5, 0.5, 0.5, 0.5, 0.5, 0.5, 0.5, 0.5, 0.5, 0.5, 0.5, null, null, 0.5, 0.5, 0.5, 0.5, 1.0, 1.0, 0.5, 0.5, 0.5, 0.5, 0.5, 0.0, 0.5, 0.0, 0.5, 0.5, 0.5, 0.5, null, null, 0.5, 0.5, 0.0, 0.75, 0.75, 0.5, 1.0, 0.5, 0.5, 0.5, null, 0.875, 0.875, 0.875, 0.875, null, 0.875, 0.875, 0.875, 0.875, 0.875, 0.875, null, null, null, 0.5, 0.5, 0.5, null, null, 0.875, 0.875, 0.875, 0.875, 0.875, 0.875, 0.875, 0.875, 0.875, 0.5, 0.5, 0.5, 0.5, 0.5, 0.5, 0.5, 0.5, 0.5, 0.5, 0.5, 0.5, 0.25, 0.25, 0.875, 0.875, 0.5, 0.5, 0.5, 0.5, 0.5, 0.5, 0.5, 0.5, 0.5, 0.5, 0.5, 0.5, 0.5, 0.5, 0.5, 0.5, 0.5, 0.5, 0.5, 0.875, 0.875, 0.5, 0.5, 0.5, null, 0.5, 0.5, 0.5, 0.5, 0.5, 0.5, 0.5, 0.25, 0.25, 0.5, 0.5, 0.5, 0.5, 0.5, 0.5, 0.5, 0.5, 0.5, 0.5, 0.5, 0.25, 0.5, 0.5, 0.5, 0.5, 0.5, 0.5, 0.5, 0.5, 0.5, 0.5, null, 0.5, 0.5, 1.0, 1.0, 0.0, 0.75, 0.75, 0.0, 0.0, null, null, null, 0.5, 0.5, 0.5, null, null, null, 0.875, 0.875, 0.875, 0.875, 0.875, 0.875, 0.875, 0.875, 0.875, 0.5, 0.5, 0.5, 0.5, 0.5, 0.5, 0.5, 0.5, 0.5, 0.5, 0.5, 0.5, 0.5, 0.5, 0.5, 0.5, 0.5, 0.5, 0.5, 0.5, 0.5, 0.5, 0.5, 0.5, 0.5, 0.5, 0.5, 0.5, 0.5, 0.5, 0.5, null, 0.5, 0.5, 0.5, 0.75, 0.75, 0.25, 0.5, 0.25, 0.25, 0.5, 0.5, 0.5, 0.5, 0.5, 0.5, 0.5, 0.5, 0.5, 0.5, 0.5, 1.0, 0.0, 0.5, 0.5, 0.5, 0.5, 0.5, 0.5, 0.5, 0.5, 0.5, 0.5, 0.5, 0.5, 0.5, 0.5, 0.5, 0.5, 0.5, 0.5, 0.5, 0.5, 0.5, 0.5, null, null, 0.5, 0.5, 0.5, 0.5, null, null, 0.875, 0.875, 0.875, 0.875, 0.5, 0.5, 0.5, 0.5, 0.5, 0.5, 0.5, 0.5, 0.5, 0.5, 0.5, 0.5, 0.5, 0.5, 0.5, 0.5, 0.5, 0.5, 0.5, 0.5, 0.875, 0.25, 0.5, 0.5, 0.5, null, null, null, null, null, null, 0.0, 1.0, null, null, null, null, null, 0.875, 0.875, 0.875, 0.875, 0.875, 0.875, 0.875, 0.875, 0.875, 0.5, 0.5, 0.5, 0.5, 0.5, 0.5, 0.5, 0.5, 0.5, 0.5, 0.5, 0.5, 0.875, 0.875, 0.875, 0.875, 0.5, 0.0, 1.0, 0.875, 0.0, 0.5, 0.5, 0.5, 0.5, 0.5, 0.5, 0.5, 0.5, 0.5, 0.5, 0.5, 0.5, 0.5, 0.5, 0.25, 0.25, 0.5, 0.5, 0.5, null, null, 0.5, 0.5, 0.0, 0.5, 0.5, 0.5, 0.5, 0.5, 0.875, 0.875, 0.875, 0.5, 0.5, 0.5, 0.5, 0.5, 0.5, 0.5, 0.5, 0.5, 0.5, 0.5, 0.5, 0.5, null, 0.5, 0.5, 0.5, 0.75, 0.75, 0.875, 0.5, 0.875, 0.875, 0.5, 0.5, null, 1.0, 0.5, 0.5, 0.0, null, null, null, null, null, null, 0.5, null, null, 0.0, null, null, null, null, null, null, 0.875, 0.875, 0.875, 0.875, 0.875, 0.875, 0.875, 0.875, 0.875, 0.5, 0.5, 0.5, 0.5, 0.5, 0.5, 0.5, 0.875, 0.875, 0.875, 0.875, 0.875, 0.875, 0.5, 0.5, 0.5, 0.5, 0.5, 0.5, 0.5, 0.5, 0.5, 0.5, 0.5, 0.5, 0.5, 0.5, 0.5, 0.75, 0.75, 0.75, 0.5, 0.5, 0.5, 1.0, 1.0, 0.5, 0.5, 0.5, 0.5, 0.5, 0.5, 0.5, 0.5, 0.0, 0.0, 0.5, 0.5, 0.5, 0.5, 0.5, 0.5, 0.5, 0.5, 0.5, 0.5, 0.5, 0.5, 0.5, 0.5, 0.875, 0.875, 0.875, 0.875, 0.5, 0.5, 0.875, 0.875, 0.25, 0.25, 0.25, 0.25, 0.25, 0.5, 0.5, 0.5, 0.5, 0.5, 0.5, 0.5, 0.5, 0.5, 0.5, 0.5, 0.5, 0.5, 0.5, 0.5, 0.5, 0.5, 0.5, 0.5, 0.5, 0.5, 0.5, null, null, null, 0.5, 0.5, 0.5, 0.5, 0.5, 0.5, 0.5, 0.5, 0.5, 0.5, 0.5, 0.5, 0.5, null, 0.5, 0.5, 0.5, 0.5, 0.5, 0.5, null, null, 0.5, 0.5, 0.5, 1.0, 1.0, 0.0, 0.0, 0.5, 0.5, 0.5, 0.5, 0.5, 0.5, 0.5, null, null, null, 1.0, 1.0, null, null, 1.0, null, null, null, null, 0.875, 0.875, 0.875, 0.875, 0.875, 0.875, 0.875, 0.875, 0.875, 0.5, 0.5, 0.5, 0.5, 0.5, 0.5, 0.5, 0.5, 0.125, 0.125, 0.0, 0.0, 0.0, 0.5, 0.5, 0.5, 0.5, 0.5, 0.5, 0.5, 0.5, 0.5, 0.5, 0.5, 0.5, 0.5, 0.5, 0.5, 0.5, 0.5, 0.5, 0.5, 0.5, 0.5, 0.5, 0.5, 0.5, 0.875, 0.875, 0.875, 0.875, 0.875, 0.5, 0.5, null, 0.5, 0.5, 0.5, 0.5, 0.5, 0.5, 0.5, 0.5, 0.5, 0.5, 0.5, 0.5, null, null, null, null, null, null]}, {\"label\": \"Catch_Rate\", \"values\": [45, 45, 45, 45, 45, 45, 45, 45, 45, 255, 120, 45, 255, 120, 45, 255, 120, 45, 255, 127, 255, 90, 255, 90, 190, 75, 255, 90, 235, 120, 45, 235, 120, 45, 150, 25, 190, 75, 170, 50, 255, 90, 255, 120, 45, 190, 75, 190, 75, 255, 50, 255, 90, 190, 75, 190, 75, 190, 75, 255, 120, 45, 200, 100, 50, 180, 90, 45, 255, 120, 45, 190, 60, 255, 120, 45, 190, 60, 190, 75, 190, 60, 45, 190, 45, 190, 75, 190, 75, 190, 60, 190, 90, 45, 45, 190, 75, 225, 60, 190, 60, 90, 45, 190, 75, 45, 45, 45, 190, 60, 120, 60, 30, 45, 45, 225, 75, 225, 60, 225, 60, 45, 45, 45, 45, 45, 45, 45, 255, 45, 45, 35, 45, 45, 45, 45, 45, 45, 45, 45, 45, 45, 25, 3, 3, 3, 45, 45, 45, 3, 45, 45, 45, 45, 45, 45, 45, 45, 45, 45, 255, 90, 255, 90, 255, 90, 255, 90, 90, 190, 75, 190, 150, 170, 190, 75, 190, 75, 235, 120, 45, 45, 190, 75, 65, 45, 255, 120, 45, 45, 235, 120, 75, 255, 90, 45, 45, 30, 70, 45, 225, 45, 60, 190, 75, 190, 60, 25, 190, 75, 45, 25, 190, 45, 60, 120, 60, 190, 75, 225, 75, 60, 190, 75, 45, 25, 25, 120, 45, 45, 120, 60, 45, 45, 45, 75, 45, 45, 45, 45, 45, 30, 3, 3, 3, 45, 45, 45, 3, 3, 45, 45, 45, 45, 45, 45, 45, 45, 45, 45, 255, 127, 255, 90, 255, 120, 45, 120, 45, 255, 120, 45, 255, 120, 45, 200, 45, 190, 45, 235, 120, 45, 200, 75, 255, 90, 255, 120, 45, 255, 120, 45, 190, 120, 45, 180, 200, 150, 255, 255, 60, 45, 45, 180, 90, 45, 180, 90, 120, 45, 200, 200, 150, 150, 150, 225, 75, 225, 60, 125, 60, 255, 150, 90, 255, 60, 255, 255, 120, 45, 190, 60, 255, 45, 90, 90, 45, 45, 190, 75, 205, 155, 255, 90, 45, 45, 45, 45, 255, 60, 45, 200, 225, 45, 190, 90, 200, 45, 30, 125, 190, 75, 255, 120, 45, 255, 60, 60, 25, 225, 45, 45, 45, 3, 3, 3, 3, 3, 3, 3, 3, 3, 3, 45, 3, 3, 45, 45, 45, 45, 45, 45, 45, 45, 45, 255, 120, 45, 255, 127, 255, 45, 235, 120, 45, 255, 75, 45, 45, 45, 45, 120, 45, 45, 120, 45, 200, 190, 75, 190, 75, 190, 75, 45, 125, 60, 190, 60, 45, 30, 190, 75, 120, 225, 60, 255, 90, 255, 145, 130, 30, 100, 45, 45, 45, 50, 75, 45, 140, 60, 120, 45, 140, 75, 200, 190, 75, 25, 120, 60, 45, 30, 30, 30, 30, 30, 30, 30, 30, 45, 45, 30, 50, 30, 45, 60, 45, 75, 45, 3, 3, 3, 3, 3, 3, 3, 3, 3, 30, 3, 3, 45, 3, 3, 45, 45, 45, 45, 45, 45, 45, 45, 45, 255, 255, 255, 120, 45, 255, 90, 190, 75, 190, 75, 190, 75, 190, 75, 255, 120, 45, 190, 75, 255, 120, 45, 190, 45, 120, 60, 255, 180, 90, 45, 255, 120, 45, 45, 45, 255, 120, 45, 255, 120, 45, 190, 75, 190, 75, 25, 180, 90, 45, 120, 60, 255, 190, 75, 180, 90, 45, 190, 90, 45, 45, 45, 45, 190, 60, 75, 45, 255, 60, 200, 100, 50, 200, 100, 50, 190, 45, 255, 120, 45, 190, 75, 200, 200, 75, 190, 75, 190, 60, 75, 190, 75, 255, 90, 130, 60, 30, 190, 60, 30, 255, 90, 190, 90, 45, 75, 60, 45, 120, 60, 25, 200, 75, 75, 180, 45, 45, 190, 90, 120, 45, 45, 190, 60, 190, 60, 90, 90, 45, 45, 45, 45, 15, 3, 3, 3, 3, 3, 3, 3, 3, 3, 3, 3, 3, 45, 45, 45, 45, 45, 45, 45, 45, 45, 255, 127, 255, 120, 45, 255, 120, 45, 220, 65, 225, 120, 45, 200, 45, 220, 65, 160, 190, 75, 180, 90, 45, 200, 140, 200, 140, 190, 80, 120, 45, 225, 55, 225, 55, 190, 75, 45, 45, 45, 45, 45, 100, 180, 60, 45, 45, 45, 75, 120, 60, 120, 60, 190, 55, 190, 45, 45, 45, 3, 3, 3, 3]}, {\"label\": \"Height_m\", \"values\": [0.71, 0.99, 2.01, 0.61, 1.09, 1.7, 0.51, 0.99, 1.6, 0.3, 0.71, 1.09, 0.3, 0.61, 0.99, 0.3, 1.09, 1.5, 0.3, 0.71, 0.3, 1.19, 2.01, 3.51, 0.41, 0.79, 0.61, 0.99, 0.41, 0.79, 1.3, 0.51, 0.89, 1.4, 0.61, 1.3, 0.61, 1.09, 0.51, 0.99, 0.79, 1.6, 0.51, 0.79, 1.19, 0.3, 0.99, 0.99, 1.5, 0.2, 0.71, 0.41, 0.99, 0.79, 1.7, 0.51, 0.99, 0.71, 1.91, 0.61, 0.99, 1.3, 0.89, 1.3, 1.5, 0.79, 1.5, 1.6, 0.71, 0.99, 1.7, 0.89, 1.6, 0.41, 0.99, 1.4, 0.99, 1.7, 1.19, 1.6, 0.3, 0.99, 0.79, 1.4, 1.8, 1.09, 1.7, 0.89, 1.19, 0.3, 1.5, 1.3, 1.6, 1.5, 8.79, 0.99, 1.6, 0.41, 1.3, 0.51, 1.19, 0.41, 2.01, 0.41, 0.99, 1.5, 1.4, 1.19, 0.61, 1.19, 0.99, 1.91, 1.09, 0.99, 2.21, 0.41, 1.19, 0.61, 1.3, 0.79, 1.09, 1.3, 1.5, 1.4, 1.09, 1.3, 1.5, 1.4, 0.89, 6.5, 2.49, 0.3, 0.3, 0.99, 0.79, 0.89, 0.79, 0.41, 0.99, 0.51, 1.3, 1.8, 2.11, 1.7, 1.6, 2.01, 1.8, 3.99, 2.21, 2.01, 0.41, 0.89, 1.19, 1.8, 0.51, 0.89, 1.7, 0.61, 1.09, 2.31, 0.79, 1.8, 0.71, 1.6, 0.99, 1.4, 0.51, 1.09, 1.8, 0.51, 1.19, 0.3, 0.3, 0.3, 0.3, 0.61, 0.2, 1.5, 0.61, 0.79, 1.4, 0.41, 0.41, 0.79, 1.19, 1.09, 0.41, 0.61, 0.79, 0.79, 0.3, 0.79, 1.19, 0.41, 1.4, 0.89, 0.99, 0.51, 2.01, 0.71, 0.51, 1.3, 1.5, 0.61, 1.19, 1.5, 1.09, 9.19, 0.61, 1.4, 0.51, 1.8, 0.61, 1.5, 0.89, 0.61, 1.8, 0.71, 0.79, 0.41, 1.09, 0.61, 0.61, 0.89, 0.89, 2.11, 1.7, 0.61, 1.4, 1.8, 0.51, 1.09, 0.61, 1.4, 1.19, 0.71, 1.4, 0.41, 0.61, 0.71, 1.19, 1.5, 1.91, 2.11, 2.01, 0.61, 1.19, 2.01, 5.21, 3.81, 0.61, 0.51, 0.89, 1.7, 0.41, 0.89, 1.91, 0.41, 0.71, 1.5, 0.51, 0.99, 0.41, 0.51, 0.3, 0.61, 0.99, 0.71, 1.19, 0.51, 1.19, 1.5, 0.51, 0.99, 1.3, 0.3, 0.71, 0.61, 1.19, 0.41, 0.79, 1.6, 0.51, 0.79, 0.41, 1.19, 0.79, 1.4, 2.01, 0.51, 0.79, 0.79, 0.61, 0.99, 1.5, 0.99, 2.31, 0.2, 0.99, 0.61, 1.09, 0.51, 0.61, 0.41, 0.89, 2.11, 0.61, 1.3, 0.61, 1.5, 0.41, 0.41, 0.71, 0.61, 0.3, 0.41, 1.7, 0.79, 1.8, 2.01, 14.5, 0.71, 1.91, 0.51, 0.71, 0.89, 1.09, 0.71, 1.09, 2.01, 0.41, 1.3, 0.41, 1.09, 1.3, 2.69, 0.99, 1.19, 0.41, 0.89, 0.61, 1.09, 0.51, 1.5, 0.99, 1.5, 0.71, 1.5, 0.61, 6.2, 0.3, 0.99, 0.61, 1.09, 0.79, 1.6, 2.01, 0.61, 1.19, 0.61, 0.71, 1.5, 0.79, 1.09, 1.4, 0.41, 1.7, 1.8, 0.99, 0.61, 0.61, 1.09, 1.5, 0.61, 1.19, 1.6, 1.7, 1.8, 1.91, 1.4, 2.01, 4.5, 3.51, 7.01, 0.3, 1.7, 0.41, 1.09, 2.21, 0.51, 0.89, 1.19, 0.41, 0.79, 1.7, 0.3, 0.61, 1.19, 0.51, 0.99, 0.3, 0.99, 0.51, 0.89, 1.4, 0.2, 0.89, 0.89, 1.6, 0.51, 1.3, 0.2, 0.51, 0.89, 0.3, 1.19, 0.41, 0.71, 1.09, 0.41, 0.51, 0.3, 0.89, 1.19, 0.41, 1.19, 0.41, 1.19, 0.89, 0.89, 0.51, 0.99, 0.2, 0.41, 0.99, 0.51, 1.3, 0.51, 0.61, 0.61, 0.51, 0.99, 0.71, 1.4, 1.91, 0.61, 0.71, 1.19, 0.79, 2.01, 0.79, 1.3, 0.71, 1.3, 1.4, 0.41, 1.19, 0.99, 0.99, 2.21, 1.09, 1.19, 1.7, 2.39, 2.01, 1.8, 1.6, 1.5, 1.91, 0.99, 0.79, 2.01, 2.49, 0.89, 1.6, 1.4, 2.21, 1.3, 0.3, 0.3, 0.3, 0.3, 5.41, 4.19, 1.7, 3.71, 6.91, 1.5, 0.41, 0.3, 1.5, 0.2, 3.2, 0.41, 0.61, 0.79, 3.3, 0.51, 0.99, 1.6, 0.51, 0.79, 1.5, 0.51, 1.09, 0.41, 0.89, 1.19, 0.41, 1.09, 0.61, 1.09, 0.61, 0.99, 0.61, 0.99, 0.61, 1.09, 0.3, 0.61, 1.19, 0.79, 1.6, 0.41, 0.89, 1.7, 0.41, 0.89, 0.3, 0.71, 1.09, 0.61, 1.19, 1.4, 0.51, 0.79, 1.5, 1.3, 1.4, 0.3, 0.51, 1.19, 0.41, 1.19, 2.49, 0.3, 0.71, 0.51, 1.09, 0.99, 0.71, 0.99, 1.5, 0.61, 1.3, 0.99, 0.3, 1.4, 0.61, 1.09, 1.4, 0.51, 1.7, 0.71, 1.19, 0.51, 1.4, 0.61, 1.91, 0.71, 1.6, 0.41, 0.51, 0.41, 0.71, 1.5, 0.3, 0.61, 0.99, 0.51, 1.3, 0.41, 1.09, 1.3, 0.61, 1.91, 0.41, 0.51, 0.99, 0.2, 0.61, 1.19, 2.21, 1.19, 0.1, 0.79, 0.61, 0.99, 0.3, 0.61, 0.61, 0.2, 1.19, 2.11, 0.51, 0.99, 0.3, 0.61, 0.99, 0.61, 0.99, 1.8, 0.51, 2.59, 1.09, 0.41, 0.79, 0.71, 0.89, 1.4, 1.6, 0.99, 2.79, 0.51, 1.6, 1.6, 0.51, 1.5, 0.51, 1.19, 1.4, 0.3, 0.79, 1.4, 1.8, 1.09, 1.6, 2.11, 1.91, 2.01, 1.5, 1.5, 3.2, 2.9, 1.5, 3.0, 1.4, 0.61, 1.5, 0.41, 0.71, 1.6, 0.41, 0.99, 1.5, 0.3, 0.61, 1.5, 0.41, 0.99, 0.3, 0.71, 1.19, 0.3, 0.3, 1.19, 0.61, 1.5, 0.1, 0.2, 1.09, 0.89, 1.7, 0.61, 2.11, 1.19, 0.3, 0.61, 0.79, 0.84, 1.7, 0.2, 0.79, 0.41, 0.79, 0.41, 1.5, 0.51, 1.3, 0.51, 1.8, 0.51, 1.3, 0.51, 0.99, 0.79, 2.49, 1.3, 2.69, 0.99, 0.79, 0.2, 0.3, 0.3, 0.79, 2.01, 0.2, 0.41, 1.5, 0.41, 1.7, 0.99, 2.01, 0.51, 1.5, 3.0, 5.79, 5.0, 0.71, 0.51, 1.7]}, {\"label\": \"Weight_kg\", \"values\": [6.9, 13.0, 100.0, 8.5, 19.0, 90.5, 9.0, 22.5, 85.5, 2.9, 9.9, 32.0, 3.2, 10.0, 29.5, 1.8, 30.0, 39.5, 3.5, 18.5, 2.0, 38.0, 6.9, 65.0, 6.0, 30.0, 12.0, 29.5, 7.0, 20.0, 60.0, 9.0, 19.5, 62.0, 7.5, 40.0, 9.9, 19.9, 5.5, 12.0, 7.5, 55.0, 5.4, 8.6, 18.6, 5.4, 29.5, 30.0, 12.5, 0.8, 33.3, 4.2, 32.0, 19.6, 76.6, 28.0, 32.0, 19.0, 155.0, 12.4, 20.0, 54.0, 19.5, 56.5, 48.0, 19.5, 70.5, 130.0, 4.0, 6.4, 15.5, 45.5, 55.0, 20.0, 105.0, 300.0, 30.0, 95.0, 36.0, 78.5, 6.0, 60.0, 15.0, 39.2, 85.2, 90.0, 120.0, 30.0, 30.0, 4.0, 132.5, 0.1, 0.1, 40.5, 210.0, 32.4, 75.6, 6.5, 60.0, 10.4, 66.6, 2.5, 120.0, 6.5, 45.0, 49.8, 50.2, 65.5, 1.0, 9.5, 115.0, 120.0, 34.6, 35.0, 80.0, 8.0, 25.0, 15.0, 39.0, 34.5, 80.0, 54.5, 56.0, 40.6, 30.0, 44.5, 55.0, 88.4, 10.0, 235.0, 220.0, 4.0, 6.5, 29.0, 24.5, 25.0, 36.5, 7.5, 35.0, 11.5, 40.5, 59.0, 460.0, 55.4, 52.6, 60.0, 3.3, 16.5, 210.0, 122.0, 4.0, 6.4, 15.8, 100.5, 7.9, 19.0, 79.5, 9.5, 25.0, 88.8, 6.0, 32.5, 21.2, 40.8, 10.8, 35.6, 8.5, 33.5, 75.0, 12.0, 22.5, 2.0, 3.0, 1.0, 1.5, 3.2, 2.0, 15.0, 7.8, 13.3, 61.5, 5.8, 8.5, 28.5, 38.0, 33.9, 0.5, 1.0, 3.0, 11.5, 1.8, 8.5, 38.0, 8.5, 75.0, 26.5, 27.0, 2.1, 79.5, 1.0, 5.0, 28.5, 41.5, 7.2, 125.8, 14.0, 64.8, 400.0, 7.8, 48.7, 3.9, 118.0, 20.5, 54.0, 28.0, 8.8, 125.8, 35.0, 55.0, 6.5, 55.8, 5.0, 12.0, 28.5, 16.0, 220.0, 50.5, 10.8, 35.0, 152.0, 33.5, 120.0, 32.5, 71.2, 58.0, 21.0, 48.0, 6.0, 23.5, 21.4, 75.5, 46.8, 178.0, 198.0, 187.0, 72.0, 152.0, 202.0, 216.0, 199.0, 5.0, 5.0, 21.6, 52.2, 2.5, 19.5, 52.0, 7.6, 28.0, 81.9, 13.6, 37.0, 17.5, 32.5, 3.6, 10.0, 28.4, 11.5, 31.6, 2.6, 32.5, 55.0, 4.0, 28.0, 59.6, 2.3, 19.8, 9.5, 28.0, 6.6, 20.2, 48.4, 1.7, 3.6, 4.5, 39.2, 24.0, 46.5, 130.5, 5.5, 12.0, 1.2, 16.3, 40.5, 84.0, 86.4, 253.8, 2.0, 97.0, 11.0, 32.6, 11.0, 11.5, 60.0, 120.0, 360.0, 11.2, 31.5, 15.2, 40.2, 4.2, 4.2, 17.7, 17.7, 2.0, 10.3, 80.0, 20.8, 88.8, 130.0, 398.0, 24.0, 220.0, 80.4, 30.6, 71.5, 5.0, 15.0, 15.3, 82.0, 51.3, 77.4, 1.2, 20.6, 40.3, 52.5, 168.0, 154.0, 1.9, 23.6, 11.5, 32.8, 21.5, 108.0, 23.8, 60.4, 12.5, 68.2, 7.4, 162.0, 0.8, 22.0, 2.3, 12.5, 15.0, 30.6, 100.0, 1.0, 47.0, 14.0, 16.8, 256.5, 39.5, 87.6, 150.6, 52.5, 27.0, 22.6, 23.4, 8.7, 42.1, 110.5, 102.6, 95.2, 202.5, 550.0, 230.0, 175.0, 205.0, 40.0, 60.0, 352.0, 950.0, 206.5, 1.1, 60.8, 10.2, 97.0, 310.0, 6.2, 22.0, 55.0, 5.2, 23.0, 84.5, 2.0, 15.5, 24.9, 20.0, 31.5, 2.2, 25.5, 9.5, 30.5, 42.0, 1.2, 14.5, 31.5, 102.5, 57.0, 149.5, 3.4, 6.5, 23.3, 5.5, 38.5, 3.9, 29.5, 33.5, 3.3, 9.3, 6.3, 29.9, 20.3, 1.2, 15.0, 5.5, 33.3, 4.4, 27.3, 3.9, 43.8, 0.6, 19.2, 38.0, 60.5, 187.0, 15.0, 13.0, 24.4, 1.9, 108.0, 20.5, 56.0, 95.0, 105.0, 20.2, 54.0, 49.5, 300.0, 12.0, 61.5, 23.0, 44.4, 27.0, 7.0, 24.0, 65.0, 50.5, 135.5, 34.0, 180.0, 140.0, 282.8, 128.6, 138.6, 68.0, 38.0, 51.5, 25.5, 25.9, 42.5, 291.0, 34.0, 52.0, 340.0, 106.6, 26.6, 0.3, 0.3, 0.3, 0.3, 683.0, 336.0, 430.0, 420.0, 650.0, 85.6, 3.1, 1.4, 50.5, 2.1, 320.0, 4.0, 8.1, 16.0, 63.0, 9.9, 55.5, 150.0, 5.9, 24.5, 94.6, 11.6, 27.0, 4.1, 14.7, 61.0, 10.1, 37.5, 10.5, 30.5, 11.0, 28.0, 13.5, 29.0, 23.3, 60.5, 2.1, 15.0, 29.0, 29.8, 79.5, 18.0, 102.0, 260.0, 2.1, 10.5, 8.5, 40.4, 31.0, 12.5, 40.0, 87.0, 4.5, 17.0, 62.0, 55.5, 51.0, 2.5, 7.3, 20.5, 5.3, 58.5, 200.5, 0.6, 6.6, 6.6, 16.3, 18.0, 15.2, 33.4, 96.3, 37.5, 92.9, 28.0, 14.5, 200.0, 11.8, 30.0, 14.0, 1.5, 76.5, 16.5, 81.0, 9.5, 32.0, 31.0, 107.3, 12.5, 81.1, 5.8, 7.5, 5.8, 18.0, 44.0, 1.0, 8.0, 20.1, 5.5, 24.2, 5.7, 41.0, 57.5, 19.5, 92.5, 5.0, 5.9, 33.0, 1.0, 10.5, 33.0, 135.0, 31.6, 0.6, 14.3, 18.8, 110.0, 21.0, 51.0, 81.0, 0.3, 22.0, 80.5, 9.0, 34.5, 3.1, 13.0, 34.3, 18.0, 36.0, 105.5, 8.5, 260.0, 148.0, 7.7, 25.3, 11.0, 20.0, 35.5, 139.0, 92.0, 330.0, 10.2, 70.0, 94.6, 10.5, 41.0, 9.0, 39.5, 58.0, 33.0, 17.3, 50.0, 160.0, 28.8, 46.0, 250.0, 260.0, 200.0, 63.0, 61.0, 330.0, 345.0, 68.0, 325.0, 48.5, 6.5, 82.5, 9.0, 29.0, 90.0, 9.4, 14.5, 39.0, 7.0, 10.9, 40.0, 5.0, 42.4, 1.7, 16.0, 24.5, 2.5, 8.4, 17.0, 13.5, 81.5, 0.1, 0.9, 10.0, 31.0, 91.0, 8.0, 136.0, 28.0, 3.5, 8.5, 2.0, 4.5, 53.0, 0.5, 15.5, 3.5, 5.0, 3.5, 47.0, 31.0, 96.0, 7.3, 81.5, 8.3, 35.3, 6.0, 21.0, 26.0, 270.0, 25.2, 225.0, 23.5, 21.5, 2.2, 5.7, 2.8, 17.5, 150.5, 3.0, 7.0, 71.0, 5.0, 39.0, 99.5, 505.0, 8.0, 85.0, 215.0, 203.0, 305.0, 8.8, 9.0, 195.0]}], \"marker\": {\"showscale\": false, \"size\": 5}, \"showupperhalf\": true, \"type\": \"splom\"}],\n",
       "                        {\"height\": 800, \"template\": {\"data\": {\"bar\": [{\"error_x\": {\"color\": \"#2a3f5f\"}, \"error_y\": {\"color\": \"#2a3f5f\"}, \"marker\": {\"line\": {\"color\": \"#E5ECF6\", \"width\": 0.5}}, \"type\": \"bar\"}], \"barpolar\": [{\"marker\": {\"line\": {\"color\": \"#E5ECF6\", \"width\": 0.5}}, \"type\": \"barpolar\"}], \"carpet\": [{\"aaxis\": {\"endlinecolor\": \"#2a3f5f\", \"gridcolor\": \"white\", \"linecolor\": \"white\", \"minorgridcolor\": \"white\", \"startlinecolor\": \"#2a3f5f\"}, \"baxis\": {\"endlinecolor\": \"#2a3f5f\", \"gridcolor\": \"white\", \"linecolor\": \"white\", \"minorgridcolor\": \"white\", \"startlinecolor\": \"#2a3f5f\"}, \"type\": \"carpet\"}], \"choropleth\": [{\"colorbar\": {\"outlinewidth\": 0, \"ticks\": \"\"}, \"type\": \"choropleth\"}], \"contour\": [{\"colorbar\": {\"outlinewidth\": 0, \"ticks\": \"\"}, \"colorscale\": [[0.0, \"#0d0887\"], [0.1111111111111111, \"#46039f\"], [0.2222222222222222, \"#7201a8\"], [0.3333333333333333, \"#9c179e\"], [0.4444444444444444, \"#bd3786\"], [0.5555555555555556, \"#d8576b\"], [0.6666666666666666, \"#ed7953\"], [0.7777777777777778, \"#fb9f3a\"], [0.8888888888888888, \"#fdca26\"], [1.0, \"#f0f921\"]], \"type\": \"contour\"}], \"contourcarpet\": [{\"colorbar\": {\"outlinewidth\": 0, \"ticks\": \"\"}, \"type\": \"contourcarpet\"}], \"heatmap\": [{\"colorbar\": {\"outlinewidth\": 0, \"ticks\": \"\"}, \"colorscale\": [[0.0, \"#0d0887\"], [0.1111111111111111, \"#46039f\"], [0.2222222222222222, \"#7201a8\"], [0.3333333333333333, \"#9c179e\"], [0.4444444444444444, \"#bd3786\"], [0.5555555555555556, \"#d8576b\"], [0.6666666666666666, \"#ed7953\"], [0.7777777777777778, \"#fb9f3a\"], [0.8888888888888888, \"#fdca26\"], [1.0, \"#f0f921\"]], \"type\": \"heatmap\"}], \"heatmapgl\": [{\"colorbar\": {\"outlinewidth\": 0, \"ticks\": \"\"}, \"colorscale\": [[0.0, \"#0d0887\"], [0.1111111111111111, \"#46039f\"], [0.2222222222222222, \"#7201a8\"], [0.3333333333333333, \"#9c179e\"], [0.4444444444444444, \"#bd3786\"], [0.5555555555555556, \"#d8576b\"], [0.6666666666666666, \"#ed7953\"], [0.7777777777777778, \"#fb9f3a\"], [0.8888888888888888, \"#fdca26\"], [1.0, \"#f0f921\"]], \"type\": \"heatmapgl\"}], \"histogram\": [{\"marker\": {\"colorbar\": {\"outlinewidth\": 0, \"ticks\": \"\"}}, \"type\": \"histogram\"}], \"histogram2d\": [{\"colorbar\": {\"outlinewidth\": 0, \"ticks\": \"\"}, \"colorscale\": [[0.0, \"#0d0887\"], [0.1111111111111111, \"#46039f\"], [0.2222222222222222, \"#7201a8\"], [0.3333333333333333, \"#9c179e\"], [0.4444444444444444, \"#bd3786\"], [0.5555555555555556, \"#d8576b\"], [0.6666666666666666, \"#ed7953\"], [0.7777777777777778, \"#fb9f3a\"], [0.8888888888888888, \"#fdca26\"], [1.0, \"#f0f921\"]], \"type\": \"histogram2d\"}], \"histogram2dcontour\": [{\"colorbar\": {\"outlinewidth\": 0, \"ticks\": \"\"}, \"colorscale\": [[0.0, \"#0d0887\"], [0.1111111111111111, \"#46039f\"], [0.2222222222222222, \"#7201a8\"], [0.3333333333333333, \"#9c179e\"], [0.4444444444444444, \"#bd3786\"], [0.5555555555555556, \"#d8576b\"], [0.6666666666666666, \"#ed7953\"], [0.7777777777777778, \"#fb9f3a\"], [0.8888888888888888, \"#fdca26\"], [1.0, \"#f0f921\"]], \"type\": \"histogram2dcontour\"}], \"mesh3d\": [{\"colorbar\": {\"outlinewidth\": 0, \"ticks\": \"\"}, \"type\": \"mesh3d\"}], \"parcoords\": [{\"line\": {\"colorbar\": {\"outlinewidth\": 0, \"ticks\": \"\"}}, \"type\": \"parcoords\"}], \"pie\": [{\"automargin\": true, \"type\": \"pie\"}], \"scatter\": [{\"marker\": {\"colorbar\": {\"outlinewidth\": 0, \"ticks\": \"\"}}, \"type\": \"scatter\"}], \"scatter3d\": [{\"line\": {\"colorbar\": {\"outlinewidth\": 0, \"ticks\": \"\"}}, \"marker\": {\"colorbar\": {\"outlinewidth\": 0, \"ticks\": \"\"}}, \"type\": \"scatter3d\"}], \"scattercarpet\": [{\"marker\": {\"colorbar\": {\"outlinewidth\": 0, \"ticks\": \"\"}}, \"type\": \"scattercarpet\"}], \"scattergeo\": [{\"marker\": {\"colorbar\": {\"outlinewidth\": 0, \"ticks\": \"\"}}, \"type\": \"scattergeo\"}], \"scattergl\": [{\"marker\": {\"colorbar\": {\"outlinewidth\": 0, \"ticks\": \"\"}}, \"type\": \"scattergl\"}], \"scattermapbox\": [{\"marker\": {\"colorbar\": {\"outlinewidth\": 0, \"ticks\": \"\"}}, \"type\": \"scattermapbox\"}], \"scatterpolar\": [{\"marker\": {\"colorbar\": {\"outlinewidth\": 0, \"ticks\": \"\"}}, \"type\": \"scatterpolar\"}], \"scatterpolargl\": [{\"marker\": {\"colorbar\": {\"outlinewidth\": 0, \"ticks\": \"\"}}, \"type\": \"scatterpolargl\"}], \"scatterternary\": [{\"marker\": {\"colorbar\": {\"outlinewidth\": 0, \"ticks\": \"\"}}, \"type\": \"scatterternary\"}], \"surface\": [{\"colorbar\": {\"outlinewidth\": 0, \"ticks\": \"\"}, \"colorscale\": [[0.0, \"#0d0887\"], [0.1111111111111111, \"#46039f\"], [0.2222222222222222, \"#7201a8\"], [0.3333333333333333, \"#9c179e\"], [0.4444444444444444, \"#bd3786\"], [0.5555555555555556, \"#d8576b\"], [0.6666666666666666, \"#ed7953\"], [0.7777777777777778, \"#fb9f3a\"], [0.8888888888888888, \"#fdca26\"], [1.0, \"#f0f921\"]], \"type\": \"surface\"}], \"table\": [{\"cells\": {\"fill\": {\"color\": \"#EBF0F8\"}, \"line\": {\"color\": \"white\"}}, \"header\": {\"fill\": {\"color\": \"#C8D4E3\"}, \"line\": {\"color\": \"white\"}}, \"type\": \"table\"}]}, \"layout\": {\"annotationdefaults\": {\"arrowcolor\": \"#2a3f5f\", \"arrowhead\": 0, \"arrowwidth\": 1}, \"coloraxis\": {\"colorbar\": {\"outlinewidth\": 0, \"ticks\": \"\"}}, \"colorscale\": {\"diverging\": [[0, \"#8e0152\"], [0.1, \"#c51b7d\"], [0.2, \"#de77ae\"], [0.3, \"#f1b6da\"], [0.4, \"#fde0ef\"], [0.5, \"#f7f7f7\"], [0.6, \"#e6f5d0\"], [0.7, \"#b8e186\"], [0.8, \"#7fbc41\"], [0.9, \"#4d9221\"], [1, \"#276419\"]], \"sequential\": [[0.0, \"#0d0887\"], [0.1111111111111111, \"#46039f\"], [0.2222222222222222, \"#7201a8\"], [0.3333333333333333, \"#9c179e\"], [0.4444444444444444, \"#bd3786\"], [0.5555555555555556, \"#d8576b\"], [0.6666666666666666, \"#ed7953\"], [0.7777777777777778, \"#fb9f3a\"], [0.8888888888888888, \"#fdca26\"], [1.0, \"#f0f921\"]], \"sequentialminus\": [[0.0, \"#0d0887\"], [0.1111111111111111, \"#46039f\"], [0.2222222222222222, \"#7201a8\"], [0.3333333333333333, \"#9c179e\"], [0.4444444444444444, \"#bd3786\"], [0.5555555555555556, \"#d8576b\"], [0.6666666666666666, \"#ed7953\"], [0.7777777777777778, \"#fb9f3a\"], [0.8888888888888888, \"#fdca26\"], [1.0, \"#f0f921\"]]}, \"colorway\": [\"#636efa\", \"#EF553B\", \"#00cc96\", \"#ab63fa\", \"#FFA15A\", \"#19d3f3\", \"#FF6692\", \"#B6E880\", \"#FF97FF\", \"#FECB52\"], \"font\": {\"color\": \"#2a3f5f\"}, \"geo\": {\"bgcolor\": \"white\", \"lakecolor\": \"white\", \"landcolor\": \"#E5ECF6\", \"showlakes\": true, \"showland\": true, \"subunitcolor\": \"white\"}, \"hoverlabel\": {\"align\": \"left\"}, \"hovermode\": \"closest\", \"mapbox\": {\"style\": \"light\"}, \"paper_bgcolor\": \"white\", \"plot_bgcolor\": \"#E5ECF6\", \"polar\": {\"angularaxis\": {\"gridcolor\": \"white\", \"linecolor\": \"white\", \"ticks\": \"\"}, \"bgcolor\": \"#E5ECF6\", \"radialaxis\": {\"gridcolor\": \"white\", \"linecolor\": \"white\", \"ticks\": \"\"}}, \"scene\": {\"xaxis\": {\"backgroundcolor\": \"#E5ECF6\", \"gridcolor\": \"white\", \"gridwidth\": 2, \"linecolor\": \"white\", \"showbackground\": true, \"ticks\": \"\", \"zerolinecolor\": \"white\"}, \"yaxis\": {\"backgroundcolor\": \"#E5ECF6\", \"gridcolor\": \"white\", \"gridwidth\": 2, \"linecolor\": \"white\", \"showbackground\": true, \"ticks\": \"\", \"zerolinecolor\": \"white\"}, \"zaxis\": {\"backgroundcolor\": \"#E5ECF6\", \"gridcolor\": \"white\", \"gridwidth\": 2, \"linecolor\": \"white\", \"showbackground\": true, \"ticks\": \"\", \"zerolinecolor\": \"white\"}}, \"shapedefaults\": {\"line\": {\"color\": \"#2a3f5f\"}}, \"ternary\": {\"aaxis\": {\"gridcolor\": \"white\", \"linecolor\": \"white\", \"ticks\": \"\"}, \"baxis\": {\"gridcolor\": \"white\", \"linecolor\": \"white\", \"ticks\": \"\"}, \"bgcolor\": \"#E5ECF6\", \"caxis\": {\"gridcolor\": \"white\", \"linecolor\": \"white\", \"ticks\": \"\"}}, \"title\": {\"x\": 0.05}, \"xaxis\": {\"automargin\": true, \"gridcolor\": \"white\", \"linecolor\": \"white\", \"ticks\": \"\", \"title\": {\"standoff\": 15}, \"zerolinecolor\": \"white\", \"zerolinewidth\": 2}, \"yaxis\": {\"automargin\": true, \"gridcolor\": \"white\", \"linecolor\": \"white\", \"ticks\": \"\", \"title\": {\"standoff\": 15}, \"zerolinecolor\": \"white\", \"zerolinewidth\": 2}}}, \"width\": 800},\n",
       "                        {\"responsive\": true}\n",
       "                    ).then(function(){\n",
       "                            \n",
       "var gd = document.getElementById('44c5fadb-6d2a-4f85-81f1-d5f359252240');\n",
       "var x = new MutationObserver(function (mutations, observer) {{\n",
       "        var display = window.getComputedStyle(gd).display;\n",
       "        if (!display || display === 'none') {{\n",
       "            console.log([gd, 'removed!']);\n",
       "            Plotly.purge(gd);\n",
       "            observer.disconnect();\n",
       "        }}\n",
       "}});\n",
       "\n",
       "// Listen for the removal of the full notebook cells\n",
       "var notebookContainer = gd.closest('#notebook-container');\n",
       "if (notebookContainer) {{\n",
       "    x.observe(notebookContainer, {childList: true});\n",
       "}}\n",
       "\n",
       "// Listen for the clearing of the current output cell\n",
       "var outputEl = gd.closest('.output');\n",
       "if (outputEl) {{\n",
       "    x.observe(outputEl, {childList: true});\n",
       "}}\n",
       "\n",
       "                        })\n",
       "                };\n",
       "                });\n",
       "            </script>\n",
       "        </div>"
      ]
     },
     "metadata": {},
     "output_type": "display_data"
    }
   ],
   "source": [
    "d_list = ['Pr_Male', 'Catch_Rate', 'Height_m', 'Weight_kg']#['Catch_Rate', 'HP', 'Attack', 'Defense', 'Sp_Atk', 'Sp_Def', 'Speed']\n",
    "dimensions = []\n",
    "\n",
    "for d in d_list:\n",
    "    dimensions.append(dict(label=d, values=poke[d]))\n",
    "\n",
    "data = go.Splom(dimensions=dimensions, \n",
    "                showupperhalf=True,\n",
    "                marker = dict(size=5, showscale=False,))\n",
    "fig = go.Figure(data=data)\n",
    "fig.update_layout(height=800, width= 800)\n",
    "#fig.show()"
   ]
  },
  {
   "cell_type": "code",
   "execution_count": 82,
   "metadata": {
    "collapsed": true,
    "jupyter": {
     "outputs_hidden": true
    }
   },
   "outputs": [
    {
     "ename": "ValueError",
     "evalue": "\n    Invalid value of type 'builtins.str' received for the 'visible' property of splom.dimension\n        Received value: 'legendonly'\n\n    The 'visible' property must be specified as a bool\n    (either True, or False)",
     "output_type": "error",
     "traceback": [
      "\u001b[1;31m---------------------------------------------------------------------------\u001b[0m",
      "\u001b[1;31mValueError\u001b[0m                                Traceback (most recent call last)",
      "\u001b[1;32m<ipython-input-82-ff07dc8bc403>\u001b[0m in \u001b[0;36m<module>\u001b[1;34m\u001b[0m\n\u001b[0;32m      6\u001b[0m \u001b[1;33m\u001b[0m\u001b[0m\n\u001b[0;32m      7\u001b[0m data = go.Splom(dimensions=dimensions, \n\u001b[1;32m----> 8\u001b[1;33m                 marker = dict(size=5, showscale=False,))\n\u001b[0m\u001b[0;32m      9\u001b[0m \u001b[0mfig\u001b[0m \u001b[1;33m=\u001b[0m \u001b[0mgo\u001b[0m\u001b[1;33m.\u001b[0m\u001b[0mFigure\u001b[0m\u001b[1;33m(\u001b[0m\u001b[0mdata\u001b[0m\u001b[1;33m=\u001b[0m\u001b[0mdata\u001b[0m\u001b[1;33m)\u001b[0m\u001b[1;33m\u001b[0m\u001b[1;33m\u001b[0m\u001b[0m\n\u001b[0;32m     10\u001b[0m \u001b[0mfig\u001b[0m\u001b[1;33m.\u001b[0m\u001b[0mupdate_layout\u001b[0m\u001b[1;33m(\u001b[0m\u001b[0mheight\u001b[0m\u001b[1;33m=\u001b[0m\u001b[1;36m800\u001b[0m\u001b[1;33m)\u001b[0m\u001b[1;33m\u001b[0m\u001b[1;33m\u001b[0m\u001b[0m\n",
      "\u001b[1;32m~\\Anaconda3\\envs\\datac\\lib\\site-packages\\plotly\\graph_objs\\__init__.py\u001b[0m in \u001b[0;36m__init__\u001b[1;34m(self, arg, customdata, customdatasrc, diagonal, dimensions, dimensiondefaults, hoverinfo, hoverinfosrc, hoverlabel, hovertemplate, hovertemplatesrc, hovertext, hovertextsrc, ids, idssrc, legendgroup, marker, meta, metasrc, name, opacity, selected, selectedpoints, showlegend, showlowerhalf, showupperhalf, stream, text, textsrc, uid, uirevision, unselected, visible, xaxes, yaxes, **kwargs)\u001b[0m\n\u001b[0;32m  17537\u001b[0m         \u001b[0mself\u001b[0m\u001b[1;33m[\u001b[0m\u001b[1;34m\"diagonal\"\u001b[0m\u001b[1;33m]\u001b[0m \u001b[1;33m=\u001b[0m \u001b[0mdiagonal\u001b[0m \u001b[1;32mif\u001b[0m \u001b[0mdiagonal\u001b[0m \u001b[1;32mis\u001b[0m \u001b[1;32mnot\u001b[0m \u001b[1;32mNone\u001b[0m \u001b[1;32melse\u001b[0m \u001b[0m_v\u001b[0m\u001b[1;33m\u001b[0m\u001b[1;33m\u001b[0m\u001b[0m\n\u001b[0;32m  17538\u001b[0m         \u001b[0m_v\u001b[0m \u001b[1;33m=\u001b[0m \u001b[0marg\u001b[0m\u001b[1;33m.\u001b[0m\u001b[0mpop\u001b[0m\u001b[1;33m(\u001b[0m\u001b[1;34m\"dimensions\"\u001b[0m\u001b[1;33m,\u001b[0m \u001b[1;32mNone\u001b[0m\u001b[1;33m)\u001b[0m\u001b[1;33m\u001b[0m\u001b[1;33m\u001b[0m\u001b[0m\n\u001b[1;32m> 17539\u001b[1;33m         \u001b[0mself\u001b[0m\u001b[1;33m[\u001b[0m\u001b[1;34m\"dimensions\"\u001b[0m\u001b[1;33m]\u001b[0m \u001b[1;33m=\u001b[0m \u001b[0mdimensions\u001b[0m \u001b[1;32mif\u001b[0m \u001b[0mdimensions\u001b[0m \u001b[1;32mis\u001b[0m \u001b[1;32mnot\u001b[0m \u001b[1;32mNone\u001b[0m \u001b[1;32melse\u001b[0m \u001b[0m_v\u001b[0m\u001b[1;33m\u001b[0m\u001b[1;33m\u001b[0m\u001b[0m\n\u001b[0m\u001b[0;32m  17540\u001b[0m         \u001b[0m_v\u001b[0m \u001b[1;33m=\u001b[0m \u001b[0marg\u001b[0m\u001b[1;33m.\u001b[0m\u001b[0mpop\u001b[0m\u001b[1;33m(\u001b[0m\u001b[1;34m\"dimensiondefaults\"\u001b[0m\u001b[1;33m,\u001b[0m \u001b[1;32mNone\u001b[0m\u001b[1;33m)\u001b[0m\u001b[1;33m\u001b[0m\u001b[1;33m\u001b[0m\u001b[0m\n\u001b[0;32m  17541\u001b[0m         self[\"dimensiondefaults\"] = (\n",
      "\u001b[1;32m~\\Anaconda3\\envs\\datac\\lib\\site-packages\\plotly\\basedatatypes.py\u001b[0m in \u001b[0;36m__setitem__\u001b[1;34m(self, prop, value)\u001b[0m\n\u001b[0;32m   3473\u001b[0m             \u001b[1;31m# ### Handle compound array property ###\u001b[0m\u001b[1;33m\u001b[0m\u001b[1;33m\u001b[0m\u001b[1;33m\u001b[0m\u001b[0m\n\u001b[0;32m   3474\u001b[0m             \u001b[1;32melif\u001b[0m \u001b[0misinstance\u001b[0m\u001b[1;33m(\u001b[0m\u001b[0mvalidator\u001b[0m\u001b[1;33m,\u001b[0m \u001b[1;33m(\u001b[0m\u001b[0mCompoundArrayValidator\u001b[0m\u001b[1;33m,\u001b[0m \u001b[0mBaseDataValidator\u001b[0m\u001b[1;33m)\u001b[0m\u001b[1;33m)\u001b[0m\u001b[1;33m:\u001b[0m\u001b[1;33m\u001b[0m\u001b[1;33m\u001b[0m\u001b[0m\n\u001b[1;32m-> 3475\u001b[1;33m                 \u001b[0mself\u001b[0m\u001b[1;33m.\u001b[0m\u001b[0m_set_array_prop\u001b[0m\u001b[1;33m(\u001b[0m\u001b[0mprop\u001b[0m\u001b[1;33m,\u001b[0m \u001b[0mvalue\u001b[0m\u001b[1;33m)\u001b[0m\u001b[1;33m\u001b[0m\u001b[1;33m\u001b[0m\u001b[0m\n\u001b[0m\u001b[0;32m   3476\u001b[0m \u001b[1;33m\u001b[0m\u001b[0m\n\u001b[0;32m   3477\u001b[0m             \u001b[1;31m# ### Handle simple property ###\u001b[0m\u001b[1;33m\u001b[0m\u001b[1;33m\u001b[0m\u001b[1;33m\u001b[0m\u001b[0m\n",
      "\u001b[1;32m~\\Anaconda3\\envs\\datac\\lib\\site-packages\\plotly\\basedatatypes.py\u001b[0m in \u001b[0;36m_set_array_prop\u001b[1;34m(self, prop, val)\u001b[0m\n\u001b[0;32m   3897\u001b[0m         \u001b[1;31m# ------------\u001b[0m\u001b[1;33m\u001b[0m\u001b[1;33m\u001b[0m\u001b[1;33m\u001b[0m\u001b[0m\n\u001b[0;32m   3898\u001b[0m         \u001b[0mvalidator\u001b[0m \u001b[1;33m=\u001b[0m \u001b[0mself\u001b[0m\u001b[1;33m.\u001b[0m\u001b[0m_validators\u001b[0m\u001b[1;33m.\u001b[0m\u001b[0mget\u001b[0m\u001b[1;33m(\u001b[0m\u001b[0mprop\u001b[0m\u001b[1;33m)\u001b[0m\u001b[1;33m\u001b[0m\u001b[1;33m\u001b[0m\u001b[0m\n\u001b[1;32m-> 3899\u001b[1;33m         \u001b[0mval\u001b[0m \u001b[1;33m=\u001b[0m \u001b[0mvalidator\u001b[0m\u001b[1;33m.\u001b[0m\u001b[0mvalidate_coerce\u001b[0m\u001b[1;33m(\u001b[0m\u001b[0mval\u001b[0m\u001b[1;33m,\u001b[0m \u001b[0mskip_invalid\u001b[0m\u001b[1;33m=\u001b[0m\u001b[0mself\u001b[0m\u001b[1;33m.\u001b[0m\u001b[0m_skip_invalid\u001b[0m\u001b[1;33m)\u001b[0m\u001b[1;33m\u001b[0m\u001b[1;33m\u001b[0m\u001b[0m\n\u001b[0m\u001b[0;32m   3900\u001b[0m \u001b[1;33m\u001b[0m\u001b[0m\n\u001b[0;32m   3901\u001b[0m         \u001b[1;31m# Save deep copies of current and new states\u001b[0m\u001b[1;33m\u001b[0m\u001b[1;33m\u001b[0m\u001b[1;33m\u001b[0m\u001b[0m\n",
      "\u001b[1;32m~\\Anaconda3\\envs\\datac\\lib\\site-packages\\_plotly_utils\\basevalidators.py\u001b[0m in \u001b[0;36mvalidate_coerce\u001b[1;34m(self, v, skip_invalid)\u001b[0m\n\u001b[0;32m   2519\u001b[0m                     \u001b[0mres\u001b[0m\u001b[1;33m.\u001b[0m\u001b[0mappend\u001b[0m\u001b[1;33m(\u001b[0m\u001b[0mself\u001b[0m\u001b[1;33m.\u001b[0m\u001b[0mdata_class\u001b[0m\u001b[1;33m(\u001b[0m\u001b[0mv_el\u001b[0m\u001b[1;33m)\u001b[0m\u001b[1;33m)\u001b[0m\u001b[1;33m\u001b[0m\u001b[1;33m\u001b[0m\u001b[0m\n\u001b[0;32m   2520\u001b[0m                 \u001b[1;32melif\u001b[0m \u001b[0misinstance\u001b[0m\u001b[1;33m(\u001b[0m\u001b[0mv_el\u001b[0m\u001b[1;33m,\u001b[0m \u001b[0mdict\u001b[0m\u001b[1;33m)\u001b[0m\u001b[1;33m:\u001b[0m\u001b[1;33m\u001b[0m\u001b[1;33m\u001b[0m\u001b[0m\n\u001b[1;32m-> 2521\u001b[1;33m                     \u001b[0mres\u001b[0m\u001b[1;33m.\u001b[0m\u001b[0mappend\u001b[0m\u001b[1;33m(\u001b[0m\u001b[0mself\u001b[0m\u001b[1;33m.\u001b[0m\u001b[0mdata_class\u001b[0m\u001b[1;33m(\u001b[0m\u001b[0mv_el\u001b[0m\u001b[1;33m,\u001b[0m \u001b[0mskip_invalid\u001b[0m\u001b[1;33m=\u001b[0m\u001b[0mskip_invalid\u001b[0m\u001b[1;33m)\u001b[0m\u001b[1;33m)\u001b[0m\u001b[1;33m\u001b[0m\u001b[1;33m\u001b[0m\u001b[0m\n\u001b[0m\u001b[0;32m   2522\u001b[0m                 \u001b[1;32melse\u001b[0m\u001b[1;33m:\u001b[0m\u001b[1;33m\u001b[0m\u001b[1;33m\u001b[0m\u001b[0m\n\u001b[0;32m   2523\u001b[0m                     \u001b[1;32mif\u001b[0m \u001b[0mskip_invalid\u001b[0m\u001b[1;33m:\u001b[0m\u001b[1;33m\u001b[0m\u001b[1;33m\u001b[0m\u001b[0m\n",
      "\u001b[1;32m~\\Anaconda3\\envs\\datac\\lib\\site-packages\\plotly\\graph_objs\\splom\\__init__.py\u001b[0m in \u001b[0;36m__init__\u001b[1;34m(self, arg, axis, label, name, templateitemname, values, valuessrc, visible, **kwargs)\u001b[0m\n\u001b[0;32m   2491\u001b[0m         \u001b[0mself\u001b[0m\u001b[1;33m[\u001b[0m\u001b[1;34m\"valuessrc\"\u001b[0m\u001b[1;33m]\u001b[0m \u001b[1;33m=\u001b[0m \u001b[0mvaluessrc\u001b[0m \u001b[1;32mif\u001b[0m \u001b[0mvaluessrc\u001b[0m \u001b[1;32mis\u001b[0m \u001b[1;32mnot\u001b[0m \u001b[1;32mNone\u001b[0m \u001b[1;32melse\u001b[0m \u001b[0m_v\u001b[0m\u001b[1;33m\u001b[0m\u001b[1;33m\u001b[0m\u001b[0m\n\u001b[0;32m   2492\u001b[0m         \u001b[0m_v\u001b[0m \u001b[1;33m=\u001b[0m \u001b[0marg\u001b[0m\u001b[1;33m.\u001b[0m\u001b[0mpop\u001b[0m\u001b[1;33m(\u001b[0m\u001b[1;34m\"visible\"\u001b[0m\u001b[1;33m,\u001b[0m \u001b[1;32mNone\u001b[0m\u001b[1;33m)\u001b[0m\u001b[1;33m\u001b[0m\u001b[1;33m\u001b[0m\u001b[0m\n\u001b[1;32m-> 2493\u001b[1;33m         \u001b[0mself\u001b[0m\u001b[1;33m[\u001b[0m\u001b[1;34m\"visible\"\u001b[0m\u001b[1;33m]\u001b[0m \u001b[1;33m=\u001b[0m \u001b[0mvisible\u001b[0m \u001b[1;32mif\u001b[0m \u001b[0mvisible\u001b[0m \u001b[1;32mis\u001b[0m \u001b[1;32mnot\u001b[0m \u001b[1;32mNone\u001b[0m \u001b[1;32melse\u001b[0m \u001b[0m_v\u001b[0m\u001b[1;33m\u001b[0m\u001b[1;33m\u001b[0m\u001b[0m\n\u001b[0m\u001b[0;32m   2494\u001b[0m \u001b[1;33m\u001b[0m\u001b[0m\n\u001b[0;32m   2495\u001b[0m         \u001b[1;31m# Process unknown kwargs\u001b[0m\u001b[1;33m\u001b[0m\u001b[1;33m\u001b[0m\u001b[1;33m\u001b[0m\u001b[0m\n",
      "\u001b[1;32m~\\Anaconda3\\envs\\datac\\lib\\site-packages\\plotly\\basedatatypes.py\u001b[0m in \u001b[0;36m__setitem__\u001b[1;34m(self, prop, value)\u001b[0m\n\u001b[0;32m   3477\u001b[0m             \u001b[1;31m# ### Handle simple property ###\u001b[0m\u001b[1;33m\u001b[0m\u001b[1;33m\u001b[0m\u001b[1;33m\u001b[0m\u001b[0m\n\u001b[0;32m   3478\u001b[0m             \u001b[1;32melse\u001b[0m\u001b[1;33m:\u001b[0m\u001b[1;33m\u001b[0m\u001b[1;33m\u001b[0m\u001b[0m\n\u001b[1;32m-> 3479\u001b[1;33m                 \u001b[0mself\u001b[0m\u001b[1;33m.\u001b[0m\u001b[0m_set_prop\u001b[0m\u001b[1;33m(\u001b[0m\u001b[0mprop\u001b[0m\u001b[1;33m,\u001b[0m \u001b[0mvalue\u001b[0m\u001b[1;33m)\u001b[0m\u001b[1;33m\u001b[0m\u001b[1;33m\u001b[0m\u001b[0m\n\u001b[0m\u001b[0;32m   3480\u001b[0m \u001b[1;33m\u001b[0m\u001b[0m\n\u001b[0;32m   3481\u001b[0m         \u001b[1;31m# Handle non-scalar case\u001b[0m\u001b[1;33m\u001b[0m\u001b[1;33m\u001b[0m\u001b[1;33m\u001b[0m\u001b[0m\n",
      "\u001b[1;32m~\\Anaconda3\\envs\\datac\\lib\\site-packages\\plotly\\basedatatypes.py\u001b[0m in \u001b[0;36m_set_prop\u001b[1;34m(self, prop, val)\u001b[0m\n\u001b[0;32m   3764\u001b[0m                 \u001b[1;32mreturn\u001b[0m\u001b[1;33m\u001b[0m\u001b[1;33m\u001b[0m\u001b[0m\n\u001b[0;32m   3765\u001b[0m             \u001b[1;32melse\u001b[0m\u001b[1;33m:\u001b[0m\u001b[1;33m\u001b[0m\u001b[1;33m\u001b[0m\u001b[0m\n\u001b[1;32m-> 3766\u001b[1;33m                 \u001b[1;32mraise\u001b[0m \u001b[0merr\u001b[0m\u001b[1;33m\u001b[0m\u001b[1;33m\u001b[0m\u001b[0m\n\u001b[0m\u001b[0;32m   3767\u001b[0m \u001b[1;33m\u001b[0m\u001b[0m\n\u001b[0;32m   3768\u001b[0m         \u001b[1;31m# val is None\u001b[0m\u001b[1;33m\u001b[0m\u001b[1;33m\u001b[0m\u001b[1;33m\u001b[0m\u001b[0m\n",
      "\u001b[1;32m~\\Anaconda3\\envs\\datac\\lib\\site-packages\\plotly\\basedatatypes.py\u001b[0m in \u001b[0;36m_set_prop\u001b[1;34m(self, prop, val)\u001b[0m\n\u001b[0;32m   3759\u001b[0m         \u001b[0mvalidator\u001b[0m \u001b[1;33m=\u001b[0m \u001b[0mself\u001b[0m\u001b[1;33m.\u001b[0m\u001b[0m_validators\u001b[0m\u001b[1;33m.\u001b[0m\u001b[0mget\u001b[0m\u001b[1;33m(\u001b[0m\u001b[0mprop\u001b[0m\u001b[1;33m)\u001b[0m\u001b[1;33m\u001b[0m\u001b[1;33m\u001b[0m\u001b[0m\n\u001b[0;32m   3760\u001b[0m         \u001b[1;32mtry\u001b[0m\u001b[1;33m:\u001b[0m\u001b[1;33m\u001b[0m\u001b[1;33m\u001b[0m\u001b[0m\n\u001b[1;32m-> 3761\u001b[1;33m             \u001b[0mval\u001b[0m \u001b[1;33m=\u001b[0m \u001b[0mvalidator\u001b[0m\u001b[1;33m.\u001b[0m\u001b[0mvalidate_coerce\u001b[0m\u001b[1;33m(\u001b[0m\u001b[0mval\u001b[0m\u001b[1;33m)\u001b[0m\u001b[1;33m\u001b[0m\u001b[1;33m\u001b[0m\u001b[0m\n\u001b[0m\u001b[0;32m   3762\u001b[0m         \u001b[1;32mexcept\u001b[0m \u001b[0mValueError\u001b[0m \u001b[1;32mas\u001b[0m \u001b[0merr\u001b[0m\u001b[1;33m:\u001b[0m\u001b[1;33m\u001b[0m\u001b[1;33m\u001b[0m\u001b[0m\n\u001b[0;32m   3763\u001b[0m             \u001b[1;32mif\u001b[0m \u001b[0mself\u001b[0m\u001b[1;33m.\u001b[0m\u001b[0m_skip_invalid\u001b[0m\u001b[1;33m:\u001b[0m\u001b[1;33m\u001b[0m\u001b[1;33m\u001b[0m\u001b[0m\n",
      "\u001b[1;32m~\\Anaconda3\\envs\\datac\\lib\\site-packages\\_plotly_utils\\basevalidators.py\u001b[0m in \u001b[0;36mvalidate_coerce\u001b[1;34m(self, v)\u001b[0m\n\u001b[0;32m    624\u001b[0m             \u001b[1;32mpass\u001b[0m\u001b[1;33m\u001b[0m\u001b[1;33m\u001b[0m\u001b[0m\n\u001b[0;32m    625\u001b[0m         \u001b[1;32melif\u001b[0m \u001b[1;32mnot\u001b[0m \u001b[0misinstance\u001b[0m\u001b[1;33m(\u001b[0m\u001b[0mv\u001b[0m\u001b[1;33m,\u001b[0m \u001b[0mbool\u001b[0m\u001b[1;33m)\u001b[0m\u001b[1;33m:\u001b[0m\u001b[1;33m\u001b[0m\u001b[1;33m\u001b[0m\u001b[0m\n\u001b[1;32m--> 626\u001b[1;33m             \u001b[0mself\u001b[0m\u001b[1;33m.\u001b[0m\u001b[0mraise_invalid_val\u001b[0m\u001b[1;33m(\u001b[0m\u001b[0mv\u001b[0m\u001b[1;33m)\u001b[0m\u001b[1;33m\u001b[0m\u001b[1;33m\u001b[0m\u001b[0m\n\u001b[0m\u001b[0;32m    627\u001b[0m \u001b[1;33m\u001b[0m\u001b[0m\n\u001b[0;32m    628\u001b[0m         \u001b[1;32mreturn\u001b[0m \u001b[0mv\u001b[0m\u001b[1;33m\u001b[0m\u001b[1;33m\u001b[0m\u001b[0m\n",
      "\u001b[1;32m~\\Anaconda3\\envs\\datac\\lib\\site-packages\\_plotly_utils\\basevalidators.py\u001b[0m in \u001b[0;36mraise_invalid_val\u001b[1;34m(self, v, inds)\u001b[0m\n\u001b[0;32m    281\u001b[0m                 \u001b[0mtyp\u001b[0m\u001b[1;33m=\u001b[0m\u001b[0mtype_str\u001b[0m\u001b[1;33m(\u001b[0m\u001b[0mv\u001b[0m\u001b[1;33m)\u001b[0m\u001b[1;33m,\u001b[0m\u001b[1;33m\u001b[0m\u001b[1;33m\u001b[0m\u001b[0m\n\u001b[0;32m    282\u001b[0m                 \u001b[0mv\u001b[0m\u001b[1;33m=\u001b[0m\u001b[0mrepr\u001b[0m\u001b[1;33m(\u001b[0m\u001b[0mv\u001b[0m\u001b[1;33m)\u001b[0m\u001b[1;33m,\u001b[0m\u001b[1;33m\u001b[0m\u001b[1;33m\u001b[0m\u001b[0m\n\u001b[1;32m--> 283\u001b[1;33m                 \u001b[0mvalid_clr_desc\u001b[0m\u001b[1;33m=\u001b[0m\u001b[0mself\u001b[0m\u001b[1;33m.\u001b[0m\u001b[0mdescription\u001b[0m\u001b[1;33m(\u001b[0m\u001b[1;33m)\u001b[0m\u001b[1;33m,\u001b[0m\u001b[1;33m\u001b[0m\u001b[1;33m\u001b[0m\u001b[0m\n\u001b[0m\u001b[0;32m    284\u001b[0m             )\n\u001b[0;32m    285\u001b[0m         )\n",
      "\u001b[1;31mValueError\u001b[0m: \n    Invalid value of type 'builtins.str' received for the 'visible' property of splom.dimension\n        Received value: 'legendonly'\n\n    The 'visible' property must be specified as a bool\n    (either True, or False)"
     ]
    }
   ],
   "source": [
    "d_list = ['Pr_Male', 'Catch_Rate', 'Type_1', 'Weight_kg']#['Catch_Rate', 'HP', 'Attack', 'Defense', 'Sp_Atk', 'Sp_Def', 'Speed']\n",
    "dimensions = []\n",
    "\n",
    "for d in d_list:\n",
    "    dimensions.append(dict(label=d, values=poke[d], visible='legendonly'))\n",
    "\n",
    "data = go.Splom(dimensions=dimensions, \n",
    "                marker = dict(size=5, showscale=False,))\n",
    "fig = go.Figure(data=data)\n",
    "fig.update_layout(height=800)\n",
    "fig.show()"
   ]
  },
  {
   "cell_type": "code",
   "execution_count": null,
   "metadata": {},
   "outputs": [],
   "source": []
  }
 ],
 "metadata": {
  "kernelspec": {
   "display_name": "Python 3",
   "language": "python",
   "name": "python3"
  },
  "language_info": {
   "codemirror_mode": {
    "name": "ipython",
    "version": 3
   },
   "file_extension": ".py",
   "mimetype": "text/x-python",
   "name": "python",
   "nbconvert_exporter": "python",
   "pygments_lexer": "ipython3",
   "version": "3.6.9"
  }
 },
 "nbformat": 4,
 "nbformat_minor": 4
}
